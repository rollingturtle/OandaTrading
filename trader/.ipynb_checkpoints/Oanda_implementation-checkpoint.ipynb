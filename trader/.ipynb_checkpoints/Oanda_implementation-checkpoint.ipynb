{
 "cells": [
  {
   "cell_type": "markdown",
   "metadata": {},
   "source": [
    "# Real-time Implementation and Automation with Oanda "
   ]
  },
  {
   "cell_type": "markdown",
   "metadata": {},
   "source": [
    "--------------------------------------------------------------------------------------------------------------------"
   ]
  },
  {
   "cell_type": "markdown",
   "metadata": {},
   "source": [
    "_Disclaimer: <br>\n",
    "The following illustrative examples are for general information and educational purposes only. <br>\n",
    "It is neither investment advice nor a recommendation to trade, invest or take whatsoever actions.<br>\n",
    "The below code should only be used in combination with an Oanda Practice/Demo Account and NOT with a Live Trading Account._"
   ]
  },
  {
   "cell_type": "markdown",
   "metadata": {},
   "source": [
    "------------------------------------------------------------------------------------"
   ]
  },
  {
   "cell_type": "markdown",
   "metadata": {},
   "source": [
    "## Recap: Historical Data, real-time Data and Orders"
   ]
  },
  {
   "cell_type": "code",
   "execution_count": 1,
   "metadata": {},
   "outputs": [],
   "source": [
    "import pandas as pd\n",
    "import tpqoa"
   ]
  },
  {
   "cell_type": "code",
   "execution_count": 2,
   "metadata": {},
   "outputs": [],
   "source": [
    "api = tpqoa.tpqoa(\"oanda.cfg\")"
   ]
  },
  {
   "cell_type": "code",
   "execution_count": 3,
   "metadata": {},
   "outputs": [
    {
     "data": {
      "text/plain": [
       "[('AUD/CAD', 'AUD_CAD'),\n",
       " ('AUD/CHF', 'AUD_CHF'),\n",
       " ('AUD/HKD', 'AUD_HKD'),\n",
       " ('AUD/JPY', 'AUD_JPY'),\n",
       " ('AUD/NZD', 'AUD_NZD'),\n",
       " ('AUD/SGD', 'AUD_SGD'),\n",
       " ('AUD/USD', 'AUD_USD'),\n",
       " ('Australia 200', 'AU200_AUD'),\n",
       " ('Brent Crude Oil', 'BCO_USD'),\n",
       " ('Bund', 'DE10YB_EUR'),\n",
       " ('CAD/CHF', 'CAD_CHF'),\n",
       " ('CAD/HKD', 'CAD_HKD'),\n",
       " ('CAD/JPY', 'CAD_JPY'),\n",
       " ('CAD/SGD', 'CAD_SGD'),\n",
       " ('CHF/HKD', 'CHF_HKD'),\n",
       " ('CHF/JPY', 'CHF_JPY'),\n",
       " ('CHF/ZAR', 'CHF_ZAR'),\n",
       " ('China A50', 'CN50_USD'),\n",
       " ('Copper', 'XCU_USD'),\n",
       " ('Corn', 'CORN_USD'),\n",
       " ('EUR/AUD', 'EUR_AUD'),\n",
       " ('EUR/CAD', 'EUR_CAD'),\n",
       " ('EUR/CHF', 'EUR_CHF'),\n",
       " ('EUR/CZK', 'EUR_CZK'),\n",
       " ('EUR/DKK', 'EUR_DKK'),\n",
       " ('EUR/GBP', 'EUR_GBP'),\n",
       " ('EUR/HKD', 'EUR_HKD'),\n",
       " ('EUR/HUF', 'EUR_HUF'),\n",
       " ('EUR/JPY', 'EUR_JPY'),\n",
       " ('EUR/NOK', 'EUR_NOK'),\n",
       " ('EUR/NZD', 'EUR_NZD'),\n",
       " ('EUR/PLN', 'EUR_PLN'),\n",
       " ('EUR/SEK', 'EUR_SEK'),\n",
       " ('EUR/SGD', 'EUR_SGD'),\n",
       " ('EUR/TRY', 'EUR_TRY'),\n",
       " ('EUR/USD', 'EUR_USD'),\n",
       " ('EUR/ZAR', 'EUR_ZAR'),\n",
       " ('Europe 50', 'EU50_EUR'),\n",
       " ('France 40', 'FR40_EUR'),\n",
       " ('GBP/AUD', 'GBP_AUD'),\n",
       " ('GBP/CAD', 'GBP_CAD'),\n",
       " ('GBP/CHF', 'GBP_CHF'),\n",
       " ('GBP/HKD', 'GBP_HKD'),\n",
       " ('GBP/JPY', 'GBP_JPY'),\n",
       " ('GBP/NZD', 'GBP_NZD'),\n",
       " ('GBP/PLN', 'GBP_PLN'),\n",
       " ('GBP/SGD', 'GBP_SGD'),\n",
       " ('GBP/USD', 'GBP_USD'),\n",
       " ('GBP/ZAR', 'GBP_ZAR'),\n",
       " ('Germany 30', 'DE30_EUR'),\n",
       " ('Gold', 'XAU_USD'),\n",
       " ('Gold/AUD', 'XAU_AUD'),\n",
       " ('Gold/CAD', 'XAU_CAD'),\n",
       " ('Gold/CHF', 'XAU_CHF'),\n",
       " ('Gold/EUR', 'XAU_EUR'),\n",
       " ('Gold/GBP', 'XAU_GBP'),\n",
       " ('Gold/HKD', 'XAU_HKD'),\n",
       " ('Gold/JPY', 'XAU_JPY'),\n",
       " ('Gold/NZD', 'XAU_NZD'),\n",
       " ('Gold/SGD', 'XAU_SGD'),\n",
       " ('Gold/Silver', 'XAU_XAG'),\n",
       " ('HKD/JPY', 'HKD_JPY'),\n",
       " ('Hong Kong 33', 'HK33_HKD'),\n",
       " ('India 50', 'IN50_USD'),\n",
       " ('Japan 225', 'JP225_USD'),\n",
       " ('NZD/CAD', 'NZD_CAD'),\n",
       " ('NZD/CHF', 'NZD_CHF'),\n",
       " ('NZD/HKD', 'NZD_HKD'),\n",
       " ('NZD/JPY', 'NZD_JPY'),\n",
       " ('NZD/SGD', 'NZD_SGD'),\n",
       " ('NZD/USD', 'NZD_USD'),\n",
       " ('Natural Gas', 'NATGAS_USD'),\n",
       " ('Netherlands 25', 'NL25_EUR'),\n",
       " ('Palladium', 'XPD_USD'),\n",
       " ('Platinum', 'XPT_USD'),\n",
       " ('SGD/CHF', 'SGD_CHF'),\n",
       " ('SGD/JPY', 'SGD_JPY'),\n",
       " ('Silver', 'XAG_USD'),\n",
       " ('Silver/AUD', 'XAG_AUD'),\n",
       " ('Silver/CAD', 'XAG_CAD'),\n",
       " ('Silver/CHF', 'XAG_CHF'),\n",
       " ('Silver/EUR', 'XAG_EUR'),\n",
       " ('Silver/GBP', 'XAG_GBP'),\n",
       " ('Silver/HKD', 'XAG_HKD'),\n",
       " ('Silver/JPY', 'XAG_JPY'),\n",
       " ('Silver/NZD', 'XAG_NZD'),\n",
       " ('Silver/SGD', 'XAG_SGD'),\n",
       " ('Singapore 30', 'SG30_SGD'),\n",
       " ('Soybeans', 'SOYBN_USD'),\n",
       " ('Sugar', 'SUGAR_USD'),\n",
       " ('TRY/JPY', 'TRY_JPY'),\n",
       " ('Taiwan Index', 'TWIX_USD'),\n",
       " ('UK 100', 'UK100_GBP'),\n",
       " ('UK 10Y Gilt', 'UK10YB_GBP'),\n",
       " ('US 10Y T-Note', 'USB10Y_USD'),\n",
       " ('US 2Y T-Note', 'USB02Y_USD'),\n",
       " ('US 5Y T-Note', 'USB05Y_USD'),\n",
       " ('US Nas 100', 'NAS100_USD'),\n",
       " ('US Russ 2000', 'US2000_USD'),\n",
       " ('US SPX 500', 'SPX500_USD'),\n",
       " ('US T-Bond', 'USB30Y_USD'),\n",
       " ('US Wall St 30', 'US30_USD'),\n",
       " ('USD/CAD', 'USD_CAD'),\n",
       " ('USD/CHF', 'USD_CHF'),\n",
       " ('USD/CNH', 'USD_CNH'),\n",
       " ('USD/CZK', 'USD_CZK'),\n",
       " ('USD/DKK', 'USD_DKK'),\n",
       " ('USD/HKD', 'USD_HKD'),\n",
       " ('USD/HUF', 'USD_HUF'),\n",
       " ('USD/INR', 'USD_INR'),\n",
       " ('USD/JPY', 'USD_JPY'),\n",
       " ('USD/MXN', 'USD_MXN'),\n",
       " ('USD/NOK', 'USD_NOK'),\n",
       " ('USD/PLN', 'USD_PLN'),\n",
       " ('USD/SEK', 'USD_SEK'),\n",
       " ('USD/SGD', 'USD_SGD'),\n",
       " ('USD/THB', 'USD_THB'),\n",
       " ('USD/TRY', 'USD_TRY'),\n",
       " ('USD/ZAR', 'USD_ZAR'),\n",
       " ('West Texas Oil', 'WTICO_USD'),\n",
       " ('Wheat', 'WHEAT_USD'),\n",
       " ('ZAR/JPY', 'ZAR_JPY')]"
      ]
     },
     "execution_count": 3,
     "metadata": {},
     "output_type": "execute_result"
    }
   ],
   "source": [
    "api.get_instruments()"
   ]
  },
  {
   "cell_type": "markdown",
   "metadata": {},
   "source": [
    "__Historical Data__"
   ]
  },
  {
   "cell_type": "code",
   "execution_count": 4,
   "metadata": {},
   "outputs": [
    {
     "data": {
      "text/html": [
       "<div>\n",
       "<style scoped>\n",
       "    .dataframe tbody tr th:only-of-type {\n",
       "        vertical-align: middle;\n",
       "    }\n",
       "\n",
       "    .dataframe tbody tr th {\n",
       "        vertical-align: top;\n",
       "    }\n",
       "\n",
       "    .dataframe thead th {\n",
       "        text-align: right;\n",
       "    }\n",
       "</style>\n",
       "<table border=\"1\" class=\"dataframe\">\n",
       "  <thead>\n",
       "    <tr style=\"text-align: right;\">\n",
       "      <th></th>\n",
       "      <th>o</th>\n",
       "      <th>h</th>\n",
       "      <th>l</th>\n",
       "      <th>c</th>\n",
       "      <th>volume</th>\n",
       "      <th>complete</th>\n",
       "    </tr>\n",
       "    <tr>\n",
       "      <th>time</th>\n",
       "      <th></th>\n",
       "      <th></th>\n",
       "      <th></th>\n",
       "      <th></th>\n",
       "      <th></th>\n",
       "      <th></th>\n",
       "    </tr>\n",
       "  </thead>\n",
       "  <tbody>\n",
       "    <tr>\n",
       "      <th>2021-03-29 00:00:00+00:00</th>\n",
       "      <td>1.17874</td>\n",
       "      <td>1.17884</td>\n",
       "      <td>1.17870</td>\n",
       "      <td>1.17873</td>\n",
       "      <td>34</td>\n",
       "      <td>True</td>\n",
       "    </tr>\n",
       "    <tr>\n",
       "      <th>2021-03-29 00:01:00+00:00</th>\n",
       "      <td>1.17872</td>\n",
       "      <td>1.17873</td>\n",
       "      <td>1.17866</td>\n",
       "      <td>1.17869</td>\n",
       "      <td>31</td>\n",
       "      <td>True</td>\n",
       "    </tr>\n",
       "    <tr>\n",
       "      <th>2021-03-29 00:02:00+00:00</th>\n",
       "      <td>1.17868</td>\n",
       "      <td>1.17869</td>\n",
       "      <td>1.17860</td>\n",
       "      <td>1.17864</td>\n",
       "      <td>27</td>\n",
       "      <td>True</td>\n",
       "    </tr>\n",
       "    <tr>\n",
       "      <th>2021-03-29 00:03:00+00:00</th>\n",
       "      <td>1.17865</td>\n",
       "      <td>1.17874</td>\n",
       "      <td>1.17864</td>\n",
       "      <td>1.17871</td>\n",
       "      <td>14</td>\n",
       "      <td>True</td>\n",
       "    </tr>\n",
       "    <tr>\n",
       "      <th>2021-03-29 00:04:00+00:00</th>\n",
       "      <td>1.17869</td>\n",
       "      <td>1.17872</td>\n",
       "      <td>1.17867</td>\n",
       "      <td>1.17869</td>\n",
       "      <td>18</td>\n",
       "      <td>True</td>\n",
       "    </tr>\n",
       "    <tr>\n",
       "      <th>...</th>\n",
       "      <td>...</td>\n",
       "      <td>...</td>\n",
       "      <td>...</td>\n",
       "      <td>...</td>\n",
       "      <td>...</td>\n",
       "      <td>...</td>\n",
       "    </tr>\n",
       "    <tr>\n",
       "      <th>2021-04-22 23:55:00+00:00</th>\n",
       "      <td>1.20147</td>\n",
       "      <td>1.20147</td>\n",
       "      <td>1.20142</td>\n",
       "      <td>1.20142</td>\n",
       "      <td>9</td>\n",
       "      <td>True</td>\n",
       "    </tr>\n",
       "    <tr>\n",
       "      <th>2021-04-22 23:56:00+00:00</th>\n",
       "      <td>1.20142</td>\n",
       "      <td>1.20144</td>\n",
       "      <td>1.20140</td>\n",
       "      <td>1.20140</td>\n",
       "      <td>4</td>\n",
       "      <td>True</td>\n",
       "    </tr>\n",
       "    <tr>\n",
       "      <th>2021-04-22 23:57:00+00:00</th>\n",
       "      <td>1.20141</td>\n",
       "      <td>1.20141</td>\n",
       "      <td>1.20138</td>\n",
       "      <td>1.20140</td>\n",
       "      <td>5</td>\n",
       "      <td>True</td>\n",
       "    </tr>\n",
       "    <tr>\n",
       "      <th>2021-04-22 23:58:00+00:00</th>\n",
       "      <td>1.20139</td>\n",
       "      <td>1.20142</td>\n",
       "      <td>1.20138</td>\n",
       "      <td>1.20141</td>\n",
       "      <td>10</td>\n",
       "      <td>True</td>\n",
       "    </tr>\n",
       "    <tr>\n",
       "      <th>2021-04-22 23:59:00+00:00</th>\n",
       "      <td>1.20142</td>\n",
       "      <td>1.20146</td>\n",
       "      <td>1.20139</td>\n",
       "      <td>1.20145</td>\n",
       "      <td>14</td>\n",
       "      <td>True</td>\n",
       "    </tr>\n",
       "  </tbody>\n",
       "</table>\n",
       "<p>26422 rows × 6 columns</p>\n",
       "</div>"
      ],
      "text/plain": [
       "                                 o        h        l        c  volume  \\\n",
       "time                                                                    \n",
       "2021-03-29 00:00:00+00:00  1.17874  1.17884  1.17870  1.17873      34   \n",
       "2021-03-29 00:01:00+00:00  1.17872  1.17873  1.17866  1.17869      31   \n",
       "2021-03-29 00:02:00+00:00  1.17868  1.17869  1.17860  1.17864      27   \n",
       "2021-03-29 00:03:00+00:00  1.17865  1.17874  1.17864  1.17871      14   \n",
       "2021-03-29 00:04:00+00:00  1.17869  1.17872  1.17867  1.17869      18   \n",
       "...                            ...      ...      ...      ...     ...   \n",
       "2021-04-22 23:55:00+00:00  1.20147  1.20147  1.20142  1.20142       9   \n",
       "2021-04-22 23:56:00+00:00  1.20142  1.20144  1.20140  1.20140       4   \n",
       "2021-04-22 23:57:00+00:00  1.20141  1.20141  1.20138  1.20140       5   \n",
       "2021-04-22 23:58:00+00:00  1.20139  1.20142  1.20138  1.20141      10   \n",
       "2021-04-22 23:59:00+00:00  1.20142  1.20146  1.20139  1.20145      14   \n",
       "\n",
       "                           complete  \n",
       "time                                 \n",
       "2021-03-29 00:00:00+00:00      True  \n",
       "2021-03-29 00:01:00+00:00      True  \n",
       "2021-03-29 00:02:00+00:00      True  \n",
       "2021-03-29 00:03:00+00:00      True  \n",
       "2021-03-29 00:04:00+00:00      True  \n",
       "...                             ...  \n",
       "2021-04-22 23:55:00+00:00      True  \n",
       "2021-04-22 23:56:00+00:00      True  \n",
       "2021-04-22 23:57:00+00:00      True  \n",
       "2021-04-22 23:58:00+00:00      True  \n",
       "2021-04-22 23:59:00+00:00      True  \n",
       "\n",
       "[26422 rows x 6 columns]"
      ]
     },
     "execution_count": 4,
     "metadata": {},
     "output_type": "execute_result"
    }
   ],
   "source": [
    "api.get_history(instrument = \"EUR_USD\", start = \"2021-03-29\", end = \"2021-04-23\",\n",
    "                granularity = \"M1\", price = \"M\", localize = False)"
   ]
  },
  {
   "cell_type": "markdown",
   "metadata": {},
   "source": [
    "__Streaming ticks / real-time Data__"
   ]
  },
  {
   "cell_type": "code",
   "execution_count": null,
   "metadata": {
    "scrolled": true
   },
   "outputs": [
    {
     "name": "stdout",
     "output_type": "stream",
     "text": [
      "2021-04-23T20:59:53.695376761Z 1.20951 1.20986\n"
     ]
    }
   ],
   "source": [
    "api.stream_data(\"EUR_USD\", stop = 10) "
   ]
  },
  {
   "cell_type": "markdown",
   "metadata": {},
   "source": [
    "__Orders & Trades__"
   ]
  },
  {
   "cell_type": "code",
   "execution_count": null,
   "metadata": {},
   "outputs": [],
   "source": [
    "api.create_order(instrument = \"EUR_USD\", units = 100000)"
   ]
  },
  {
   "cell_type": "code",
   "execution_count": null,
   "metadata": {},
   "outputs": [],
   "source": [
    "api.get_positions()"
   ]
  },
  {
   "cell_type": "code",
   "execution_count": null,
   "metadata": {},
   "outputs": [],
   "source": [
    "api.create_order(instrument = \"EUR_USD\", units = -100000)"
   ]
  },
  {
   "cell_type": "code",
   "execution_count": null,
   "metadata": {},
   "outputs": [],
   "source": [
    "api.get_account_summary()"
   ]
  },
  {
   "cell_type": "code",
   "execution_count": null,
   "metadata": {
    "scrolled": true
   },
   "outputs": [],
   "source": [
    "api.get_transactions()"
   ]
  },
  {
   "cell_type": "code",
   "execution_count": null,
   "metadata": {},
   "outputs": [],
   "source": [
    "api.print_transactions()"
   ]
  },
  {
   "cell_type": "code",
   "execution_count": null,
   "metadata": {},
   "outputs": [],
   "source": [
    "order = api.create_order(instrument = \"EUR_USD\", units = 100000, suppress = True, ret = True)"
   ]
  },
  {
   "cell_type": "code",
   "execution_count": null,
   "metadata": {},
   "outputs": [],
   "source": [
    "order"
   ]
  },
  {
   "cell_type": "code",
   "execution_count": null,
   "metadata": {},
   "outputs": [],
   "source": [
    "order[\"price\"]"
   ]
  },
  {
   "cell_type": "code",
   "execution_count": null,
   "metadata": {},
   "outputs": [],
   "source": [
    "order2 = api.create_order(instrument = \"EUR_USD\", units = -100000, suppress = True, ret = True)"
   ]
  },
  {
   "cell_type": "code",
   "execution_count": null,
   "metadata": {},
   "outputs": [],
   "source": [
    "order2 "
   ]
  },
  {
   "cell_type": "code",
   "execution_count": null,
   "metadata": {},
   "outputs": [],
   "source": [
    "order2[\"price\"]"
   ]
  },
  {
   "cell_type": "code",
   "execution_count": null,
   "metadata": {},
   "outputs": [],
   "source": [
    "float(order2[\"pl\"])"
   ]
  },
  {
   "cell_type": "code",
   "execution_count": null,
   "metadata": {},
   "outputs": [],
   "source": [
    "order2[\"time\"]"
   ]
  },
  {
   "cell_type": "code",
   "execution_count": null,
   "metadata": {},
   "outputs": [],
   "source": [
    "order2[\"units\"]"
   ]
  },
  {
   "cell_type": "code",
   "execution_count": null,
   "metadata": {},
   "outputs": [],
   "source": [
    "order2[\"id\"]"
   ]
  },
  {
   "cell_type": "code",
   "execution_count": null,
   "metadata": {},
   "outputs": [],
   "source": []
  },
  {
   "cell_type": "markdown",
   "metadata": {},
   "source": [
    "## Preview: A Trader Class live in action"
   ]
  },
  {
   "cell_type": "code",
   "execution_count": null,
   "metadata": {},
   "outputs": [],
   "source": [
    "import pandas as pd\n",
    "import numpy as np\n",
    "import tpqoa\n",
    "from datetime import datetime, timedelta\n",
    "import time"
   ]
  },
  {
   "cell_type": "code",
   "execution_count": null,
   "metadata": {},
   "outputs": [],
   "source": [
    "class ConTrader(tpqoa.tpqoa):\n",
    "    def __init__(self, conf_file, instrument, bar_length, window, units):\n",
    "        super().__init__(conf_file)\n",
    "        self.instrument = instrument\n",
    "        self.bar_length = pd.to_timedelta(bar_length)\n",
    "        self.tick_data = pd.DataFrame()\n",
    "        self.raw_data = None\n",
    "        self.data = None \n",
    "        self.last_bar = None\n",
    "        self.units = units\n",
    "        self.position = 0\n",
    "        self.profits = []\n",
    "        \n",
    "        #*****************add strategy-specific attributes here******************\n",
    "        self.window = window\n",
    "        #************************************************************************\n",
    "    \n",
    "    def get_most_recent(self, days = 5):\n",
    "        while True:\n",
    "            time.sleep(2)\n",
    "            now = datetime.utcnow()\n",
    "            now = now - timedelta(microseconds = now.microsecond)\n",
    "            past = now - timedelta(days = days)\n",
    "            df = self.get_history(instrument = self.instrument, start = past, end = now,\n",
    "                                   granularity = \"S5\", price = \"M\", localize = False).c.dropna().to_frame()\n",
    "            df.rename(columns = {\"c\":self.instrument}, inplace = True)\n",
    "            df = df.resample(self.bar_length, label = \"right\").last().dropna().iloc[:-1]\n",
    "            self.raw_data = df.copy()\n",
    "            self.last_bar = self.raw_data.index[-1]\n",
    "            if pd.to_datetime(datetime.utcnow()).tz_localize(\"UTC\") - self.last_bar < self.bar_length:\n",
    "                break\n",
    "                \n",
    "    def on_success(self, time, bid, ask):\n",
    "        print(self.ticks, end = \" \")\n",
    "        \n",
    "        recent_tick = pd.to_datetime(time)\n",
    "        df = pd.DataFrame({self.instrument:(ask + bid)/2}, \n",
    "                          index = [recent_tick])\n",
    "        self.tick_data = self.tick_data.append(df)\n",
    "        \n",
    "        if recent_tick - self.last_bar > self.bar_length:\n",
    "            self.resample_and_join()\n",
    "            self.define_strategy()\n",
    "            self.execute_trades()\n",
    "    \n",
    "    def resample_and_join(self):\n",
    "        self.raw_data = self.raw_data.append(self.tick_data.resample(self.bar_length, \n",
    "                                                                  label=\"right\").last().ffill().iloc[:-1])\n",
    "        self.tick_data = self.tick_data.iloc[-1:]\n",
    "        self.last_bar = self.raw_data.index[-1]\n",
    "    \n",
    "    def define_strategy(self): # \"strategy-specific\"\n",
    "        df = self.raw_data.copy()\n",
    "        \n",
    "        #******************** define your strategy here ************************\n",
    "        df[\"returns\"] = np.log(df[self.instrument] / df[self.instrument].shift())\n",
    "        df[\"position\"] = -np.sign(df.returns.rolling(self.window).mean())\n",
    "        #***********************************************************************\n",
    "        \n",
    "        self.data = df.copy()\n",
    "    \n",
    "    def execute_trades(self):\n",
    "        if self.data[\"position\"].iloc[-1] == 1:\n",
    "            if self.position == 0:\n",
    "                order = self.create_order(self.instrument, self.units, suppress = True, ret = True)\n",
    "                self.report_trade(order, \"GOING LONG\")\n",
    "            elif self.position == -1:\n",
    "                order = self.create_order(self.instrument, self.units * 2, suppress = True, ret = True) \n",
    "                self.report_trade(order, \"GOING LONG\")\n",
    "            self.position = 1\n",
    "        elif self.data[\"position\"].iloc[-1] == -1: \n",
    "            if self.position == 0:\n",
    "                order = self.create_order(self.instrument, -self.units, suppress = True, ret = True)\n",
    "                self.report_trade(order, \"GOING SHORT\")\n",
    "            elif self.position == 1:\n",
    "                order = self.create_order(self.instrument, -self.units * 2, suppress = True, ret = True)\n",
    "                self.report_trade(order, \"GOING SHORT\")\n",
    "            self.position = -1\n",
    "        elif self.data[\"position\"].iloc[-1] == 0:\n",
    "            if self.position == -1:\n",
    "                order = self.create_order(self.instrument, self.units, suppress = True, ret = True) \n",
    "                self.report_trade(order, \"GOING NEUTRAL\")\n",
    "            elif self.position == 1:\n",
    "                order = self.create_order(self.instrument, -self.units, suppress = True, ret = True) \n",
    "                self.report_trade(order, \"GOING NEUTRAL\")\n",
    "            self.position = 0\n",
    "    \n",
    "    def report_trade(self, order, going):\n",
    "        time = order[\"time\"]\n",
    "        units = order[\"units\"]\n",
    "        price = order[\"price\"]\n",
    "        pl = float(order[\"pl\"])\n",
    "        self.profits.append(pl)\n",
    "        cumpl = sum(self.profits)\n",
    "        print(\"\\n\" + 100* \"-\")\n",
    "        print(\"{} | {}\".format(time, going))\n",
    "        print(\"{} | units = {} | price = {} | P&L = {} | Cum P&L = {}\".format(time, units, price, pl, cumpl))\n",
    "        print(100 * \"-\" + \"\\n\")  \n",
    "    "
   ]
  },
  {
   "cell_type": "markdown",
   "metadata": {},
   "source": [
    "__Simple Contrarian: Bar_lenght = 1min | Window = 1 (1 minute)__"
   ]
  },
  {
   "cell_type": "code",
   "execution_count": null,
   "metadata": {},
   "outputs": [],
   "source": [
    "trader = ConTrader(\"oanda.cfg\", \"EUR_USD\", bar_length = \"1min\", window = 1, units = 100000)"
   ]
  },
  {
   "cell_type": "code",
   "execution_count": null,
   "metadata": {
    "scrolled": false
   },
   "outputs": [],
   "source": [
    "trader.get_most_recent()\n",
    "trader.stream_data(trader.instrument, stop = 200)\n",
    "if trader.position != 0: # if we have a final open position\n",
    "    close_order = trader.create_order(trader.instrument, units = -trader.position * trader.units, \n",
    "                                      suppress = True, ret = True) \n",
    "    trader.report_trade(close_order, \"GOING NEUTRAL\")\n",
    "    trader.position = 0"
   ]
  },
  {
   "cell_type": "code",
   "execution_count": null,
   "metadata": {},
   "outputs": [],
   "source": []
  },
  {
   "cell_type": "markdown",
   "metadata": {},
   "source": [
    "__Simple Contrarian: Bar_lenght = 1min | Window = 60 (1 hour)__"
   ]
  },
  {
   "cell_type": "code",
   "execution_count": null,
   "metadata": {},
   "outputs": [],
   "source": [
    "trader = ConTrader(\"oanda.cfg\", \"EUR_USD\", bar_length = \"1min\", window = 60, units = 100000)"
   ]
  },
  {
   "cell_type": "code",
   "execution_count": null,
   "metadata": {
    "scrolled": false
   },
   "outputs": [],
   "source": [
    "trader.get_most_recent()\n",
    "trader.stream_data(trader.instrument, stop = 200)\n",
    "if trader.position != 0: # if we have a final open position\n",
    "    close_order = trader.create_order(trader.instrument, units = -trader.position * trader.units, \n",
    "                                      suppress = True, ret = True) \n",
    "    trader.report_trade(close_order, \"GOING NEUTRAL\")\n",
    "    trader.position = 0"
   ]
  },
  {
   "cell_type": "code",
   "execution_count": null,
   "metadata": {},
   "outputs": [],
   "source": []
  },
  {
   "cell_type": "markdown",
   "metadata": {},
   "source": [
    "## Collecting and storing real-time tick data"
   ]
  },
  {
   "cell_type": "code",
   "execution_count": null,
   "metadata": {},
   "outputs": [],
   "source": [
    "import pandas as pd\n",
    "import tpqoa"
   ]
  },
  {
   "cell_type": "code",
   "execution_count": null,
   "metadata": {},
   "outputs": [],
   "source": [
    "api = tpqoa.tpqoa(\"oanda.cfg\")"
   ]
  },
  {
   "cell_type": "code",
   "execution_count": null,
   "metadata": {},
   "outputs": [],
   "source": [
    "api.stream_data(\"EUR_USD\", stop = 10)"
   ]
  },
  {
   "cell_type": "code",
   "execution_count": null,
   "metadata": {},
   "outputs": [],
   "source": [
    "# two steps: 1) Retrieve tick data 2) call on_sucess() method to print tick data\n",
    "api.stream_data??"
   ]
  },
  {
   "cell_type": "code",
   "execution_count": null,
   "metadata": {},
   "outputs": [],
   "source": [
    "# called by stream_data() when new data is retrieved \n",
    "api.on_success??"
   ]
  },
  {
   "cell_type": "code",
   "execution_count": null,
   "metadata": {},
   "outputs": [],
   "source": [
    "class CloneClass(tpqoa.tpqoa):\n",
    "    \n",
    "    def on_success(self, time, bid, ask):\n",
    "        print(\"Time: {} | Bid: {} | Ask:{}\".format(time, bid, ask))"
   ]
  },
  {
   "cell_type": "code",
   "execution_count": null,
   "metadata": {},
   "outputs": [],
   "source": [
    "api = CloneClass(\"oanda.cfg\")"
   ]
  },
  {
   "cell_type": "code",
   "execution_count": null,
   "metadata": {
    "scrolled": false
   },
   "outputs": [],
   "source": [
    "api.get_instruments()[:5]"
   ]
  },
  {
   "cell_type": "code",
   "execution_count": null,
   "metadata": {},
   "outputs": [],
   "source": [
    "api.stream_data(\"EUR_USD\", stop = 5)"
   ]
  },
  {
   "cell_type": "code",
   "execution_count": null,
   "metadata": {},
   "outputs": [],
   "source": []
  },
  {
   "cell_type": "markdown",
   "metadata": {},
   "source": [
    "## Storing and resampling real-time tick data (Part 1)"
   ]
  },
  {
   "cell_type": "code",
   "execution_count": null,
   "metadata": {},
   "outputs": [],
   "source": [
    "import pandas as pd\n",
    "import tpqoa"
   ]
  },
  {
   "cell_type": "code",
   "execution_count": null,
   "metadata": {},
   "outputs": [],
   "source": [
    "class GetTickData(tpqoa.tpqoa):\n",
    "    \n",
    "    def __init__(self, config_file):\n",
    "        super().__init__(config_file)\n",
    "        self.tick_data = pd.DataFrame()\n",
    "    \n",
    "    def on_success(self, time, bid, ask):\n",
    "        print(time, bid, ask)\n",
    "        df = pd.DataFrame({\"bid\":bid, \"ask\":ask, \"mid\":(ask + bid)/2}, \n",
    "                          index = [pd.to_datetime(time)])\n",
    "        self.tick_data = self.tick_data.append(df)"
   ]
  },
  {
   "cell_type": "code",
   "execution_count": null,
   "metadata": {},
   "outputs": [],
   "source": [
    "td = GetTickData(\"oanda.cfg\")"
   ]
  },
  {
   "cell_type": "code",
   "execution_count": null,
   "metadata": {},
   "outputs": [],
   "source": [
    "td.stream_data(\"EUR_USD\", stop = 10)"
   ]
  },
  {
   "cell_type": "code",
   "execution_count": null,
   "metadata": {},
   "outputs": [],
   "source": [
    "td.tick_data"
   ]
  },
  {
   "cell_type": "code",
   "execution_count": null,
   "metadata": {},
   "outputs": [],
   "source": [
    "td.tick_data.resample(\"1s\", label = \"right\").last().ffill() # resample to 1s bars"
   ]
  },
  {
   "cell_type": "code",
   "execution_count": null,
   "metadata": {},
   "outputs": [],
   "source": [
    "td = GetTickData(\"oanda.cfg\")"
   ]
  },
  {
   "cell_type": "code",
   "execution_count": null,
   "metadata": {},
   "outputs": [],
   "source": [
    "td.stream_data(\"EUR_USD\", stop = 100)"
   ]
  },
  {
   "cell_type": "code",
   "execution_count": null,
   "metadata": {},
   "outputs": [],
   "source": [
    "td.tick_data.resample(\"10s\", label = \"right\").last()#.ffill()"
   ]
  },
  {
   "cell_type": "code",
   "execution_count": null,
   "metadata": {},
   "outputs": [],
   "source": []
  },
  {
   "cell_type": "markdown",
   "metadata": {},
   "source": [
    "## Storing and resampling real-time tick data (Part 2)"
   ]
  },
  {
   "cell_type": "code",
   "execution_count": null,
   "metadata": {},
   "outputs": [],
   "source": [
    "import pandas as pd\n",
    "import tpqoa"
   ]
  },
  {
   "cell_type": "code",
   "execution_count": null,
   "metadata": {},
   "outputs": [],
   "source": [
    "class GetTickData(tpqoa.tpqoa):\n",
    "    \n",
    "    def __init__(self, config_file, bar_length):\n",
    "        super().__init__(config_file)\n",
    "        self.bar_length = bar_length\n",
    "        self.tick_data = pd.DataFrame()\n",
    "    \n",
    "    def on_success(self, time, bid, ask):\n",
    "        print(time, bid, ask)\n",
    "        df = pd.DataFrame({\"bid\":bid, \"ask\":ask, \"mid\":(ask + bid)/2}, \n",
    "                          index = [pd.to_datetime(time)])\n",
    "        self.tick_data = self.tick_data.append(df)\n",
    "        self.data = self.tick_data.resample(self.bar_length, label = \"right\").last().ffill().iloc[:-1]"
   ]
  },
  {
   "cell_type": "code",
   "execution_count": null,
   "metadata": {},
   "outputs": [],
   "source": [
    "td = GetTickData(\"oanda.cfg\", \"5s\")"
   ]
  },
  {
   "cell_type": "code",
   "execution_count": null,
   "metadata": {},
   "outputs": [],
   "source": [
    "td.stream_data(\"EUR_USD\", stop = 20)"
   ]
  },
  {
   "cell_type": "code",
   "execution_count": null,
   "metadata": {},
   "outputs": [],
   "source": [
    "td.data"
   ]
  },
  {
   "cell_type": "code",
   "execution_count": null,
   "metadata": {},
   "outputs": [],
   "source": [
    "td.tick_data"
   ]
  },
  {
   "cell_type": "code",
   "execution_count": null,
   "metadata": {},
   "outputs": [],
   "source": []
  },
  {
   "cell_type": "markdown",
   "metadata": {},
   "source": [
    "## Storing and resampling real-time tick data (Part 3)"
   ]
  },
  {
   "cell_type": "code",
   "execution_count": null,
   "metadata": {},
   "outputs": [],
   "source": [
    "import pandas as pd\n",
    "import tpqoa"
   ]
  },
  {
   "cell_type": "code",
   "execution_count": null,
   "metadata": {},
   "outputs": [],
   "source": [
    "class ConTrader(tpqoa.tpqoa): # Ultimate Goal: Implementing a simple Contrarian Strategy\n",
    "    \n",
    "    def __init__(self, config_file, instrument, bar_length):\n",
    "        super().__init__(config_file)\n",
    "        self.instrument = instrument # define instrument\n",
    "        self.bar_length = bar_length\n",
    "        self.tick_data = pd.DataFrame()\n",
    "    \n",
    "    def on_success(self, time, bid, ask):\n",
    "        print(self.ticks, end = \" \") # Print running Tick number\n",
    "        \n",
    "        # collect and store tick data\n",
    "        df = pd.DataFrame({self.instrument:(ask + bid)/2}, \n",
    "                          index = [pd.to_datetime(time)]) # mid price only\n",
    "        self.tick_data = self.tick_data.append(df)\n",
    "        \n",
    "        self.resample_and_join() # NEW\n",
    "        \n",
    "    def resample_and_join(self): # NEW\n",
    "        self.data = self.tick_data.resample(self.bar_length, label = \"right\").last().ffill().iloc[:-1]"
   ]
  },
  {
   "cell_type": "code",
   "execution_count": null,
   "metadata": {},
   "outputs": [],
   "source": [
    "for i in range(10):\n",
    "    print(i, end = \" \")"
   ]
  },
  {
   "cell_type": "code",
   "execution_count": null,
   "metadata": {},
   "outputs": [],
   "source": [
    "trader = ConTrader(\"oanda.cfg\", \"EUR_USD\", \"5s\")"
   ]
  },
  {
   "cell_type": "code",
   "execution_count": null,
   "metadata": {},
   "outputs": [],
   "source": [
    "trader.stream_data(\"EUR_USD\", stop = 20)"
   ]
  },
  {
   "cell_type": "code",
   "execution_count": null,
   "metadata": {},
   "outputs": [],
   "source": [
    "trader.data"
   ]
  },
  {
   "cell_type": "code",
   "execution_count": null,
   "metadata": {},
   "outputs": [],
   "source": [
    "trader.tick_data"
   ]
  },
  {
   "cell_type": "code",
   "execution_count": null,
   "metadata": {},
   "outputs": [],
   "source": []
  },
  {
   "cell_type": "markdown",
   "metadata": {},
   "source": [
    "## Storing and resampling real-time tick data (Part 4)"
   ]
  },
  {
   "cell_type": "markdown",
   "metadata": {},
   "source": [
    "__When should we resample?__ -> Only when a __full new bar__ is available!<br>\n",
    "-> Whenever there are more than 5s (__bar_length__) between the __most recent tick__ and __last full bar__. "
   ]
  },
  {
   "cell_type": "code",
   "execution_count": null,
   "metadata": {},
   "outputs": [],
   "source": [
    "import pandas as pd\n",
    "import tpqoa\n",
    "from datetime import datetime"
   ]
  },
  {
   "cell_type": "code",
   "execution_count": null,
   "metadata": {},
   "outputs": [],
   "source": [
    "class ConTrader(tpqoa.tpqoa):\n",
    "    \n",
    "    def __init__(self, config_file, instrument, bar_length):\n",
    "        super().__init__(config_file)\n",
    "        self.instrument = instrument\n",
    "        self.bar_length = pd.to_timedelta(bar_length) # Pandas Timedelta Object\n",
    "        self.tick_data = pd.DataFrame()\n",
    "        self.last_bar = pd.to_datetime(datetime.utcnow()).tz_localize(\"UTC\") # UTC time at instantiation\n",
    "    \n",
    "    def on_success(self, time, bid, ask):\n",
    "        print(self.ticks, end = \" \")\n",
    "        \n",
    "        # collect and store tick data\n",
    "        recent_tick = pd.to_datetime(time) # Pandas Timestamp Object\n",
    "        df = pd.DataFrame({self.instrument:(ask + bid)/2}, \n",
    "                          index = [recent_tick])\n",
    "        self.tick_data = self.tick_data.append(df)\n",
    "        \n",
    "        # if a time longer than the bar_lenght has elapsed between last full bar and the most recent tick\n",
    "        if recent_tick - self.last_bar > self.bar_length:\n",
    "            self.resample_and_join()\n",
    "    \n",
    "    def resample_and_join(self):\n",
    "        self.data = self.tick_data.resample(self.bar_length, label = \"right\").last().ffill().iloc[:-1]\n",
    "        self.last_bar = self.data.index[-1]  # update time of last full bar\n",
    "    "
   ]
  },
  {
   "cell_type": "code",
   "execution_count": null,
   "metadata": {},
   "outputs": [],
   "source": [
    "datetime.utcnow()"
   ]
  },
  {
   "cell_type": "code",
   "execution_count": null,
   "metadata": {},
   "outputs": [],
   "source": [
    "pd.to_datetime(datetime.utcnow()).tz_localize(\"UTC\")"
   ]
  },
  {
   "cell_type": "code",
   "execution_count": null,
   "metadata": {},
   "outputs": [],
   "source": [
    "pd.to_timedelta(\"5s\")"
   ]
  },
  {
   "cell_type": "code",
   "execution_count": null,
   "metadata": {},
   "outputs": [],
   "source": [
    "trader = ConTrader(\"oanda.cfg\", \"EUR_USD\", \"5s\")\n",
    "trader.stream_data(trader.instrument, stop = 20)"
   ]
  },
  {
   "cell_type": "code",
   "execution_count": null,
   "metadata": {},
   "outputs": [],
   "source": [
    "trader.data"
   ]
  },
  {
   "cell_type": "code",
   "execution_count": null,
   "metadata": {},
   "outputs": [],
   "source": [
    "trader.tick_data"
   ]
  },
  {
   "cell_type": "code",
   "execution_count": null,
   "metadata": {},
   "outputs": [],
   "source": []
  },
  {
   "cell_type": "markdown",
   "metadata": {},
   "source": [
    "## Storing and resampling real-time tick data (Part 5)"
   ]
  },
  {
   "cell_type": "code",
   "execution_count": null,
   "metadata": {},
   "outputs": [],
   "source": [
    "import pandas as pd\n",
    "import tpqoa\n",
    "from datetime import datetime"
   ]
  },
  {
   "cell_type": "markdown",
   "metadata": {},
   "source": [
    "Goal: Once we have added a new full bar...<br>\n",
    "- delete the correpsonding ticks from self.tick_data\n",
    "- only keep the latest tick (next bar)"
   ]
  },
  {
   "cell_type": "markdown",
   "metadata": {},
   "source": [
    "(Recap: receiving the first tick of the next bar is the signal to resample)"
   ]
  },
  {
   "cell_type": "code",
   "execution_count": null,
   "metadata": {},
   "outputs": [],
   "source": [
    "class ConTrader(tpqoa.tpqoa):\n",
    "    \n",
    "    def __init__(self, config_file, instrument, bar_length):\n",
    "        super().__init__(config_file)\n",
    "        self.instrument = instrument \n",
    "        self.bar_length = pd.to_timedelta(bar_length)\n",
    "        self.tick_data = pd.DataFrame()\n",
    "        self.data = pd.DataFrame() # NEW\n",
    "        self.last_bar = pd.to_datetime(datetime.utcnow()).tz_localize(\"UTC\")\n",
    "    \n",
    "    def on_success(self, time, bid, ask):\n",
    "        print(self.ticks, end = \" \") \n",
    "        \n",
    "        # collect and store tick data\n",
    "        recent_tick = pd.to_datetime(time)\n",
    "        df = pd.DataFrame({self.instrument:(ask + bid)/2}, \n",
    "                          index = [recent_tick]) \n",
    "        self.tick_data = self.tick_data.append(df)\n",
    "        \n",
    "        # if a time longer than the bar_lenght has elapsed between last full bar and the most recent tick\n",
    "        if recent_tick - self.last_bar > self.bar_length:\n",
    "            self.resample_and_join()\n",
    "    \n",
    "    def resample_and_join(self):\n",
    "        #self.data = self.tick_data.resample(self.bar_length, label = \"right\").last().ffill().iloc[:-1]\n",
    "        # NEW: append the most recent ticks (resampled) to self.data\n",
    "        self.data = self.data.append(self.tick_data.resample(self.bar_length, \n",
    "                                                             label=\"right\").last().ffill().iloc[:-1])\n",
    "        self.tick_data = self.tick_data.iloc[-1:] # NEW: only keep the latest tick (next bar)\n",
    "        self.last_bar = self.data.index[-1] "
   ]
  },
  {
   "cell_type": "code",
   "execution_count": null,
   "metadata": {},
   "outputs": [],
   "source": [
    "trader = ConTrader(\"oanda.cfg\", \"EUR_USD\", \"5s\")\n",
    "trader.stream_data(trader.instrument, stop = 20)"
   ]
  },
  {
   "cell_type": "code",
   "execution_count": null,
   "metadata": {},
   "outputs": [],
   "source": [
    "trader.data"
   ]
  },
  {
   "cell_type": "code",
   "execution_count": null,
   "metadata": {},
   "outputs": [],
   "source": [
    "trader.tick_data # only most recent ticks since last full bar"
   ]
  },
  {
   "cell_type": "code",
   "execution_count": null,
   "metadata": {},
   "outputs": [],
   "source": []
  },
  {
   "cell_type": "markdown",
   "metadata": {},
   "source": [
    "## Working with historical data and real-time tick data (Part 1)"
   ]
  },
  {
   "cell_type": "code",
   "execution_count": null,
   "metadata": {},
   "outputs": [],
   "source": [
    "import pandas as pd\n",
    "import tpqoa\n",
    "from datetime import datetime, timedelta"
   ]
  },
  {
   "cell_type": "code",
   "execution_count": null,
   "metadata": {},
   "outputs": [],
   "source": [
    "now = datetime.utcnow()\n",
    "now"
   ]
  },
  {
   "cell_type": "code",
   "execution_count": null,
   "metadata": {},
   "outputs": [],
   "source": [
    "now = now - timedelta(microseconds = now.microsecond)\n",
    "now"
   ]
  },
  {
   "cell_type": "code",
   "execution_count": null,
   "metadata": {},
   "outputs": [],
   "source": [
    "yesterday = now - timedelta(days = 1)\n",
    "yesterday"
   ]
  },
  {
   "cell_type": "code",
   "execution_count": null,
   "metadata": {},
   "outputs": [],
   "source": [
    "api = tpqoa.tpqoa(\"oanda.cfg\")"
   ]
  },
  {
   "cell_type": "code",
   "execution_count": null,
   "metadata": {},
   "outputs": [],
   "source": [
    "instrument = \"EUR_USD\""
   ]
  },
  {
   "cell_type": "code",
   "execution_count": null,
   "metadata": {},
   "outputs": [],
   "source": [
    "df = api.get_history(instrument = instrument, start = yesterday, end = now,\n",
    "                     granularity = \"S5\", price = \"M\", localize = False)\n",
    "df"
   ]
  },
  {
   "cell_type": "code",
   "execution_count": null,
   "metadata": {},
   "outputs": [],
   "source": [
    "df = df.c.dropna().to_frame()\n",
    "df"
   ]
  },
  {
   "cell_type": "code",
   "execution_count": null,
   "metadata": {},
   "outputs": [],
   "source": [
    "df.rename(columns = {\"c\":instrument}, inplace = True)\n",
    "df"
   ]
  },
  {
   "cell_type": "code",
   "execution_count": null,
   "metadata": {},
   "outputs": [],
   "source": [
    "df = df.resample(\"1min\", label = \"right\").last().dropna().iloc[:-1]\n",
    "df"
   ]
  },
  {
   "cell_type": "code",
   "execution_count": null,
   "metadata": {},
   "outputs": [],
   "source": [
    "last_bar = df.index[-1]\n",
    "last_bar"
   ]
  },
  {
   "cell_type": "code",
   "execution_count": null,
   "metadata": {},
   "outputs": [],
   "source": []
  },
  {
   "cell_type": "markdown",
   "metadata": {},
   "source": [
    "## Working with historical data and real-time tick data (Part 2)"
   ]
  },
  {
   "cell_type": "code",
   "execution_count": null,
   "metadata": {},
   "outputs": [],
   "source": [
    "import pandas as pd\n",
    "import tpqoa\n",
    "from datetime import datetime, timedelta"
   ]
  },
  {
   "cell_type": "code",
   "execution_count": null,
   "metadata": {},
   "outputs": [],
   "source": [
    "class ConTrader(tpqoa.tpqoa):\n",
    "    def __init__(self, conf_file, instrument, bar_length):\n",
    "        super().__init__(conf_file)\n",
    "        self.instrument = instrument\n",
    "        self.bar_length = pd.to_timedelta(bar_length)\n",
    "        self.tick_data = pd.DataFrame()\n",
    "        self.data = None # first defined in get_most_recent()\n",
    "        self.last_bar = None # first defined in get_most_recent()\n",
    "    \n",
    "    def get_most_recent(self, days = 5): # NEW\n",
    "        now = datetime.utcnow()\n",
    "        now = now - timedelta(microseconds = now.microsecond)\n",
    "        past = now - timedelta(days = days)\n",
    "        df = self.get_history(instrument = self.instrument, start = past, end = now,\n",
    "                              granularity = \"S5\", price = \"M\", localize = False).c.dropna().to_frame()\n",
    "        df.rename(columns = {\"c\":self.instrument}, inplace = True)\n",
    "        df = df.resample(self.bar_length, label = \"right\").last().dropna().iloc[:-1]\n",
    "        self.data = df.copy() # first defined\n",
    "        self.last_bar = self.data.index[-1] # first defined\n",
    "            \n",
    "    def on_success(self, time, bid, ask):\n",
    "        print(self.ticks, end = \" \")\n",
    "        \n",
    "        # collect and store tick data\n",
    "        recent_tick = pd.to_datetime(time)\n",
    "        df = pd.DataFrame({self.instrument:(ask + bid)/2}, \n",
    "                          index = [recent_tick])\n",
    "        self.tick_data = self.tick_data.append(df)\n",
    "        \n",
    "        # if a time longer than the bar_lenght has elapsed between last full bar and the most recent tick\n",
    "        if recent_tick - self.last_bar > self.bar_length:\n",
    "            self.resample_and_join()\n",
    "            \n",
    "    def resample_and_join(self):\n",
    "        self.data = self.data.append(self.tick_data.resample(self.bar_length, \n",
    "                                                                  label=\"right\").last().ffill().iloc[:-1])\n",
    "        self.tick_data = self.tick_data.iloc[-1:]\n",
    "        self.last_bar = self.data.index[-1]"
   ]
  },
  {
   "cell_type": "code",
   "execution_count": null,
   "metadata": {},
   "outputs": [],
   "source": [
    "trader = ConTrader(\"oanda.cfg\", \"EUR_USD\", \"1m\")"
   ]
  },
  {
   "cell_type": "code",
   "execution_count": null,
   "metadata": {},
   "outputs": [],
   "source": [
    "print(datetime.utcnow())\n",
    "trader.get_most_recent()\n",
    "trader.stream_data(trader.instrument, stop = 50)"
   ]
  },
  {
   "cell_type": "code",
   "execution_count": null,
   "metadata": {},
   "outputs": [],
   "source": [
    "trader.data#.tail(10)"
   ]
  },
  {
   "cell_type": "code",
   "execution_count": null,
   "metadata": {},
   "outputs": [],
   "source": [
    "trader.tick_data"
   ]
  },
  {
   "cell_type": "code",
   "execution_count": null,
   "metadata": {},
   "outputs": [],
   "source": []
  },
  {
   "cell_type": "markdown",
   "metadata": {},
   "source": [
    "## Working with historical data and real-time tick data (Part 3)"
   ]
  },
  {
   "cell_type": "code",
   "execution_count": null,
   "metadata": {},
   "outputs": [],
   "source": [
    "import pandas as pd\n",
    "import tpqoa\n",
    "from datetime import datetime, timedelta\n",
    "import time"
   ]
  },
  {
   "cell_type": "code",
   "execution_count": null,
   "metadata": {},
   "outputs": [],
   "source": [
    "class ConTrader(tpqoa.tpqoa):\n",
    "    def __init__(self, conf_file, instrument, bar_length):\n",
    "        super().__init__(conf_file)\n",
    "        self.instrument = instrument\n",
    "        self.bar_length = pd.to_timedelta(bar_length)\n",
    "        self.tick_data = pd.DataFrame()\n",
    "        self.data = None \n",
    "        self.last_bar = None\n",
    "        \n",
    "        self.count = 0 # for demonstration purposes only\n",
    "    \n",
    "    def get_most_recent(self, days = 5):\n",
    "        while True: # repeat until we get all historical bars\n",
    "            self.count += 1 # for demonstration purposes only\n",
    "            time.sleep(2)\n",
    "            now = datetime.utcnow()\n",
    "            now = now - timedelta(microseconds = now.microsecond)\n",
    "            past = now - timedelta(days = days)\n",
    "            df = self.get_history(instrument = self.instrument, start = past, end = now,\n",
    "                                   granularity = \"S5\", price = \"M\", localize = False).c.dropna().to_frame()\n",
    "            df.rename(columns = {\"c\":self.instrument}, inplace = True)\n",
    "            df = df.resample(self.bar_length, label = \"right\").last().dropna().iloc[:-1]\n",
    "            self.data = df.copy()\n",
    "            self.last_bar = self.data.index[-1]\n",
    "            # accept, if less than [bar_lenght] has elapsed since the last full historical bar and now\n",
    "            if pd.to_datetime(datetime.utcnow()).tz_localize(\"UTC\") - self.last_bar < self.bar_length:\n",
    "                break\n",
    "            \n",
    "    def on_success(self, time, bid, ask):\n",
    "        print(self.ticks, end = \" \")\n",
    "        \n",
    "        # collect and store tick data\n",
    "        recent_tick = pd.to_datetime(time)\n",
    "        df = pd.DataFrame({self.instrument:(ask + bid)/2}, \n",
    "                          index = [recent_tick])\n",
    "        self.tick_data = self.tick_data.append(df)\n",
    "        \n",
    "        # if a time longer than the bar_lenght has elapsed between last full bar and the most recent tick\n",
    "        if recent_tick - self.last_bar >= self.bar_length:\n",
    "            self.resample_and_join()\n",
    "            \n",
    "    def resample_and_join(self):\n",
    "        self.data = self.data.append(self.tick_data.resample(self.bar_length, \n",
    "                                                                  label=\"right\").last().ffill().iloc[:-1])\n",
    "        self.tick_data = self.tick_data.iloc[-1:]\n",
    "        self.last_bar = self.data.index[-1]"
   ]
  },
  {
   "cell_type": "code",
   "execution_count": null,
   "metadata": {},
   "outputs": [],
   "source": [
    "trader = ConTrader(\"oanda.cfg\", \"EUR_USD\", \"1m\")"
   ]
  },
  {
   "cell_type": "code",
   "execution_count": null,
   "metadata": {},
   "outputs": [],
   "source": [
    "print(datetime.utcnow())\n",
    "trader.get_most_recent()\n",
    "trader.stream_data(trader.instrument, stop = 50)"
   ]
  },
  {
   "cell_type": "code",
   "execution_count": null,
   "metadata": {},
   "outputs": [],
   "source": [
    "trader.data#.tail(10)"
   ]
  },
  {
   "cell_type": "code",
   "execution_count": null,
   "metadata": {},
   "outputs": [],
   "source": [
    "trader.count"
   ]
  },
  {
   "cell_type": "code",
   "execution_count": null,
   "metadata": {},
   "outputs": [],
   "source": []
  },
  {
   "cell_type": "markdown",
   "metadata": {},
   "source": [
    "## Defining a Simple Contrarian Trading Strategy"
   ]
  },
  {
   "cell_type": "code",
   "execution_count": null,
   "metadata": {},
   "outputs": [],
   "source": [
    "import pandas as pd\n",
    "import numpy as np\n",
    "import tpqoa\n",
    "from datetime import datetime, timedelta\n",
    "import time"
   ]
  },
  {
   "cell_type": "code",
   "execution_count": null,
   "metadata": {},
   "outputs": [],
   "source": [
    "class ConTrader(tpqoa.tpqoa):\n",
    "    def __init__(self, conf_file, instrument, bar_length, window):\n",
    "        super().__init__(conf_file)\n",
    "        self.instrument = instrument\n",
    "        self.bar_length = pd.to_timedelta(bar_length)\n",
    "        self.tick_data = pd.DataFrame()\n",
    "        self.raw_data = None # NEW\n",
    "        self.data = None \n",
    "        self.last_bar = None\n",
    "        \n",
    "        #*****************add strategy-specific attributes here******************\n",
    "        self.window = window\n",
    "        #************************************************************************\n",
    "    \n",
    "    def get_most_recent(self, days = 5):\n",
    "        while True:\n",
    "            time.sleep(2)\n",
    "            now = datetime.utcnow()\n",
    "            now = now - timedelta(microseconds = now.microsecond)\n",
    "            past = now - timedelta(days = days)\n",
    "            df = self.get_history(instrument = self.instrument, start = past, end = now,\n",
    "                                   granularity = \"S5\", price = \"M\", localize = False).c.dropna().to_frame()\n",
    "            df.rename(columns = {\"c\":self.instrument}, inplace = True)\n",
    "            df = df.resample(self.bar_length, label = \"right\").last().dropna().iloc[:-1]\n",
    "            self.raw_data = df.copy() # raw!\n",
    "            self.last_bar = self.raw_data.index[-1] # raw!\n",
    "            if pd.to_datetime(datetime.utcnow()).tz_localize(\"UTC\") - self.last_bar < self.bar_length:\n",
    "                break\n",
    "            \n",
    "    def on_success(self, time, bid, ask):\n",
    "        print(self.ticks, end = \" \")\n",
    "        \n",
    "        # collect and store tick data\n",
    "        recent_tick = pd.to_datetime(time)\n",
    "        df = pd.DataFrame({self.instrument:(ask + bid)/2}, \n",
    "                          index = [recent_tick])\n",
    "        self.tick_data = self.tick_data.append(df)\n",
    "        \n",
    "        # if a time longer than the bar_lenght has elapsed between last full bar and the most recent tick\n",
    "        if recent_tick - self.last_bar >= self.bar_length:\n",
    "            self.resample_and_join()\n",
    "            self.define_strategy() # Prepare Data / Strategy Features\n",
    "            \n",
    "    def resample_and_join(self):\n",
    "        self.raw_data = self.raw_data.append(self.tick_data.resample(self.bar_length, \n",
    "                                                                  label=\"right\").last().ffill().iloc[:-1]) # raw!\n",
    "        self.tick_data = self.tick_data.iloc[-1:]\n",
    "        self.last_bar = self.raw_data.index[-1] # raw! \n",
    "        \n",
    "    def define_strategy(self): # \"strategy-specific\"\n",
    "        df = self.raw_data.copy() # self.raw_data new!\n",
    "        \n",
    "        #******************** define your strategy here ************************\n",
    "        df[\"returns\"] = np.log(df[self.instrument] / df[self.instrument].shift())\n",
    "        df[\"position\"] = -np.sign(df.returns.rolling(self.window).mean())\n",
    "        #***********************************************************************\n",
    "        \n",
    "        self.data = df.copy() # first defined here\n"
   ]
  },
  {
   "cell_type": "code",
   "execution_count": null,
   "metadata": {},
   "outputs": [],
   "source": [
    "trader = ConTrader(\"oanda.cfg\", \"EUR_USD\", \"1min\", window = 1)"
   ]
  },
  {
   "cell_type": "code",
   "execution_count": null,
   "metadata": {},
   "outputs": [],
   "source": [
    "print(datetime.utcnow())\n",
    "trader.get_most_recent()\n",
    "trader.stream_data(trader.instrument, stop = 100)"
   ]
  },
  {
   "cell_type": "code",
   "execution_count": null,
   "metadata": {},
   "outputs": [],
   "source": [
    "trader.raw_data"
   ]
  },
  {
   "cell_type": "code",
   "execution_count": null,
   "metadata": {},
   "outputs": [],
   "source": [
    "trader.data"
   ]
  },
  {
   "cell_type": "code",
   "execution_count": null,
   "metadata": {},
   "outputs": [],
   "source": []
  },
  {
   "cell_type": "markdown",
   "metadata": {},
   "source": [
    "## Placing Orders and Executing Trades"
   ]
  },
  {
   "cell_type": "code",
   "execution_count": null,
   "metadata": {},
   "outputs": [],
   "source": [
    "import pandas as pd\n",
    "import numpy as np\n",
    "import tpqoa\n",
    "from datetime import datetime, timedelta\n",
    "import time"
   ]
  },
  {
   "cell_type": "code",
   "execution_count": null,
   "metadata": {},
   "outputs": [],
   "source": [
    "class ConTrader(tpqoa.tpqoa):\n",
    "    def __init__(self, conf_file, instrument, bar_length, window, units):\n",
    "        super().__init__(conf_file)\n",
    "        self.instrument = instrument\n",
    "        self.bar_length = pd.to_timedelta(bar_length)\n",
    "        self.tick_data = pd.DataFrame()\n",
    "        self.raw_data = None\n",
    "        self.data = None \n",
    "        self.last_bar = None\n",
    "        self.units = units # NEW\n",
    "        self.position = 0 # NEW\n",
    "        \n",
    "        #*****************add strategy-specific attributes here******************\n",
    "        self.window = window\n",
    "        #************************************************************************\n",
    "    \n",
    "    def get_most_recent(self, days = 5):\n",
    "        while True:\n",
    "            time.sleep(2)\n",
    "            now = datetime.utcnow()\n",
    "            now = now - timedelta(microseconds = now.microsecond)\n",
    "            past = now - timedelta(days = days)\n",
    "            df = self.get_history(instrument = self.instrument, start = past, end = now,\n",
    "                                   granularity = \"S5\", price = \"M\", localize = False).c.dropna().to_frame()\n",
    "            df.rename(columns = {\"c\":self.instrument}, inplace = True)\n",
    "            df = df.resample(self.bar_length, label = \"right\").last().dropna().iloc[:-1]\n",
    "            self.raw_data = df.copy()\n",
    "            self.last_bar = self.raw_data.index[-1]\n",
    "            if pd.to_datetime(datetime.utcnow()).tz_localize(\"UTC\") - self.last_bar < self.bar_length:\n",
    "                break\n",
    "            \n",
    "    def on_success(self, time, bid, ask):\n",
    "        print(self.ticks, end = \" \")\n",
    "        \n",
    "        # collect and store tick data\n",
    "        recent_tick = pd.to_datetime(time)\n",
    "        df = pd.DataFrame({self.instrument:(ask + bid)/2}, \n",
    "                          index = [recent_tick])\n",
    "        self.tick_data = self.tick_data.append(df)\n",
    "        \n",
    "        # if a time longer than the bar_lenght has elapsed between last full bar and the most recent tick\n",
    "        if recent_tick - self.last_bar >= self.bar_length:\n",
    "            self.resample_and_join()\n",
    "            self.define_strategy()\n",
    "            self.execute_trades() # NEW!\n",
    "            \n",
    "    def resample_and_join(self):\n",
    "        self.raw_data = self.raw_data.append(self.tick_data.resample(self.bar_length, \n",
    "                                                                  label=\"right\").last().ffill().iloc[:-1])\n",
    "        self.tick_data = self.tick_data.iloc[-1:]\n",
    "        self.last_bar = self.raw_data.index[-1]\n",
    "        \n",
    "    def define_strategy(self): # \"strategy-specific\"\n",
    "        df = self.raw_data.copy()\n",
    "        \n",
    "        #******************** define your strategy here ************************\n",
    "        df[\"returns\"] = np.log(df[self.instrument] / df[self.instrument].shift())\n",
    "        df[\"position\"] = -np.sign(df.returns.rolling(self.window).mean())\n",
    "        #***********************************************************************\n",
    "        \n",
    "        self.data = df.copy()\n",
    "        \n",
    "    def execute_trades(self): # NEW!\n",
    "        if self.data[\"position\"].iloc[-1] == 1: # if position is long -> go/stay long\n",
    "            if self.position == 0:\n",
    "                order = self.create_order(self.instrument, self.units, suppress = True, ret = True)\n",
    "                print(\"GOING LONG\")\n",
    "            elif self.position == -1:\n",
    "                order = self.create_order(self.instrument, self.units * 2, suppress = True, ret = True) \n",
    "                print(\"GOING LONG\")\n",
    "            self.position = 1\n",
    "        elif self.data[\"position\"].iloc[-1] == -1: # if position is short -> go/stay short\n",
    "            if self.position == 0:\n",
    "                order = self.create_order(self.instrument, -self.units, suppress = True, ret = True)\n",
    "                print(\"GOING SHORT\")\n",
    "            elif self.position == 1:\n",
    "                order = self.create_order(self.instrument, -self.units * 2, suppress = True, ret = True)\n",
    "                print(\"GOING SHORT\")\n",
    "            self.position = -1\n",
    "        elif self.data[\"position\"].iloc[-1] == 0:  # if position is neutral -> go/stay neutral\n",
    "            if self.position == -1:\n",
    "                order = self.create_order(self.instrument, self.units, suppress = True, ret = True) \n",
    "                print(\"GOING NEUTRAL\")\n",
    "            elif self.position == 1:\n",
    "                order = self.create_order(self.instrument, -self.units, suppress = True, ret = True)\n",
    "                print(\"GOING NEUTRAL\")\n",
    "            self.position = 0"
   ]
  },
  {
   "cell_type": "code",
   "execution_count": null,
   "metadata": {},
   "outputs": [],
   "source": [
    "trader = ConTrader(\"oanda.cfg\", \"EUR_USD\", \"1min\", window = 1, units = 100000)"
   ]
  },
  {
   "cell_type": "code",
   "execution_count": null,
   "metadata": {},
   "outputs": [],
   "source": [
    "trader.get_most_recent()\n",
    "trader.stream_data(trader.instrument, stop = 100)"
   ]
  },
  {
   "cell_type": "code",
   "execution_count": null,
   "metadata": {},
   "outputs": [],
   "source": [
    "trader.position"
   ]
  },
  {
   "cell_type": "code",
   "execution_count": null,
   "metadata": {},
   "outputs": [],
   "source": [
    "trader.units"
   ]
  },
  {
   "cell_type": "code",
   "execution_count": null,
   "metadata": {},
   "outputs": [],
   "source": [
    "trader.get_positions()"
   ]
  },
  {
   "cell_type": "code",
   "execution_count": null,
   "metadata": {},
   "outputs": [],
   "source": [
    "if trader.position != 0: # if we have a final open position\n",
    "    order = trader.create_order(trader.instrument, units = -trader.position * trader.units, \n",
    "                                      suppress = True, ret = True) \n",
    "    trader.position = 0"
   ]
  },
  {
   "cell_type": "code",
   "execution_count": null,
   "metadata": {},
   "outputs": [],
   "source": [
    "trader.data"
   ]
  },
  {
   "cell_type": "code",
   "execution_count": null,
   "metadata": {},
   "outputs": [],
   "source": []
  },
  {
   "cell_type": "markdown",
   "metadata": {},
   "source": [
    "## Trade Monitoring and Reporting"
   ]
  },
  {
   "cell_type": "code",
   "execution_count": null,
   "metadata": {},
   "outputs": [],
   "source": [
    "import pandas as pd\n",
    "import numpy as np\n",
    "import tpqoa\n",
    "from datetime import datetime, timedelta\n",
    "import time"
   ]
  },
  {
   "cell_type": "code",
   "execution_count": null,
   "metadata": {},
   "outputs": [],
   "source": [
    "class ConTrader(tpqoa.tpqoa):\n",
    "    def __init__(self, conf_file, instrument, bar_length, window, units):\n",
    "        super().__init__(conf_file)\n",
    "        self.instrument = instrument\n",
    "        self.bar_length = pd.to_timedelta(bar_length)\n",
    "        self.tick_data = pd.DataFrame()\n",
    "        self.raw_data = None\n",
    "        self.data = None \n",
    "        self.last_bar = None\n",
    "        self.units = units\n",
    "        self.position = 0\n",
    "        self.profits = [] # NEW\n",
    "        \n",
    "        #*****************add strategy-specific attributes here******************\n",
    "        self.window = window\n",
    "        #************************************************************************\n",
    "    \n",
    "    def get_most_recent(self, days = 5):\n",
    "        while True:\n",
    "            time.sleep(2)\n",
    "            now = datetime.utcnow()\n",
    "            now = now - timedelta(microseconds = now.microsecond)\n",
    "            past = now - timedelta(days = days)\n",
    "            df = self.get_history(instrument = self.instrument, start = past, end = now,\n",
    "                                   granularity = \"S5\", price = \"M\", localize = False).c.dropna().to_frame()\n",
    "            df.rename(columns = {\"c\":self.instrument}, inplace = True)\n",
    "            df = df.resample(self.bar_length, label = \"right\").last().dropna().iloc[:-1]\n",
    "            self.raw_data = df.copy()\n",
    "            self.last_bar = self.raw_data.index[-1]\n",
    "            if pd.to_datetime(datetime.utcnow()).tz_localize(\"UTC\") - self.last_bar < self.bar_length:\n",
    "                break\n",
    "            \n",
    "    def on_success(self, time, bid, ask):\n",
    "        print(self.ticks, end = \" \")\n",
    "        \n",
    "        # collect and store tick data\n",
    "        recent_tick = pd.to_datetime(time)\n",
    "        df = pd.DataFrame({self.instrument:(ask + bid)/2}, \n",
    "                          index = [recent_tick])\n",
    "        self.tick_data = self.tick_data.append(df)\n",
    "        \n",
    "        # if a time longer than the bar_lenght has elapsed between last full bar and the most recent tick\n",
    "        if recent_tick - self.last_bar >= self.bar_length:\n",
    "            self.resample_and_join()\n",
    "            self.define_strategy()\n",
    "            self.execute_trades()\n",
    "            \n",
    "    def resample_and_join(self):\n",
    "        self.raw_data = self.raw_data.append(self.tick_data.resample(self.bar_length, \n",
    "                                                                  label=\"right\").last().ffill().iloc[:-1])\n",
    "        self.tick_data = self.tick_data.iloc[-1:]\n",
    "        self.last_bar = self.raw_data.index[-1]\n",
    "        \n",
    "    def define_strategy(self): # \"strategy-specific\"\n",
    "        df = self.raw_data.copy()\n",
    "        \n",
    "        #******************** define your strategy here ************************\n",
    "        df[\"returns\"] = np.log(df[self.instrument] / df[self.instrument].shift())\n",
    "        df[\"position\"] = -np.sign(df.returns.rolling(self.window).mean())\n",
    "        #***********************************************************************\n",
    "        \n",
    "        self.data = df.copy()\n",
    "        \n",
    "    def execute_trades(self):\n",
    "        if self.data[\"position\"].iloc[-1] == 1:\n",
    "            if self.position == 0:\n",
    "                order = self.create_order(self.instrument, self.units, suppress = True, ret = True)\n",
    "                self.report_trade(order, \"GOING LONG\")  # NEW\n",
    "            elif self.position == -1:\n",
    "                order = self.create_order(self.instrument, self.units * 2, suppress = True, ret = True) \n",
    "                self.report_trade(order, \"GOING LONG\")  # NEW\n",
    "            self.position = 1\n",
    "        elif self.data[\"position\"].iloc[-1] == -1: \n",
    "            if self.position == 0:\n",
    "                order = self.create_order(self.instrument, -self.units, suppress = True, ret = True)\n",
    "                self.report_trade(order, \"GOING SHORT\")  # NEW\n",
    "            elif self.position == 1:\n",
    "                order = self.create_order(self.instrument, -self.units * 2, suppress = True, ret = True)\n",
    "                self.report_trade(order, \"GOING SHORT\")  # NEW\n",
    "            self.position = -1\n",
    "        elif self.data[\"position\"].iloc[-1] == 0: \n",
    "            if self.position == -1:\n",
    "                order = self.create_order(self.instrument, self.units, suppress = True, ret = True) \n",
    "                self.report_trade(order, \"GOING NEUTRAL\")  # NEW\n",
    "            elif self.position == 1:\n",
    "                order = self.create_order(self.instrument, -self.units, suppress = True, ret = True)\n",
    "                self.report_trade(order, \"GOING NEUTRAL\")  # NEW\n",
    "            self.position = 0\n",
    "    \n",
    "    def report_trade(self, order, going):  # NEW\n",
    "        time = order[\"time\"]\n",
    "        units = order[\"units\"]\n",
    "        price = order[\"price\"]\n",
    "        pl = float(order[\"pl\"])\n",
    "        self.profits.append(pl)\n",
    "        cumpl = sum(self.profits)\n",
    "        print(\"\\n\" + 100* \"-\")\n",
    "        print(\"{} | {}\".format(time, going))\n",
    "        print(\"{} | units = {} | price = {} | P&L = {} | Cum P&L = {}\".format(time, units, price, pl, cumpl))\n",
    "        print(100 * \"-\" + \"\\n\")  \n",
    "    "
   ]
  },
  {
   "cell_type": "code",
   "execution_count": null,
   "metadata": {},
   "outputs": [],
   "source": [
    "trader = ConTrader(\"oanda.cfg\", \"EUR_USD\", \"1min\", window = 1, units = 100000)"
   ]
  },
  {
   "cell_type": "code",
   "execution_count": null,
   "metadata": {},
   "outputs": [],
   "source": [
    "trader.get_most_recent()\n",
    "trader.stream_data(trader.instrument, stop = 150)\n",
    "if trader.position != 0: # if we have a final open position\n",
    "    close_order = trader.create_order(trader.instrument, units = -trader.position * trader.units, \n",
    "                                      suppress = True, ret = True) \n",
    "    trader.report_trade(close_order, \"GOING NEUTRAL\")\n",
    "    trader.position = 0"
   ]
  },
  {
   "cell_type": "code",
   "execution_count": null,
   "metadata": {},
   "outputs": [],
   "source": [
    "trader.get_positions()"
   ]
  },
  {
   "cell_type": "code",
   "execution_count": null,
   "metadata": {},
   "outputs": [],
   "source": [
    "trader.profits"
   ]
  },
  {
   "cell_type": "code",
   "execution_count": null,
   "metadata": {},
   "outputs": [],
   "source": [
    "sum(trader.profits)"
   ]
  },
  {
   "cell_type": "code",
   "execution_count": null,
   "metadata": {},
   "outputs": [],
   "source": [
    "trader.data.tail(10)"
   ]
  },
  {
   "cell_type": "code",
   "execution_count": null,
   "metadata": {},
   "outputs": [],
   "source": [
    "trader.tick_data"
   ]
  },
  {
   "cell_type": "code",
   "execution_count": null,
   "metadata": {},
   "outputs": [],
   "source": []
  },
  {
   "cell_type": "markdown",
   "metadata": {},
   "source": [
    "## Trading other Strategies - Coding Challenge"
   ]
  },
  {
   "cell_type": "code",
   "execution_count": null,
   "metadata": {},
   "outputs": [],
   "source": [
    "import pandas as pd\n",
    "import numpy as np\n",
    "import tpqoa\n",
    "from datetime import datetime, timedelta\n",
    "import time\n",
    "import matplotlib.pyplot as plt\n",
    "plt.style.use(\"seaborn\")"
   ]
  },
  {
   "cell_type": "markdown",
   "metadata": {},
   "source": [
    "__Strategy 1__: SMA 50/200 (minutes) Crossover (200 ticks)"
   ]
  },
  {
   "cell_type": "markdown",
   "metadata": {},
   "source": [
    "## Stop here if you don´t want to see the solution!"
   ]
  },
  {
   "cell_type": "markdown",
   "metadata": {},
   "source": [
    "###############################################################"
   ]
  },
  {
   "cell_type": "code",
   "execution_count": null,
   "metadata": {},
   "outputs": [],
   "source": []
  },
  {
   "cell_type": "code",
   "execution_count": null,
   "metadata": {},
   "outputs": [],
   "source": []
  },
  {
   "cell_type": "code",
   "execution_count": null,
   "metadata": {},
   "outputs": [],
   "source": [
    "class SMATrader(tpqoa.tpqoa):\n",
    "    def __init__(self, conf_file, instrument, bar_length, SMA_S, SMA_L, units):\n",
    "        super().__init__(conf_file)\n",
    "        self.instrument = instrument\n",
    "        self.bar_length = pd.to_timedelta(bar_length)\n",
    "        self.tick_data = pd.DataFrame()\n",
    "        self.raw_data = None\n",
    "        self.data = None \n",
    "        self.last_bar = None\n",
    "        self.units = units\n",
    "        self.position = 0\n",
    "        self.profits = []\n",
    "        \n",
    "        #*****************add strategy-specific attributes here******************\n",
    "        self.SMA_S = SMA_S\n",
    "        self.SMA_L = SMA_L\n",
    "        #************************************************************************\n",
    "    \n",
    "    def get_most_recent(self, days = 5):\n",
    "        while True:\n",
    "            time.sleep(2)\n",
    "            now = datetime.utcnow()\n",
    "            now = now - timedelta(microseconds = now.microsecond)\n",
    "            past = now - timedelta(days = days)\n",
    "            df = self.get_history(instrument = self.instrument, start = past, end = now,\n",
    "                                   granularity = \"S5\", price = \"M\", localize = False).c.dropna().to_frame()\n",
    "            df.rename(columns = {\"c\":self.instrument}, inplace = True)\n",
    "            df = df.resample(self.bar_length, label = \"right\").last().dropna().iloc[:-1]\n",
    "            self.raw_data = df.copy()\n",
    "            self.last_bar = self.raw_data.index[-1]\n",
    "            if pd.to_datetime(datetime.utcnow()).tz_localize(\"UTC\") - self.last_bar < self.bar_length:\n",
    "                break\n",
    "                \n",
    "    def on_success(self, time, bid, ask):\n",
    "        print(self.ticks, end = \" \")\n",
    "        \n",
    "        recent_tick = pd.to_datetime(time)\n",
    "        df = pd.DataFrame({self.instrument:(ask + bid)/2}, \n",
    "                          index = [recent_tick])\n",
    "        self.tick_data = self.tick_data.append(df)\n",
    "        \n",
    "        if recent_tick - self.last_bar > self.bar_length:\n",
    "            self.resample_and_join()\n",
    "            self.define_strategy()\n",
    "            self.execute_trades()\n",
    "    \n",
    "    def resample_and_join(self):\n",
    "        self.raw_data = self.raw_data.append(self.tick_data.resample(self.bar_length, \n",
    "                                                                  label=\"right\").last().ffill().iloc[:-1])\n",
    "        self.tick_data = self.tick_data.iloc[-1:]\n",
    "        self.last_bar = self.raw_data.index[-1]\n",
    "    \n",
    "    def define_strategy(self): # \"strategy-specific\"\n",
    "        df = self.raw_data.copy()\n",
    "        \n",
    "        #******************** define your strategy here ************************\n",
    "        df[\"SMA_S\"] = df[self.instrument].rolling(self.SMA_S).mean()\n",
    "        df[\"SMA_L\"] = df[self.instrument].rolling(self.SMA_L).mean()\n",
    "        df[\"position\"] = np.where(df[\"SMA_S\"] > df[\"SMA_L\"], 1, -1)\n",
    "        #***********************************************************************\n",
    "        \n",
    "        self.data = df.copy()\n",
    "    \n",
    "    def execute_trades(self):\n",
    "        if self.data[\"position\"].iloc[-1] == 1:\n",
    "            if self.position == 0:\n",
    "                order = self.create_order(self.instrument, self.units, suppress = True, ret = True)\n",
    "                self.report_trade(order, \"GOING LONG\")\n",
    "            elif self.position == -1:\n",
    "                order = self.create_order(self.instrument, self.units * 2, suppress = True, ret = True) \n",
    "                self.report_trade(order, \"GOING LONG\")\n",
    "            self.position = 1\n",
    "        elif self.data[\"position\"].iloc[-1] == -1: \n",
    "            if self.position == 0:\n",
    "                order = self.create_order(self.instrument, -self.units, suppress = True, ret = True)\n",
    "                self.report_trade(order, \"GOING SHORT\")\n",
    "            elif self.position == 1:\n",
    "                order = self.create_order(self.instrument, -self.units * 2, suppress = True, ret = True)\n",
    "                self.report_trade(order, \"GOING SHORT\")\n",
    "            self.position = -1\n",
    "        elif self.data[\"position\"].iloc[-1] == 0: \n",
    "            if self.position == -1:\n",
    "                order = self.create_order(self.instrument, self.units, suppress = True, ret = True)\n",
    "                self.report_trade(order, \"GOING NEUTRAL\")\n",
    "            elif self.position == 1:\n",
    "                order = self.create_order(self.instrument, -self.units, suppress = True, ret = True) \n",
    "                self.report_trade(order, \"GOING NEUTRAL\")\n",
    "            self.position = 0\n",
    "    \n",
    "    def report_trade(self, order, going):\n",
    "        time = order[\"time\"]\n",
    "        units = order[\"units\"]\n",
    "        price = order[\"price\"]\n",
    "        pl = float(order[\"pl\"])\n",
    "        self.profits.append(pl)\n",
    "        cumpl = sum(self.profits)\n",
    "        print(\"\\n\" + 100* \"-\")\n",
    "        print(\"{} | {}\".format(time, going))\n",
    "        print(\"{} | units = {} | price = {} | P&L = {} | Cum P&L = {}\".format(time, units, price, pl, cumpl))\n",
    "        print(100 * \"-\" + \"\\n\")  \n",
    "    "
   ]
  },
  {
   "cell_type": "code",
   "execution_count": null,
   "metadata": {},
   "outputs": [],
   "source": [
    "trader = SMATrader(\"oanda.cfg\", \"EUR_USD\", \"1min\", SMA_S = 50, SMA_L = 200, units = 100000)"
   ]
  },
  {
   "cell_type": "code",
   "execution_count": null,
   "metadata": {},
   "outputs": [],
   "source": [
    "trader.get_most_recent()\n",
    "trader.stream_data(trader.instrument, stop = 200)\n",
    "if trader.position != 0: # if we have a final open position\n",
    "    close_order = trader.create_order(trader.instrument, units = -trader.position * trader.units, \n",
    "                                      suppress = True, ret = True) \n",
    "    trader.report_trade(close_order, \"GOING NEUTRAL\")\n",
    "    trader.position = 0"
   ]
  },
  {
   "cell_type": "code",
   "execution_count": null,
   "metadata": {},
   "outputs": [],
   "source": [
    "trader.data#.tail(20)"
   ]
  },
  {
   "cell_type": "code",
   "execution_count": null,
   "metadata": {},
   "outputs": [],
   "source": [
    "trader.data.tail(30).plot(figsize = (12, 8), secondary_y = \"position\")\n",
    "plt.show()"
   ]
  },
  {
   "cell_type": "code",
   "execution_count": null,
   "metadata": {},
   "outputs": [],
   "source": []
  },
  {
   "cell_type": "markdown",
   "metadata": {},
   "source": [
    "__Strategy 2__: Bollinger Bands SMA 20 (minutes) / 1 Standard Deviation (200 ticks) "
   ]
  },
  {
   "cell_type": "markdown",
   "metadata": {},
   "source": [
    "## Stop here if you don´t want to see the solution!"
   ]
  },
  {
   "cell_type": "markdown",
   "metadata": {},
   "source": [
    "###############################################################"
   ]
  },
  {
   "cell_type": "code",
   "execution_count": null,
   "metadata": {},
   "outputs": [],
   "source": []
  },
  {
   "cell_type": "code",
   "execution_count": null,
   "metadata": {},
   "outputs": [],
   "source": []
  },
  {
   "cell_type": "code",
   "execution_count": null,
   "metadata": {},
   "outputs": [],
   "source": []
  },
  {
   "cell_type": "code",
   "execution_count": null,
   "metadata": {},
   "outputs": [],
   "source": []
  },
  {
   "cell_type": "code",
   "execution_count": null,
   "metadata": {},
   "outputs": [],
   "source": [
    "class BollTrader(tpqoa.tpqoa):\n",
    "    def __init__(self, conf_file, instrument, bar_length, SMA, dev, units):\n",
    "        super().__init__(conf_file)\n",
    "        self.instrument = instrument\n",
    "        self.bar_length = pd.to_timedelta(bar_length)\n",
    "        self.tick_data = pd.DataFrame()\n",
    "        self.raw_data = None\n",
    "        self.data = None \n",
    "        self.last_bar = None\n",
    "        self.units = units\n",
    "        self.position = 0\n",
    "        self.profits = []\n",
    "        \n",
    "        #*****************add strategy-specific attributes here******************\n",
    "        self.SMA = SMA\n",
    "        self.dev = dev\n",
    "        #************************************************************************\n",
    "    \n",
    "    def get_most_recent(self, days = 5):\n",
    "        while True:\n",
    "            time.sleep(2)\n",
    "            now = datetime.utcnow()\n",
    "            now = now - timedelta(microseconds = now.microsecond)\n",
    "            past = now - timedelta(days = days)\n",
    "            df = self.get_history(instrument = self.instrument, start = past, end = now,\n",
    "                                   granularity = \"S5\", price = \"M\", localize = False).c.dropna().to_frame()\n",
    "            df.rename(columns = {\"c\":self.instrument}, inplace = True)\n",
    "            df = df.resample(self.bar_length, label = \"right\").last().dropna().iloc[:-1]\n",
    "            self.raw_data = df.copy()\n",
    "            self.last_bar = self.raw_data.index[-1]\n",
    "            if pd.to_datetime(datetime.utcnow()).tz_localize(\"UTC\") - self.last_bar < self.bar_length:\n",
    "                break\n",
    "                \n",
    "    def on_success(self, time, bid, ask):\n",
    "        print(self.ticks, end = \" \")\n",
    "        \n",
    "        recent_tick = pd.to_datetime(time)\n",
    "        df = pd.DataFrame({self.instrument:(ask + bid)/2}, \n",
    "                          index = [recent_tick])\n",
    "        self.tick_data = self.tick_data.append(df)\n",
    "        \n",
    "        if recent_tick - self.last_bar > self.bar_length:\n",
    "            self.resample_and_join()\n",
    "            self.define_strategy()\n",
    "            self.execute_trades()\n",
    "    \n",
    "    def resample_and_join(self):\n",
    "        self.raw_data = self.raw_data.append(self.tick_data.resample(self.bar_length, \n",
    "                                                                  label=\"right\").last().ffill().iloc[:-1])\n",
    "        self.tick_data = self.tick_data.iloc[-1:]\n",
    "        self.last_bar = self.raw_data.index[-1]\n",
    "    \n",
    "    def define_strategy(self): # \"strategy-specific\"\n",
    "        df = self.raw_data.copy()\n",
    "        \n",
    "        #******************** define your strategy here ************************\n",
    "        df[\"SMA\"] = df[self.instrument].rolling(self.SMA).mean()\n",
    "        df[\"Lower\"] = df[\"SMA\"] - df[self.instrument].rolling(self.SMA).std() * self.dev\n",
    "        df[\"Upper\"] = df[\"SMA\"] + df[self.instrument].rolling(self.SMA).std() * self.dev\n",
    "        df[\"distance\"] = df[self.instrument] - df.SMA\n",
    "        df[\"position\"] = np.where(df[self.instrument] < df.Lower, 1, np.nan)\n",
    "        df[\"position\"] = np.where(df[self.instrument] > df.Upper, -1, df[\"position\"])\n",
    "        df[\"position\"] = np.where(df.distance * df.distance.shift(1) < 0, 0, df[\"position\"])\n",
    "        df[\"position\"] = df.position.ffill().fillna(0)\n",
    "        #***********************************************************************\n",
    "        \n",
    "        self.data = df.copy()\n",
    "    \n",
    "    def execute_trades(self):\n",
    "        if self.data[\"position\"].iloc[-1] == 1:\n",
    "            if self.position == 0:\n",
    "                order = self.create_order(self.instrument, self.units, suppress = True, ret = True)\n",
    "                self.report_trade(order, \"GOING LONG\")\n",
    "            elif self.position == -1:\n",
    "                order = self.create_order(self.instrument, self.units * 2, suppress = True, ret = True) \n",
    "                self.report_trade(order, \"GOING LONG\")\n",
    "            self.position = 1\n",
    "        elif self.data[\"position\"].iloc[-1] == -1: \n",
    "            if self.position == 0:\n",
    "                order = self.create_order(self.instrument, -self.units, suppress = True, ret = True)\n",
    "                self.report_trade(order, \"GOING SHORT\")\n",
    "            elif self.position == 1:\n",
    "                order = self.create_order(self.instrument, -self.units * 2, suppress = True, ret = True)\n",
    "                self.report_trade(order, \"GOING SHORT\")\n",
    "            self.position = -1\n",
    "        elif self.data[\"position\"].iloc[-1] == 0: \n",
    "            if self.position == -1:\n",
    "                order = self.create_order(self.instrument, self.units, suppress = True, ret = True) \n",
    "                self.report_trade(order, \"GOING NEUTRAL\")\n",
    "            elif self.position == 1:\n",
    "                order = self.create_order(self.instrument, -self.units, suppress = True, ret = True)\n",
    "                self.report_trade(order, \"GOING NEUTRAL\")\n",
    "            self.position = 0\n",
    "    \n",
    "    def report_trade(self, order, going):\n",
    "        time = order[\"time\"]\n",
    "        units = order[\"units\"]\n",
    "        price = order[\"price\"]\n",
    "        pl = float(order[\"pl\"])\n",
    "        self.profits.append(pl)\n",
    "        cumpl = sum(self.profits)\n",
    "        print(\"\\n\" + 100* \"-\")\n",
    "        print(\"{} | {}\".format(time, going))\n",
    "        print(\"{} | units = {} | price = {} | P&L = {} | Cum P&L = {}\".format(time, units, price, pl, cumpl))\n",
    "        print(100 * \"-\" + \"\\n\")  \n",
    " "
   ]
  },
  {
   "cell_type": "code",
   "execution_count": null,
   "metadata": {},
   "outputs": [],
   "source": [
    "trader = BollTrader(\"oanda.cfg\", \"EUR_USD\", \"1min\", SMA = 20, dev = 1, units = 100000)"
   ]
  },
  {
   "cell_type": "code",
   "execution_count": null,
   "metadata": {},
   "outputs": [],
   "source": [
    "trader.get_most_recent()\n",
    "trader.stream_data(trader.instrument, stop = 200)\n",
    "if trader.position != 0: # if we have a final open position\n",
    "    close_order = trader.create_order(trader.instrument, units = -trader.position * trader.units, \n",
    "                                      suppress = True, ret = True) \n",
    "    trader.report_trade(close_order, \"GOING NEUTRAL\")\n",
    "    trader.position = 0"
   ]
  },
  {
   "cell_type": "code",
   "execution_count": null,
   "metadata": {},
   "outputs": [],
   "source": [
    "trader.data"
   ]
  },
  {
   "cell_type": "code",
   "execution_count": null,
   "metadata": {},
   "outputs": [],
   "source": [
    "trader.data.tail(20)[[\"EUR_USD\", \"SMA\", \"Lower\", \"Upper\"]].plot(figsize = (12, 8))\n",
    "plt.show()"
   ]
  },
  {
   "cell_type": "code",
   "execution_count": null,
   "metadata": {},
   "outputs": [],
   "source": []
  },
  {
   "cell_type": "markdown",
   "metadata": {},
   "source": [
    "## Machine Learning Strategies (1) - Model Fitting"
   ]
  },
  {
   "cell_type": "code",
   "execution_count": null,
   "metadata": {},
   "outputs": [],
   "source": [
    "import pandas as pd\n",
    "import numpy as np\n",
    "from sklearn.linear_model import LogisticRegression"
   ]
  },
  {
   "cell_type": "code",
   "execution_count": null,
   "metadata": {},
   "outputs": [],
   "source": [
    "data = pd.read_csv(\"five_minute.csv\", parse_dates = [\"time\"], index_col = \"time\")"
   ]
  },
  {
   "cell_type": "code",
   "execution_count": null,
   "metadata": {},
   "outputs": [],
   "source": [
    "data"
   ]
  },
  {
   "cell_type": "code",
   "execution_count": null,
   "metadata": {},
   "outputs": [],
   "source": [
    "data[\"returns\"] = np.log(data.div(data.shift(1)))"
   ]
  },
  {
   "cell_type": "code",
   "execution_count": null,
   "metadata": {},
   "outputs": [],
   "source": [
    "data.dropna(inplace = True)"
   ]
  },
  {
   "cell_type": "code",
   "execution_count": null,
   "metadata": {},
   "outputs": [],
   "source": [
    "data[\"direction\"] = np.sign(data.returns)"
   ]
  },
  {
   "cell_type": "code",
   "execution_count": null,
   "metadata": {},
   "outputs": [],
   "source": [
    "data"
   ]
  },
  {
   "cell_type": "code",
   "execution_count": null,
   "metadata": {},
   "outputs": [],
   "source": [
    "lags = 2"
   ]
  },
  {
   "cell_type": "code",
   "execution_count": null,
   "metadata": {},
   "outputs": [],
   "source": [
    "cols = []\n",
    "for lag in range(1, lags + 1):\n",
    "    col = \"lag{}\".format(lag)\n",
    "    data[col] = data.returns.shift(lag)\n",
    "    cols.append(col)\n",
    "data.dropna(inplace = True)"
   ]
  },
  {
   "cell_type": "code",
   "execution_count": null,
   "metadata": {},
   "outputs": [],
   "source": [
    "data"
   ]
  },
  {
   "cell_type": "code",
   "execution_count": null,
   "metadata": {},
   "outputs": [],
   "source": [
    "lm = LogisticRegression(C = 1e6, max_iter = 100000, multi_class = \"ovr\")"
   ]
  },
  {
   "cell_type": "code",
   "execution_count": null,
   "metadata": {},
   "outputs": [],
   "source": [
    "lm.fit(data[cols], data.direction)"
   ]
  },
  {
   "cell_type": "code",
   "execution_count": null,
   "metadata": {},
   "outputs": [],
   "source": [
    "lm"
   ]
  },
  {
   "cell_type": "markdown",
   "metadata": {},
   "source": [
    "__In-Sample \"Prediction\"__"
   ]
  },
  {
   "cell_type": "code",
   "execution_count": null,
   "metadata": {},
   "outputs": [],
   "source": [
    "data[\"pred\"] = lm.predict(data[cols])"
   ]
  },
  {
   "cell_type": "code",
   "execution_count": null,
   "metadata": {},
   "outputs": [],
   "source": [
    "data"
   ]
  },
  {
   "cell_type": "code",
   "execution_count": null,
   "metadata": {},
   "outputs": [],
   "source": [
    "hits = np.sign(data.direction * data.pred).value_counts()"
   ]
  },
  {
   "cell_type": "code",
   "execution_count": null,
   "metadata": {},
   "outputs": [],
   "source": [
    "hits"
   ]
  },
  {
   "cell_type": "code",
   "execution_count": null,
   "metadata": {},
   "outputs": [],
   "source": [
    "hit_ratio = hits[1.0] / sum(hits)\n",
    "hit_ratio"
   ]
  },
  {
   "cell_type": "code",
   "execution_count": null,
   "metadata": {},
   "outputs": [],
   "source": [
    "lm"
   ]
  },
  {
   "cell_type": "markdown",
   "metadata": {},
   "source": [
    "__Saving the model__"
   ]
  },
  {
   "cell_type": "code",
   "execution_count": null,
   "metadata": {},
   "outputs": [],
   "source": [
    "import pickle"
   ]
  },
  {
   "cell_type": "code",
   "execution_count": null,
   "metadata": {},
   "outputs": [],
   "source": [
    "pickle.dump(lm, open(\"logreg.pkl\", \"wb\"))"
   ]
  },
  {
   "cell_type": "code",
   "execution_count": null,
   "metadata": {},
   "outputs": [],
   "source": []
  },
  {
   "cell_type": "markdown",
   "metadata": {},
   "source": [
    "## Machine Learning Strategies (2) - Implementation"
   ]
  },
  {
   "cell_type": "code",
   "execution_count": null,
   "metadata": {},
   "outputs": [],
   "source": [
    "import pandas as pd\n",
    "import numpy as np\n",
    "from sklearn.linear_model import LogisticRegression\n",
    "import tpqoa\n",
    "from datetime import datetime, timedelta\n",
    "import time\n",
    "import pickle"
   ]
  },
  {
   "cell_type": "code",
   "execution_count": null,
   "metadata": {},
   "outputs": [],
   "source": [
    "class MLTrader(tpqoa.tpqoa):\n",
    "    def __init__(self, conf_file, instrument, bar_length, lags, model, units):\n",
    "        super().__init__(conf_file)\n",
    "        self.instrument = instrument\n",
    "        self.bar_length = pd.to_timedelta(bar_length)\n",
    "        self.tick_data = pd.DataFrame()\n",
    "        self.raw_data = None\n",
    "        self.data = None \n",
    "        self.last_bar = None\n",
    "        self.units = units\n",
    "        self.position = 0\n",
    "        self.profits = []\n",
    "        \n",
    "        #*****************add strategy-specific attributes here******************\n",
    "        self.lags = lags\n",
    "        self.model = model\n",
    "        #************************************************************************\n",
    "    \n",
    "    def get_most_recent(self, days = 5):\n",
    "        while True:\n",
    "            time.sleep(2)\n",
    "            now = datetime.utcnow()\n",
    "            now = now - timedelta(microseconds = now.microsecond)\n",
    "            past = now - timedelta(days = days)\n",
    "            df = self.get_history(instrument = self.instrument, start = past, end = now,\n",
    "                                   granularity = \"S5\", price = \"M\", localize = False).c.dropna().to_frame()\n",
    "            df.rename(columns = {\"c\":self.instrument}, inplace = True)\n",
    "            df = df.resample(self.bar_length, label = \"right\").last().dropna().iloc[:-1]\n",
    "            self.raw_data = df.copy()\n",
    "            self.last_bar = self.raw_data.index[-1]\n",
    "            if pd.to_datetime(datetime.utcnow()).tz_localize(\"UTC\") - self.last_bar < self.bar_length:\n",
    "                break\n",
    "                \n",
    "    def on_success(self, time, bid, ask):\n",
    "        print(self.ticks, end = \" \")\n",
    "        \n",
    "        recent_tick = pd.to_datetime(time)\n",
    "        df = pd.DataFrame({self.instrument:(ask + bid)/2}, \n",
    "                          index = [recent_tick])\n",
    "        self.tick_data = self.tick_data.append(df)\n",
    "        \n",
    "        if recent_tick - self.last_bar > self.bar_length:\n",
    "            self.resample_and_join()\n",
    "            self.define_strategy()\n",
    "            self.execute_trades()\n",
    "    \n",
    "    def resample_and_join(self):\n",
    "        self.raw_data = self.raw_data.append(self.tick_data.resample(self.bar_length, \n",
    "                                                                  label=\"right\").last().ffill().iloc[:-1])\n",
    "        self.tick_data = self.tick_data.iloc[-1:]\n",
    "        self.last_bar = self.raw_data.index[-1]\n",
    "    \n",
    "    def define_strategy(self): # \"strategy-specific\"\n",
    "        df = self.raw_data.copy()\n",
    "        \n",
    "        #******************** define your strategy here ************************\n",
    "        df = df.append(self.tick_data) # append latest tick (== open price of current bar)\n",
    "        df[\"returns\"] = np.log(df[self.instrument] / df[self.instrument].shift())\n",
    "        cols = []\n",
    "        for lag in range(1, self.lags + 1):\n",
    "            col = \"lag{}\".format(lag)\n",
    "            df[col] = df.returns.shift(lag)\n",
    "            cols.append(col)\n",
    "        df.dropna(inplace = True)\n",
    "        df[\"position\"] = lm.predict(df[cols])\n",
    "        #***********************************************************************\n",
    "        \n",
    "        self.data = df.copy()\n",
    "    \n",
    "    def execute_trades(self):\n",
    "        if self.data[\"position\"].iloc[-1] == 1:\n",
    "            if self.position == 0:\n",
    "                order = self.create_order(self.instrument, self.units, suppress = True, ret = True)\n",
    "                self.report_trade(order, \"GOING LONG\")\n",
    "            elif self.position == -1:\n",
    "                order = self.create_order(self.instrument, self.units * 2, suppress = True, ret = True) \n",
    "                self.report_trade(order, \"GOING LONG\")\n",
    "            self.position = 1\n",
    "        elif self.data[\"position\"].iloc[-1] == -1: \n",
    "            if self.position == 0:\n",
    "                order = self.create_order(self.instrument, -self.units, suppress = True, ret = True)\n",
    "                self.report_trade(order, \"GOING SHORT\")\n",
    "            elif self.position == 1:\n",
    "                order = self.create_order(self.instrument, -self.units * 2, suppress = True, ret = True)\n",
    "                self.report_trade(order, \"GOING SHORT\")\n",
    "            self.position = -1\n",
    "        elif self.data[\"position\"].iloc[-1] == 0: \n",
    "            if self.position == -1:\n",
    "                order = self.create_order(self.instrument, self.units, suppress = True, ret = True) \n",
    "                self.report_trade(order, \"GOING NEUTRAL\")\n",
    "            elif self.position == 1:\n",
    "                order = self.create_order(self.instrument, -self.units, suppress = True, ret = True)\n",
    "                self.report_trade(order, \"GOING NEUTRAL\")\n",
    "            self.position = 0\n",
    "    \n",
    "    def report_trade(self, order, going):\n",
    "        time = order[\"time\"]\n",
    "        units = order[\"units\"]\n",
    "        price = order[\"price\"]\n",
    "        pl = float(order[\"pl\"])\n",
    "        self.profits.append(pl)\n",
    "        cumpl = sum(self.profits)\n",
    "        print(\"\\n\" + 100* \"-\")\n",
    "        print(\"{} | {}\".format(time, going))\n",
    "        print(\"{} | units = {} | price = {} | P&L = {} | Cum P&L = {}\".format(time, units, price, pl, cumpl))\n",
    "        print(100 * \"-\" + \"\\n\")  "
   ]
  },
  {
   "cell_type": "code",
   "execution_count": null,
   "metadata": {},
   "outputs": [],
   "source": [
    "lm = pickle.load(open(\"logreg.pkl\", \"rb\"))"
   ]
  },
  {
   "cell_type": "code",
   "execution_count": null,
   "metadata": {},
   "outputs": [],
   "source": [
    "lm"
   ]
  },
  {
   "cell_type": "code",
   "execution_count": null,
   "metadata": {},
   "outputs": [],
   "source": [
    "trader = MLTrader(\"oanda.cfg\", \"EUR_USD\", \"5min\", lags = 2, model = lm, units = 100000)"
   ]
  },
  {
   "cell_type": "code",
   "execution_count": null,
   "metadata": {},
   "outputs": [],
   "source": [
    "trader.model"
   ]
  },
  {
   "cell_type": "code",
   "execution_count": null,
   "metadata": {},
   "outputs": [],
   "source": [
    "trader.get_most_recent()\n",
    "trader.stream_data(trader.instrument, stop = 500)\n",
    "if trader.position != 0: # if we have a final open position\n",
    "    close_order = trader.create_order(trader.instrument, units = -trader.position * trader.units, \n",
    "                                      suppress = True, ret = True) \n",
    "    trader.report_trade(close_order, \"GOING NEUTRAL\")\n",
    "    trader.position = 0"
   ]
  },
  {
   "cell_type": "code",
   "execution_count": null,
   "metadata": {},
   "outputs": [],
   "source": [
    "trader.data.tail(10)"
   ]
  },
  {
   "cell_type": "code",
   "execution_count": null,
   "metadata": {},
   "outputs": [],
   "source": [
    "trader.tick_data"
   ]
  },
  {
   "cell_type": "code",
   "execution_count": null,
   "metadata": {},
   "outputs": [],
   "source": []
  },
  {
   "cell_type": "markdown",
   "metadata": {},
   "source": [
    "## Importing a Trader Module / Class"
   ]
  },
  {
   "cell_type": "code",
   "execution_count": null,
   "metadata": {},
   "outputs": [],
   "source": [
    "import trader as tr"
   ]
  },
  {
   "cell_type": "code",
   "execution_count": null,
   "metadata": {
    "scrolled": false
   },
   "outputs": [],
   "source": [
    "trader = tr.ConTrader(\"oanda.cfg\", \"EUR_USD\", \"1min\", window = 1, units = 100000)\n",
    "trader.get_most_recent()\n",
    "trader.stream_data(trader.instrument, stop = 30)\n",
    "if trader.position != 0: # if we have a final open position\n",
    "    close_order = trader.create_order(trader.instrument, units = -trader.position * trader.units, \n",
    "                                      suppress = True, ret = True) \n",
    "    trader.report_trade(close_order, \"GOING NEUTRAL\")\n",
    "    trader.position = 0"
   ]
  },
  {
   "cell_type": "code",
   "execution_count": null,
   "metadata": {},
   "outputs": [],
   "source": [
    "trader.data.tail(10)"
   ]
  },
  {
   "cell_type": "code",
   "execution_count": null,
   "metadata": {},
   "outputs": [],
   "source": []
  },
  {
   "cell_type": "markdown",
   "metadata": {},
   "source": [
    "####################################################################################################"
   ]
  },
  {
   "cell_type": "markdown",
   "metadata": {},
   "source": [
    "## How to Time/Schedule the End of a Trading Session (Simple Contrarian)"
   ]
  },
  {
   "cell_type": "markdown",
   "metadata": {},
   "source": [
    "(you can find the corresponding Video for the following lines of code in __Section 23__: Cloud Deployment (AWS) | Scheduling Trading Sessions | Full Automation)"
   ]
  },
  {
   "cell_type": "code",
   "execution_count": null,
   "metadata": {},
   "outputs": [],
   "source": [
    "import pandas as pd\n",
    "import numpy as np\n",
    "import tpqoa\n",
    "from datetime import datetime, timedelta\n",
    "import time"
   ]
  },
  {
   "cell_type": "code",
   "execution_count": null,
   "metadata": {},
   "outputs": [],
   "source": [
    "datetime.utcnow().time() # current utc time"
   ]
  },
  {
   "cell_type": "code",
   "execution_count": null,
   "metadata": {},
   "outputs": [],
   "source": [
    "pd.to_datetime(\"17:30\").time() # desired end of trading session (in utc time)"
   ]
  },
  {
   "cell_type": "code",
   "execution_count": null,
   "metadata": {},
   "outputs": [],
   "source": [
    "if datetime.utcnow().time() >= pd.to_datetime(\"17:30\").time():\n",
    "    print(\"Stop the Trading Session!\")"
   ]
  },
  {
   "cell_type": "code",
   "execution_count": null,
   "metadata": {},
   "outputs": [],
   "source": [
    "class ConTrader(tpqoa.tpqoa):\n",
    "    def __init__(self, conf_file, instrument, bar_length, window, units):\n",
    "        super().__init__(conf_file)\n",
    "        self.instrument = instrument\n",
    "        self.bar_length = pd.to_timedelta(bar_length)\n",
    "        self.tick_data = pd.DataFrame()\n",
    "        self.raw_data = None\n",
    "        self.data = None \n",
    "        self.last_bar = None\n",
    "        self.units = units\n",
    "        self.position = 0\n",
    "        self.profits = []\n",
    "        \n",
    "        #*****************add strategy-specific attributes here******************\n",
    "        self.window = window\n",
    "        #************************************************************************\n",
    "    \n",
    "    def get_most_recent(self, days = 5):\n",
    "        while True:\n",
    "            time.sleep(2)\n",
    "            now = datetime.utcnow()\n",
    "            now = now - timedelta(microseconds = now.microsecond)\n",
    "            past = now - timedelta(days = days)\n",
    "            df = self.get_history(instrument = self.instrument, start = past, end = now,\n",
    "                                   granularity = \"S5\", price = \"M\", localize = False).c.dropna().to_frame()\n",
    "            df.rename(columns = {\"c\":self.instrument}, inplace = True)\n",
    "            df = df.resample(self.bar_length, label = \"right\").last().dropna().iloc[:-1]\n",
    "            self.raw_data = df.copy()\n",
    "            self.last_bar = self.raw_data.index[-1]\n",
    "            if pd.to_datetime(datetime.utcnow()).tz_localize(\"UTC\") - self.last_bar < self.bar_length:\n",
    "                break\n",
    "                \n",
    "    def on_success(self, time, bid, ask):\n",
    "        \n",
    "        print(self.ticks, end = \" \")\n",
    "        \n",
    "        recent_tick = pd.to_datetime(time)\n",
    "        \n",
    "        # define stop\n",
    "        if recent_tick.time() >= pd.to_datetime(\"17:30\").time():\n",
    "            self.stop_stream = True\n",
    "        \n",
    "        df = pd.DataFrame({self.instrument:(ask + bid)/2}, \n",
    "                          index = [recent_tick])\n",
    "        self.tick_data = self.tick_data.append(df)\n",
    "        \n",
    "        if recent_tick - self.last_bar > self.bar_length:\n",
    "            self.resample_and_join()\n",
    "            self.define_strategy()\n",
    "            self.execute_trades()\n",
    "    \n",
    "    def resample_and_join(self):\n",
    "        self.raw_data = self.raw_data.append(self.tick_data.resample(self.bar_length, \n",
    "                                                                  label=\"right\").last().ffill().iloc[:-1])\n",
    "        self.tick_data = self.tick_data.iloc[-1:]\n",
    "        self.last_bar = self.raw_data.index[-1]\n",
    "    \n",
    "    def define_strategy(self): # \"strategy-specific\"\n",
    "        df = self.raw_data.copy()\n",
    "        \n",
    "        #******************** define your strategy here ************************\n",
    "        df[\"returns\"] = np.log(df[self.instrument] / df[self.instrument].shift())\n",
    "        df[\"position\"] = -np.sign(df.returns.rolling(self.window).mean())\n",
    "        #***********************************************************************\n",
    "        \n",
    "        self.data = df.copy()\n",
    "    \n",
    "    def execute_trades(self):\n",
    "        if self.data[\"position\"].iloc[-1] == 1:\n",
    "            if self.position == 0:\n",
    "                order = self.create_order(self.instrument, self.units, suppress = True, ret = True)\n",
    "                self.report_trade(order, \"GOING LONG\")\n",
    "            elif self.position == -1:\n",
    "                order = self.create_order(self.instrument, self.units * 2, suppress = True, ret = True) \n",
    "                self.report_trade(order, \"GOING LONG\")\n",
    "            self.position = 1\n",
    "        elif self.data[\"position\"].iloc[-1] == -1: \n",
    "            if self.position == 0:\n",
    "                order = self.create_order(self.instrument, -self.units, suppress = True, ret = True)\n",
    "                self.report_trade(order, \"GOING SHORT\")\n",
    "            elif self.position == 1:\n",
    "                order = self.create_order(self.instrument, -self.units * 2, suppress = True, ret = True)\n",
    "                self.report_trade(order, \"GOING SHORT\")\n",
    "            self.position = -1\n",
    "        elif self.data[\"position\"].iloc[-1] == 0:\n",
    "            if self.position == -1:\n",
    "                order = self.create_order(self.instrument, self.units, suppress = True, ret = True) \n",
    "                self.report_trade(order, \"GOING NEUTRAL\")\n",
    "            elif self.position == 1:\n",
    "                order = self.create_order(self.instrument, -self.units, suppress = True, ret = True) \n",
    "                self.report_trade(order, \"GOING NEUTRAL\")\n",
    "            self.position = 0\n",
    "    \n",
    "    def report_trade(self, order, going):\n",
    "        time = order[\"time\"]\n",
    "        units = order[\"units\"]\n",
    "        price = order[\"price\"]\n",
    "        pl = float(order[\"pl\"])\n",
    "        self.profits.append(pl)\n",
    "        cumpl = sum(self.profits)\n",
    "        print(\"\\n\" + 100* \"-\")\n",
    "        print(\"{} | {}\".format(time, going))\n",
    "        print(\"{} | units = {} | price = {} | P&L = {} | Cum P&L = {}\".format(time, units, price, pl, cumpl))\n",
    "        print(100 * \"-\" + \"\\n\")  \n",
    "    "
   ]
  },
  {
   "cell_type": "code",
   "execution_count": null,
   "metadata": {},
   "outputs": [],
   "source": [
    "trader = ConTrader(\"oanda.cfg\", \"EUR_USD\", \"1min\", window = 1, units = 100000)"
   ]
  },
  {
   "cell_type": "code",
   "execution_count": null,
   "metadata": {},
   "outputs": [],
   "source": [
    "trader.get_most_recent()\n",
    "trader.stream_data(trader.instrument) # no stop after n ticks!\n",
    "if trader.position != 0: # if we have a final open position\n",
    "    close_order = trader.create_order(trader.instrument, units = -trader.position * trader.units, \n",
    "                                      suppress = True, ret = True) \n",
    "    trader.report_trade(close_order, \"GOING NEUTRAL\")\n",
    "    trader.position = 0"
   ]
  },
  {
   "cell_type": "code",
   "execution_count": null,
   "metadata": {},
   "outputs": [],
   "source": []
  }
 ],
 "metadata": {
  "kernelspec": {
   "display_name": "Python 3",
   "language": "python",
   "name": "python3"
  },
  "language_info": {
   "codemirror_mode": {
    "name": "ipython",
    "version": 3
   },
   "file_extension": ".py",
   "mimetype": "text/x-python",
   "name": "python",
   "nbconvert_exporter": "python",
   "pygments_lexer": "ipython3",
   "version": "3.7.10"
  }
 },
 "nbformat": 4,
 "nbformat_minor": 2
}
