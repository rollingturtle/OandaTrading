{
 "cells": [
  {
   "cell_type": "code",
   "execution_count": null,
   "metadata": {},
   "outputs": [],
   "source": [
    "import trader"
   ]
  },
  {
   "cell_type": "code",
   "execution_count": null,
   "metadata": {},
   "outputs": [],
   "source": [
    "trader = trader.ConTrader(\"oanda.cfg\", \"EUR_USD\", \"5s\", 1, 100000)\n",
    "trader.stream_data(trader.instrument, stop = 50) # trading (50 ticks)\n",
    "close_order = trader.create_order(trader.instrument, units = -trader.position * trader.units, \n",
    "                                      suppress = True, ret = True) # close Final Position\n",
    "trader.report_trade(close_order, \"GOING NEUTRAL\") # report Final Trade"
   ]
  },
  {
   "cell_type": "code",
   "execution_count": null,
   "metadata": {},
   "outputs": [],
   "source": []
  }
 ],
 "metadata": {
  "kernelspec": {
   "display_name": "Python 3",
   "language": "python",
   "name": "python3"
  },
  "language_info": {
   "codemirror_mode": {
    "name": "ipython",
    "version": 3
   },
   "file_extension": ".py",
   "mimetype": "text/x-python",
   "name": "python",
   "nbconvert_exporter": "python",
   "pygments_lexer": "ipython3",
   "version": "3.7.9"
  }
 },
 "nbformat": 4,
 "nbformat_minor": 4
}
