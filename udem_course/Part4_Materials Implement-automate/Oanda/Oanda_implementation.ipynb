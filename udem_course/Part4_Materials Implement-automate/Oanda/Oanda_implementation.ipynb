{
 "cells": [
  {
   "cell_type": "markdown",
   "metadata": {},
   "source": [
    "# Real-time Implementation and Automation with Oanda "
   ]
  },
  {
   "cell_type": "markdown",
   "metadata": {},
   "source": [
    "## Recap: Historical Data, real-time Data and Orders"
   ]
  },
  {
   "cell_type": "code",
   "execution_count": null,
   "metadata": {},
   "outputs": [],
   "source": [
    "import pandas as pd\n",
    "import tpqoa"
   ]
  },
  {
   "cell_type": "code",
   "execution_count": null,
   "metadata": {},
   "outputs": [],
   "source": [
    "api = tpqoa.tpqoa(\"oanda.cfg\")"
   ]
  },
  {
   "cell_type": "code",
   "execution_count": null,
   "metadata": {},
   "outputs": [],
   "source": [
    "api.get_history(instrument = \"EUR_USD\", start = \"2020-09-21\", end = \"2020-09-24\",\n",
    "                granularity = \"H1\", price = \"B\")"
   ]
  },
  {
   "cell_type": "code",
   "execution_count": null,
   "metadata": {
    "scrolled": true
   },
   "outputs": [],
   "source": [
    "api.stream_data(\"EUR_USD\", stop = 10) "
   ]
  },
  {
   "cell_type": "code",
   "execution_count": null,
   "metadata": {},
   "outputs": [],
   "source": [
    "api.stop_stream()"
   ]
  },
  {
   "cell_type": "code",
   "execution_count": null,
   "metadata": {},
   "outputs": [],
   "source": [
    "api.create_order(instrument = \"EUR_USD\", units = 100000)"
   ]
  },
  {
   "cell_type": "code",
   "execution_count": null,
   "metadata": {},
   "outputs": [],
   "source": [
    "api.create_order(instrument = \"EUR_USD\", units = -100000)"
   ]
  },
  {
   "cell_type": "code",
   "execution_count": null,
   "metadata": {},
   "outputs": [],
   "source": [
    "api.get_account_summary()"
   ]
  },
  {
   "cell_type": "code",
   "execution_count": null,
   "metadata": {
    "scrolled": false
   },
   "outputs": [],
   "source": [
    "api.get_transactions()"
   ]
  },
  {
   "cell_type": "code",
   "execution_count": null,
   "metadata": {},
   "outputs": [],
   "source": [
    "api.print_transactions()"
   ]
  },
  {
   "cell_type": "code",
   "execution_count": null,
   "metadata": {},
   "outputs": [],
   "source": []
  },
  {
   "cell_type": "markdown",
   "metadata": {},
   "source": [
    "## Collecting and storing real-time tick data"
   ]
  },
  {
   "cell_type": "code",
   "execution_count": null,
   "metadata": {},
   "outputs": [],
   "source": [
    "import pandas as pd\n",
    "import tpqoa"
   ]
  },
  {
   "cell_type": "code",
   "execution_count": null,
   "metadata": {},
   "outputs": [],
   "source": [
    "api = tpqoa.tpqoa(\"oanda.cfg\")"
   ]
  },
  {
   "cell_type": "code",
   "execution_count": null,
   "metadata": {},
   "outputs": [],
   "source": [
    "api.stream_data(\"EUR_USD\", stop = 10)"
   ]
  },
  {
   "cell_type": "code",
   "execution_count": null,
   "metadata": {},
   "outputs": [],
   "source": [
    "# two steps: 1) Retrieve tick data 2) call on_sucess() method to print tick data\n",
    "api.stream_data??"
   ]
  },
  {
   "cell_type": "code",
   "execution_count": null,
   "metadata": {},
   "outputs": [],
   "source": [
    "# called by stream_data() when new data is retrieved \n",
    "api.on_success??"
   ]
  },
  {
   "cell_type": "code",
   "execution_count": null,
   "metadata": {},
   "outputs": [],
   "source": [
    "class CloneClass(tpqoa.tpqoa):\n",
    "    \n",
    "    def on_success(self, time, bid, ask):\n",
    "        print(\"Time: {} | Bid: {} | Ask:{}\".format(time, bid, ask))"
   ]
  },
  {
   "cell_type": "code",
   "execution_count": null,
   "metadata": {},
   "outputs": [],
   "source": [
    "api = CloneClass(\"oanda.cfg\")"
   ]
  },
  {
   "cell_type": "code",
   "execution_count": null,
   "metadata": {
    "scrolled": false
   },
   "outputs": [],
   "source": [
    "api.get_instruments()[:5]"
   ]
  },
  {
   "cell_type": "code",
   "execution_count": null,
   "metadata": {},
   "outputs": [],
   "source": [
    "api.stream_data(\"EUR_USD\", stop = 5)"
   ]
  },
  {
   "cell_type": "code",
   "execution_count": null,
   "metadata": {},
   "outputs": [],
   "source": []
  },
  {
   "cell_type": "markdown",
   "metadata": {},
   "source": [
    "## Storing and resampling real-time tick data (Part 1)"
   ]
  },
  {
   "cell_type": "code",
   "execution_count": null,
   "metadata": {},
   "outputs": [],
   "source": [
    "import pandas as pd\n",
    "import tpqoa"
   ]
  },
  {
   "cell_type": "code",
   "execution_count": null,
   "metadata": {},
   "outputs": [],
   "source": [
    "class GetTickData(tpqoa.tpqoa):\n",
    "    \n",
    "    def __init__(self, config_file):\n",
    "        super().__init__(config_file)\n",
    "        self.tick_data = pd.DataFrame()\n",
    "    \n",
    "    def on_success(self, time, bid, ask):\n",
    "        print(time, bid, ask)\n",
    "        df = pd.DataFrame({\"bid\":bid, \"ask\":ask, \"mid\":(ask + bid)/2}, \n",
    "                          index = [pd.to_datetime(time)])\n",
    "        self.tick_data = self.tick_data.append(df)"
   ]
  },
  {
   "cell_type": "code",
   "execution_count": null,
   "metadata": {},
   "outputs": [],
   "source": [
    "td = GetTickData(\"oanda.cfg\")"
   ]
  },
  {
   "cell_type": "code",
   "execution_count": null,
   "metadata": {},
   "outputs": [],
   "source": [
    "td.stream_data(\"EUR_USD\", stop = 10)"
   ]
  },
  {
   "cell_type": "code",
   "execution_count": null,
   "metadata": {},
   "outputs": [],
   "source": [
    "td.tick_data"
   ]
  },
  {
   "cell_type": "code",
   "execution_count": null,
   "metadata": {},
   "outputs": [],
   "source": [
    "td.tick_data.resample(\"1s\", label = \"right\").last().ffill() # resample to 1s bars"
   ]
  },
  {
   "cell_type": "code",
   "execution_count": null,
   "metadata": {},
   "outputs": [],
   "source": [
    "td = GetTickData(\"oanda.cfg\")"
   ]
  },
  {
   "cell_type": "code",
   "execution_count": null,
   "metadata": {},
   "outputs": [],
   "source": [
    "td.stream_data(\"EUR_USD\", stop = 100)"
   ]
  },
  {
   "cell_type": "code",
   "execution_count": null,
   "metadata": {},
   "outputs": [],
   "source": [
    "td.tick_data.resample(\"10s\", label = \"right\").last()#.ffill()"
   ]
  },
  {
   "cell_type": "code",
   "execution_count": null,
   "metadata": {},
   "outputs": [],
   "source": []
  },
  {
   "cell_type": "markdown",
   "metadata": {},
   "source": [
    "## Storing and resampling real-time tick data (Part 2)"
   ]
  },
  {
   "cell_type": "code",
   "execution_count": null,
   "metadata": {},
   "outputs": [],
   "source": [
    "import pandas as pd\n",
    "import tpqoa"
   ]
  },
  {
   "cell_type": "code",
   "execution_count": null,
   "metadata": {},
   "outputs": [],
   "source": [
    "class GetTickData(tpqoa.tpqoa):\n",
    "    \n",
    "    def __init__(self, config_file, bar_length):\n",
    "        super().__init__(config_file)\n",
    "        self.bar_length = bar_length\n",
    "        self.tick_data = pd.DataFrame()\n",
    "    \n",
    "    def on_success(self, time, bid, ask):\n",
    "        print(time, bid, ask)\n",
    "        df = pd.DataFrame({\"bid\":bid, \"ask\":ask, \"mid\":(ask + bid)/2}, \n",
    "                          index = [pd.to_datetime(time)])\n",
    "        self.tick_data = self.tick_data.append(df)\n",
    "        self.data = self.tick_data.resample(self.bar_length, label = \"right\").last().ffill().iloc[:-1]"
   ]
  },
  {
   "cell_type": "code",
   "execution_count": null,
   "metadata": {},
   "outputs": [],
   "source": [
    "td = GetTickData(\"oanda.cfg\", \"5s\")"
   ]
  },
  {
   "cell_type": "code",
   "execution_count": null,
   "metadata": {},
   "outputs": [],
   "source": [
    "td.stream_data(\"EUR_USD\", stop = 20)"
   ]
  },
  {
   "cell_type": "code",
   "execution_count": null,
   "metadata": {},
   "outputs": [],
   "source": [
    "td.data"
   ]
  },
  {
   "cell_type": "code",
   "execution_count": null,
   "metadata": {},
   "outputs": [],
   "source": [
    "td.tick_data"
   ]
  },
  {
   "cell_type": "code",
   "execution_count": null,
   "metadata": {},
   "outputs": [],
   "source": []
  },
  {
   "cell_type": "markdown",
   "metadata": {},
   "source": [
    "## Implementing a Contrarian Strategy in Real-Time (Part 1)"
   ]
  },
  {
   "cell_type": "code",
   "execution_count": null,
   "metadata": {},
   "outputs": [],
   "source": [
    "import pandas as pd\n",
    "import numpy as np\n",
    "import tpqoa"
   ]
  },
  {
   "cell_type": "code",
   "execution_count": null,
   "metadata": {},
   "outputs": [],
   "source": [
    "class ConTrader(tpqoa.tpqoa):\n",
    "    def __init__(self, conf_file, instrument, bar_length, window, units):\n",
    "        super().__init__(conf_file)\n",
    "        self.position = 0\n",
    "        self.instrument = instrument\n",
    "        self.window = window\n",
    "        self.bar_length = bar_length\n",
    "        self.units = units\n",
    "        self.tick_data = pd.DataFrame()"
   ]
  },
  {
   "cell_type": "code",
   "execution_count": null,
   "metadata": {},
   "outputs": [],
   "source": [
    "trader = ConTrader(\"oanda.cfg\", \"EUR_USD\", \"5s\", 1, 100000)"
   ]
  },
  {
   "cell_type": "code",
   "execution_count": null,
   "metadata": {},
   "outputs": [],
   "source": [
    "trader.window"
   ]
  },
  {
   "cell_type": "code",
   "execution_count": null,
   "metadata": {},
   "outputs": [],
   "source": [
    "trader.stream_data(trader.instrument, stop = 10)"
   ]
  },
  {
   "cell_type": "code",
   "execution_count": null,
   "metadata": {},
   "outputs": [],
   "source": [
    "trader.ticks"
   ]
  },
  {
   "cell_type": "code",
   "execution_count": null,
   "metadata": {},
   "outputs": [],
   "source": []
  },
  {
   "cell_type": "markdown",
   "metadata": {},
   "source": [
    "## Implementing a Contrarian Strategy in Real-Time (Part 2)"
   ]
  },
  {
   "cell_type": "code",
   "execution_count": null,
   "metadata": {},
   "outputs": [],
   "source": [
    "class ConTrader(tpqoa.tpqoa):\n",
    "    def __init__(self, conf_file, instrument, bar_length, window, units):\n",
    "        super().__init__(conf_file)\n",
    "        self.position = 0\n",
    "        self.instrument = instrument\n",
    "        self.window = window\n",
    "        self.bar_length = bar_length\n",
    "        self.units = units\n",
    "        self.tick_data = pd.DataFrame()\n",
    "    \n",
    "    def on_success(self, time, bid, ask):\n",
    "        print(self.ticks, end = \" \")\n",
    "        \n",
    "        # store and resample tick data\n",
    "        df = pd.DataFrame({\"bid\":bid, \"ask\":ask, \"mid\":(ask + bid)/2}, \n",
    "                          index = [pd.to_datetime(time)])\n",
    "        self.tick_data = self.tick_data.append(df)\n",
    "        self.data = self.tick_data.resample(self.bar_length, label = \"right\").last().ffill().iloc[:-1]\n",
    "        \n",
    "        # prepare data & define strategy\n",
    "        self.data[\"returns\"] = np.log(self.data.mid / self.data.mid.shift(1))\n",
    "        self.data[\"position\"] = -np.sign(self.data.returns.rolling(self.window).mean())"
   ]
  },
  {
   "cell_type": "code",
   "execution_count": null,
   "metadata": {},
   "outputs": [],
   "source": [
    "for i in range(10):\n",
    "    print(i, end = \" \")"
   ]
  },
  {
   "cell_type": "code",
   "execution_count": null,
   "metadata": {},
   "outputs": [],
   "source": [
    "trader = ConTrader(\"oanda.cfg\", \"EUR_USD\", \"5s\", 1, 100000)"
   ]
  },
  {
   "cell_type": "code",
   "execution_count": null,
   "metadata": {},
   "outputs": [],
   "source": [
    "trader.stream_data(trader.instrument, stop = 50)"
   ]
  },
  {
   "cell_type": "code",
   "execution_count": null,
   "metadata": {},
   "outputs": [],
   "source": [
    "trader.tick_data"
   ]
  },
  {
   "cell_type": "code",
   "execution_count": null,
   "metadata": {},
   "outputs": [],
   "source": [
    "trader.data"
   ]
  },
  {
   "cell_type": "code",
   "execution_count": null,
   "metadata": {},
   "outputs": [],
   "source": []
  },
  {
   "cell_type": "markdown",
   "metadata": {},
   "source": [
    "## Implementing a Contrarian Strategy in Real-Time (Part 3)"
   ]
  },
  {
   "cell_type": "code",
   "execution_count": null,
   "metadata": {},
   "outputs": [],
   "source": [
    "class ConTrader(tpqoa.tpqoa):\n",
    "    def __init__(self, conf_file, instrument, bar_length, window, units):\n",
    "        super().__init__(conf_file)\n",
    "        self.position = 0\n",
    "        self.instrument = instrument\n",
    "        self.window = window\n",
    "        self.bar_length = bar_length\n",
    "        self.units = units\n",
    "        self.tick_data = pd.DataFrame()\n",
    "        self.min_length = self.window + 1 # minimum number of bars required to start the trade\n",
    "    \n",
    "    def on_success(self, time, bid, ask):\n",
    "        print(self.ticks, end = \" \")\n",
    "        \n",
    "        # store and resample tick data\n",
    "        df = pd.DataFrame({\"bid\":bid, \"ask\":ask, \"mid\":(ask + bid)/2}, \n",
    "                          index = [pd.to_datetime(time)])\n",
    "        self.tick_data = self.tick_data.append(df)\n",
    "        self.data = self.tick_data.resample(self.bar_length, label = \"right\").last().ffill().iloc[:-1]\n",
    "        \n",
    "        # prepare data & define strategy\n",
    "        self.data[\"returns\"] = np.log(self.data.mid / self.data.mid.shift(1))\n",
    "        self.data[\"position\"] = -np.sign(self.data.returns.rolling(self.window).mean())\n",
    "        \n",
    "        # executing trades\n",
    "        if len(self.data) > self.min_length - 1: # if a new bar is added: go through if/elif\n",
    "            self.min_length += 1\n",
    "            if self.data[\"position\"].iloc[-1] == 1: # if signal is long\n",
    "                if self.position == 0:\n",
    "                    self.create_order(self.instrument, self.units) # buy 1 * units if position is neutral (\"1 trade\")\n",
    "                elif self.position == -1:\n",
    "                    self.create_order(self.instrument, self.units * 2) # buy 2 * units if position is short (\"2 trades\") \n",
    "                self.position = 1\n",
    "            elif self.data[\"position\"].iloc[-1] == -1: # if signal is short\n",
    "                if self.position == 0:\n",
    "                    self.create_order(self.instrument, -self.units) # sell 1 * units if position is neutral (\"1 trade\")\n",
    "                elif self.position == 1:\n",
    "                    self.create_order(self.instrument, -self.units * 2) # sell 2 * units if position is long (\"2 trades\")\n",
    "                self.position = -1"
   ]
  },
  {
   "cell_type": "code",
   "execution_count": null,
   "metadata": {},
   "outputs": [],
   "source": [
    "trader = ConTrader(\"oanda.cfg\", \"EUR_USD\", \"5s\", 1, 100000)"
   ]
  },
  {
   "cell_type": "code",
   "execution_count": null,
   "metadata": {},
   "outputs": [],
   "source": [
    "trader.stream_data(trader.instrument, stop = 50)"
   ]
  },
  {
   "cell_type": "code",
   "execution_count": null,
   "metadata": {},
   "outputs": [],
   "source": [
    "trader.data"
   ]
  },
  {
   "cell_type": "code",
   "execution_count": null,
   "metadata": {},
   "outputs": [],
   "source": [
    "trader.position"
   ]
  },
  {
   "cell_type": "code",
   "execution_count": null,
   "metadata": {},
   "outputs": [],
   "source": [
    "trader.units"
   ]
  },
  {
   "cell_type": "code",
   "execution_count": null,
   "metadata": {},
   "outputs": [],
   "source": [
    "trader.create_order(trader.instrument, units = -trader.position * trader.units) # close Final Position"
   ]
  },
  {
   "cell_type": "code",
   "execution_count": null,
   "metadata": {},
   "outputs": [],
   "source": [
    "trader.print_transactions(293)"
   ]
  },
  {
   "cell_type": "code",
   "execution_count": null,
   "metadata": {},
   "outputs": [],
   "source": []
  },
  {
   "cell_type": "markdown",
   "metadata": {},
   "source": [
    "## Implementing a Contrarian Strategy in Real-Time (Part 4)"
   ]
  },
  {
   "cell_type": "code",
   "execution_count": null,
   "metadata": {},
   "outputs": [],
   "source": [
    "class ConTrader(tpqoa.tpqoa):\n",
    "    def __init__(self, conf_file, instrument, bar_length, window, units):\n",
    "        super().__init__(conf_file)\n",
    "        self.position = 0\n",
    "        self.instrument = instrument\n",
    "        self.window = window\n",
    "        self.bar_length = bar_length\n",
    "        self.units = units\n",
    "        self.tick_data = pd.DataFrame()\n",
    "        self.min_length = self.window + 1\n",
    "    \n",
    "    def resample_data(self):\n",
    "        self.data = self.tick_data.resample(self.bar_length, label = \"right\").last().ffill().iloc[:-1]\n",
    "    \n",
    "    def prepare_data(self):\n",
    "        self.data[\"returns\"] = np.log(self.data.mid / self.data.mid.shift(1))\n",
    "        self.data[\"position\"] = -np.sign(self.data.returns.rolling(self.window).mean())\n",
    "    \n",
    "    def on_success(self, time, bid, ask):\n",
    "        print(self.ticks, end = \" \")\n",
    "        \n",
    "        # store and resample tick data\n",
    "        df = pd.DataFrame({\"bid\":bid, \"ask\":ask, \"mid\":(ask + bid)/2}, \n",
    "                          index = [pd.to_datetime(time)])\n",
    "        self.tick_data = self.tick_data.append(df)\n",
    "        self.resample_data()\n",
    "        \n",
    "        # prepare data & define strategy\n",
    "        self.prepare_data()\n",
    "        \n",
    "        # executing trades\n",
    "        if len(self.data) > self.min_length - 1:\n",
    "            self.min_length += 1\n",
    "            if self.data[\"position\"].iloc[-1] == 1: # if signal is long\n",
    "                if self.position == 0:\n",
    "                    self.create_order(self.instrument, self.units) # buy 1 * units if position is neutral (\"1 trade\")\n",
    "                elif self.position == -1:\n",
    "                    self.create_order(self.instrument, self.units * 2) # buy 2 * units if position is short (\"2 trades\") \n",
    "                self.position = 1\n",
    "            elif self.data[\"position\"].iloc[-1] == -1: # if signal is short\n",
    "                if self.position == 0:\n",
    "                    self.create_order(self.instrument, -self.units) # sell 1 * units if position is neutral (\"1 trade\")\n",
    "                elif self.position == 1:\n",
    "                    self.create_order(self.instrument, -self.units * 2) # sell 2 * units if position is long (\"2 trades\")\n",
    "                self.position = -1"
   ]
  },
  {
   "cell_type": "code",
   "execution_count": null,
   "metadata": {},
   "outputs": [],
   "source": [
    "trader = ConTrader(\"oanda.cfg\", \"EUR_USD\", \"5s\", 1, 100000)"
   ]
  },
  {
   "cell_type": "code",
   "execution_count": null,
   "metadata": {},
   "outputs": [],
   "source": [
    "order = trader.create_order(trader.instrument, 100000, suppress = True, ret = True)"
   ]
  },
  {
   "cell_type": "code",
   "execution_count": null,
   "metadata": {},
   "outputs": [],
   "source": [
    "order"
   ]
  },
  {
   "cell_type": "code",
   "execution_count": null,
   "metadata": {},
   "outputs": [],
   "source": [
    "order[\"price\"]"
   ]
  },
  {
   "cell_type": "code",
   "execution_count": null,
   "metadata": {},
   "outputs": [],
   "source": [
    "order2 = trader.create_order(trader.instrument, -100000, suppress = True, ret = True)"
   ]
  },
  {
   "cell_type": "code",
   "execution_count": null,
   "metadata": {},
   "outputs": [],
   "source": [
    "order2 "
   ]
  },
  {
   "cell_type": "code",
   "execution_count": null,
   "metadata": {},
   "outputs": [],
   "source": [
    "order2[\"pl\"]"
   ]
  },
  {
   "cell_type": "code",
   "execution_count": null,
   "metadata": {},
   "outputs": [],
   "source": [
    "order2[\"time\"]"
   ]
  },
  {
   "cell_type": "code",
   "execution_count": null,
   "metadata": {},
   "outputs": [],
   "source": [
    "order2[\"units\"]"
   ]
  },
  {
   "cell_type": "code",
   "execution_count": null,
   "metadata": {},
   "outputs": [],
   "source": [
    "order2[\"id\"]"
   ]
  },
  {
   "cell_type": "code",
   "execution_count": null,
   "metadata": {},
   "outputs": [],
   "source": []
  },
  {
   "cell_type": "markdown",
   "metadata": {},
   "source": [
    "## Implementing a Contrarian Strategy in Real-Time (Part 5)"
   ]
  },
  {
   "cell_type": "code",
   "execution_count": null,
   "metadata": {},
   "outputs": [],
   "source": [
    "import pandas as pd\n",
    "import numpy as np\n",
    "import tpqoa"
   ]
  },
  {
   "cell_type": "code",
   "execution_count": null,
   "metadata": {},
   "outputs": [],
   "source": [
    "class ConTrader(tpqoa.tpqoa):\n",
    "    def __init__(self, conf_file, instrument, bar_length, window, units):\n",
    "        super().__init__(conf_file)\n",
    "        self.position = 0\n",
    "        self.instrument = instrument\n",
    "        self.window = window\n",
    "        self.bar_length = bar_length\n",
    "        self.units = units\n",
    "        self.tick_data = pd.DataFrame()\n",
    "        self.min_length = self.window + 1\n",
    "        self.profits = [] # store p&l for all trades\n",
    "    \n",
    "    def resample_data(self):\n",
    "        self.data = self.tick_data.resample(self.bar_length, label = \"right\").last().ffill().iloc[:-1]\n",
    "    \n",
    "    def prepare_data(self):\n",
    "        self.data[\"returns\"] = np.log(self.data.mid / self.data.mid.shift(1))\n",
    "        self.data[\"position\"] = -np.sign(self.data.returns.rolling(self.window).mean())\n",
    "    \n",
    "    def on_success(self, time, bid, ask):\n",
    "        print(self.ticks, end = \" \")\n",
    "        \n",
    "        # store and resample tick data\n",
    "        df = pd.DataFrame({\"bid\":bid, \"ask\":ask, \"mid\":(ask + bid)/2}, \n",
    "                          index = [pd.to_datetime(time)])\n",
    "        self.tick_data = self.tick_data.append(df)\n",
    "        self.resample_data()\n",
    "        \n",
    "        # prepare data & define strategy\n",
    "        self.prepare_data()\n",
    "        \n",
    "        # executing trades\n",
    "        if len(self.data) > self.min_length - 1:\n",
    "            self.min_length += 1\n",
    "            if self.data[\"position\"].iloc[-1] == 1:\n",
    "                if self.position == 0:\n",
    "                    order = self.create_order(self.instrument, self.units, suppress = True, ret = True)\n",
    "                    self.report_trade(order, \"GOING LONG\")\n",
    "                elif self.position == -1:\n",
    "                    order = self.create_order(self.instrument, self.units * 2, suppress = True, ret = True) \n",
    "                    self.report_trade(order, \"GOING LONG\")\n",
    "                self.position = 1\n",
    "            elif self.data[\"position\"].iloc[-1] == -1: \n",
    "                if self.position == 0:\n",
    "                    order = self.create_order(self.instrument, -self.units, suppress = True, ret = True)\n",
    "                    self.report_trade(order, \"GOING SHORT\")\n",
    "                elif self.position == 1:\n",
    "                    order = self.create_order(self.instrument, -self.units * 2, suppress = True, ret = True)\n",
    "                    self.report_trade(order, \"GOING SHORT\")\n",
    "                self.position = -1\n",
    "    \n",
    "    def report_trade(self, order, going):\n",
    "        time = order[\"time\"]\n",
    "        units = order[\"units\"]\n",
    "        price = order[\"price\"]\n",
    "        pl = float(order[\"pl\"])\n",
    "        self.profits.append(pl)\n",
    "        cumpl = sum(self.profits)\n",
    "        print(\"\\n\" + 100* \"-\")\n",
    "        print(\"{} | {}\".format(time, going))\n",
    "        print(\"{} | units = {} | price = {} | P&L = {} | Cum P&L = {}\".format(time, units, price, pl, cumpl))\n",
    "        print(100 * \"-\" + \"\\n\")"
   ]
  },
  {
   "cell_type": "code",
   "execution_count": null,
   "metadata": {},
   "outputs": [],
   "source": [
    "trader = ConTrader(\"oanda.cfg\", \"EUR_USD\", \"5s\", 1, 100000)"
   ]
  },
  {
   "cell_type": "markdown",
   "metadata": {},
   "source": [
    "## Implementing a Contrarian Strategy in Real-Time (Part 6)"
   ]
  },
  {
   "cell_type": "code",
   "execution_count": null,
   "metadata": {},
   "outputs": [],
   "source": [
    "trader.stream_data(trader.instrument, stop = 50) # trading (50 ticks)\n",
    "close_order = trader.create_order(trader.instrument, units = -trader.position * trader.units, \n",
    "                                  suppress = True, ret = True) # close Final Position\n",
    "trader.report_trade(close_order, \"GOING NEUTRAL\") # report Final Trade"
   ]
  },
  {
   "cell_type": "code",
   "execution_count": null,
   "metadata": {},
   "outputs": [],
   "source": [
    "trader.data"
   ]
  },
  {
   "cell_type": "code",
   "execution_count": null,
   "metadata": {},
   "outputs": [],
   "source": [
    "trader.tick_data"
   ]
  },
  {
   "cell_type": "code",
   "execution_count": null,
   "metadata": {},
   "outputs": [],
   "source": [
    "trader.profits"
   ]
  },
  {
   "cell_type": "code",
   "execution_count": null,
   "metadata": {},
   "outputs": [],
   "source": []
  },
  {
   "cell_type": "markdown",
   "metadata": {},
   "source": [
    "## Code Efficiency"
   ]
  },
  {
   "cell_type": "code",
   "execution_count": null,
   "metadata": {},
   "outputs": [],
   "source": [
    "import pandas as pd\n",
    "import tpqoa"
   ]
  },
  {
   "cell_type": "code",
   "execution_count": null,
   "metadata": {},
   "outputs": [],
   "source": [
    "class GetTickData(tpqoa.tpqoa):\n",
    "    \n",
    "    def __init__(self, config_file, bar_length):\n",
    "        super().__init__(config_file)\n",
    "        self.bar_length = bar_length\n",
    "        self.tick_data = pd.DataFrame()\n",
    "    \n",
    "    def on_success(self, time, bid, ask):\n",
    "        if self.ticks % 5 == 0:\n",
    "            df = pd.DataFrame({\"bid\":bid, \"ask\":ask, \"mid\":(ask + bid)/2}, \n",
    "                              index = [pd.to_datetime(time)])\n",
    "            self.tick_data = self.tick_data.append(df)\n",
    "            self.data = self.tick_data.resample(self.bar_length, label = \"right\").last().ffill().iloc[:-1]"
   ]
  },
  {
   "cell_type": "code",
   "execution_count": null,
   "metadata": {},
   "outputs": [],
   "source": [
    "td = GetTickData(\"oanda.cfg\", \"1min\")"
   ]
  },
  {
   "cell_type": "code",
   "execution_count": null,
   "metadata": {},
   "outputs": [],
   "source": [
    "td.stream_data(\"EUR_USD\", stop = 50)"
   ]
  },
  {
   "cell_type": "code",
   "execution_count": null,
   "metadata": {},
   "outputs": [],
   "source": [
    "td.tick_data"
   ]
  },
  {
   "cell_type": "code",
   "execution_count": null,
   "metadata": {},
   "outputs": [],
   "source": [
    "len(td.tick_data)"
   ]
  },
  {
   "cell_type": "code",
   "execution_count": null,
   "metadata": {},
   "outputs": [],
   "source": [
    "td.data"
   ]
  },
  {
   "cell_type": "code",
   "execution_count": null,
   "metadata": {},
   "outputs": [],
   "source": []
  },
  {
   "cell_type": "markdown",
   "metadata": {},
   "source": [
    "## Working with historical data and real-time tick data (Part 1)"
   ]
  },
  {
   "cell_type": "code",
   "execution_count": null,
   "metadata": {},
   "outputs": [],
   "source": [
    "import pandas as pd\n",
    "import numpy as np\n",
    "import tpqoa\n",
    "from datetime import datetime, timedelta"
   ]
  },
  {
   "cell_type": "code",
   "execution_count": null,
   "metadata": {},
   "outputs": [],
   "source": [
    "instrument = \"EUR_USD\""
   ]
  },
  {
   "cell_type": "code",
   "execution_count": null,
   "metadata": {},
   "outputs": [],
   "source": [
    "now = datetime.utcnow()\n",
    "now"
   ]
  },
  {
   "cell_type": "code",
   "execution_count": null,
   "metadata": {},
   "outputs": [],
   "source": [
    "api = tpqoa.tpqoa(\"oanda.cfg\")"
   ]
  },
  {
   "cell_type": "code",
   "execution_count": null,
   "metadata": {},
   "outputs": [],
   "source": [
    "api.get_history(instrument = \"EUR_USD\", start = \"2020-12-07\", end = \"2020-12-08\",\n",
    "                granularity = \"M1\", price = \"B\")"
   ]
  },
  {
   "cell_type": "code",
   "execution_count": null,
   "metadata": {},
   "outputs": [],
   "source": [
    "now = now - timedelta(microseconds = now.microsecond)\n",
    "now"
   ]
  },
  {
   "cell_type": "code",
   "execution_count": null,
   "metadata": {},
   "outputs": [],
   "source": [
    "yesterday = now - timedelta(days = 1)\n",
    "yesterday"
   ]
  },
  {
   "cell_type": "code",
   "execution_count": null,
   "metadata": {},
   "outputs": [],
   "source": [
    "df = api.get_history(instrument = \"EUR_USD\", start = yesterday, end = now,\n",
    "                     granularity = \"M1\", price = \"M\")"
   ]
  },
  {
   "cell_type": "code",
   "execution_count": null,
   "metadata": {},
   "outputs": [],
   "source": [
    "df"
   ]
  },
  {
   "cell_type": "code",
   "execution_count": null,
   "metadata": {},
   "outputs": [],
   "source": [
    "df.index = df.index.tz_localize(\"UTC\")"
   ]
  },
  {
   "cell_type": "code",
   "execution_count": null,
   "metadata": {},
   "outputs": [],
   "source": [
    "class ConTrader(tpqoa.tpqoa):\n",
    "    def __init__(self, conf_file, instrument, bar_length, window, units):\n",
    "        super().__init__(conf_file)\n",
    "        self.position = 0\n",
    "        self.instrument = instrument\n",
    "        self.window = window\n",
    "        self.bar_length = bar_length\n",
    "        self.units = units\n",
    "        self.tick_data = pd.DataFrame()\n",
    "        self.hist_data = None\n",
    "        self.min_length = None\n",
    "        self.raw_data = None\n",
    "        self.data = None\n",
    "        self.profits = []\n",
    "    \n",
    "    def get_most_recent(self, days = 5):\n",
    "        now = datetime.utcnow()\n",
    "        now = now - timedelta(microseconds = now.microsecond)\n",
    "        past = now - timedelta(days = days)\n",
    "        df = self.get_history(instrument = self.instrument, start = past, end = now,\n",
    "                               granularity = \"M1\", price = \"M\").c.dropna().to_frame()\n",
    "        df.rename(columns = {\"c\":self.instrument}, inplace = True)\n",
    "        df.index = df.index.tz_localize(\"UTC\")\n",
    "        df = df.resample(self.bar_length, label = \"right\").last().dropna().iloc[:-1]\n",
    "        self.hist_data = df.copy()\n",
    "        self.min_length = len(self.hist_data) + 1\n",
    "        \n",
    "        #..."
   ]
  },
  {
   "cell_type": "code",
   "execution_count": null,
   "metadata": {},
   "outputs": [],
   "source": [
    "trader = ConTrader(\"oanda.cfg\", \"EUR_USD\", \"2min\", 20, 100000) # 1. create Trader Object"
   ]
  },
  {
   "cell_type": "code",
   "execution_count": null,
   "metadata": {},
   "outputs": [],
   "source": [
    "trader.get_most_recent(days = 5) # 2. Get Historical Data"
   ]
  },
  {
   "cell_type": "code",
   "execution_count": null,
   "metadata": {},
   "outputs": [],
   "source": [
    "trader.hist_data"
   ]
  },
  {
   "cell_type": "code",
   "execution_count": null,
   "metadata": {},
   "outputs": [],
   "source": [
    "# 3. Stream Live Data, Merge with Historical Data, Trading ..."
   ]
  },
  {
   "cell_type": "code",
   "execution_count": null,
   "metadata": {},
   "outputs": [],
   "source": []
  },
  {
   "cell_type": "markdown",
   "metadata": {},
   "source": [
    "## Working with historical data and real-time tick data (Part 2)"
   ]
  },
  {
   "cell_type": "code",
   "execution_count": null,
   "metadata": {},
   "outputs": [],
   "source": [
    "class ConTrader(tpqoa.tpqoa):\n",
    "    def __init__(self, conf_file, instrument, bar_length, window, units):\n",
    "        super().__init__(conf_file)\n",
    "        self.position = 0\n",
    "        self.instrument = instrument\n",
    "        self.window = window\n",
    "        self.bar_length = bar_length\n",
    "        self.units = units\n",
    "        self.tick_data = pd.DataFrame()\n",
    "        self.hist_data = None\n",
    "        self.min_length = None\n",
    "        self.raw_data = None\n",
    "        self.data = None\n",
    "        self.profits = []\n",
    "    \n",
    "    def get_most_recent(self, days = 5):\n",
    "        now = datetime.utcnow()\n",
    "        now = now - timedelta(microseconds = now.microsecond)\n",
    "        past = now - timedelta(days = days)\n",
    "        df = self.get_history(instrument = self.instrument, start = past, end = now,\n",
    "                               granularity = \"M1\", price = \"M\").c.dropna().to_frame()\n",
    "        df.rename(columns = {\"c\":self.instrument}, inplace = True)\n",
    "        df.index = df.index.tz_localize(\"UTC\")\n",
    "        df = df.resample(self.bar_length, label = \"right\").last().dropna().iloc[:-1]\n",
    "        self.hist_data = df.copy()\n",
    "        self.min_length = len(self.hist_data) + 1\n",
    "    \n",
    "    def resample_and_join(self):\n",
    "        self.raw_data = self.hist_data.append(self.tick_data.resample(self.bar_length, \n",
    "                                                                  label=\"right\").last().ffill().iloc[:-1]) \n",
    "    \n",
    "    def prepare_data(self):\n",
    "        df = self.raw_data.copy()\n",
    "        df[\"returns\"] = np.log(df[self.instrument] / df[self.instrument].shift())\n",
    "        df[\"position\"] = -np.sign(df.returns.rolling(self.window).mean())\n",
    "        self.data = df.copy()\n",
    "    \n",
    "    def on_success(self, time, bid, ask):\n",
    "        print(self.ticks, end = \" \")\n",
    "        \n",
    "        # store and resample tick data and join with historical data\n",
    "        df = pd.DataFrame({self.instrument:(ask + bid)/2}, \n",
    "                          index = [pd.to_datetime(time)])\n",
    "        self.tick_data = self.tick_data.append(df)\n",
    "        self.resample_and_join()\n",
    "        \n",
    "        # only if full new bar has been added:\n",
    "        if len(self.raw_data) > self.min_length - 1:\n",
    "            self.min_length += 1\n",
    "            self.prepare_data()\n",
    "            \n",
    "            # order and trades...\n",
    "            # if self.data[\"position\"].iloc[-1] == 1:\n",
    "                #if self.position == 0:\n",
    "            \n",
    "            \n",
    "            \n",
    "            "
   ]
  },
  {
   "cell_type": "code",
   "execution_count": null,
   "metadata": {},
   "outputs": [],
   "source": [
    "trader = ConTrader(\"oanda.cfg\", \"EUR_USD\", \"2min\", 20, 100000) # 1. create Trader Object"
   ]
  },
  {
   "cell_type": "code",
   "execution_count": null,
   "metadata": {},
   "outputs": [],
   "source": [
    "trader.get_most_recent(days = 5) # 2. Get Historical Data"
   ]
  },
  {
   "cell_type": "code",
   "execution_count": null,
   "metadata": {},
   "outputs": [],
   "source": [
    "trader.stream_data(\"EUR_USD\", stop = 200) # 3. Stream Live Data, Merge with Historical, Trading"
   ]
  },
  {
   "cell_type": "code",
   "execution_count": null,
   "metadata": {},
   "outputs": [],
   "source": [
    "trader.hist_data"
   ]
  },
  {
   "cell_type": "code",
   "execution_count": null,
   "metadata": {},
   "outputs": [],
   "source": [
    "trader.tick_data"
   ]
  },
  {
   "cell_type": "code",
   "execution_count": null,
   "metadata": {},
   "outputs": [],
   "source": [
    "trader.raw_data"
   ]
  },
  {
   "cell_type": "code",
   "execution_count": null,
   "metadata": {},
   "outputs": [],
   "source": [
    "trader.data"
   ]
  },
  {
   "cell_type": "code",
   "execution_count": null,
   "metadata": {},
   "outputs": [],
   "source": [
    "trader.min_length"
   ]
  },
  {
   "cell_type": "code",
   "execution_count": null,
   "metadata": {},
   "outputs": [],
   "source": []
  },
  {
   "cell_type": "markdown",
   "metadata": {},
   "source": [
    "####################################################################################################"
   ]
  },
  {
   "cell_type": "markdown",
   "metadata": {},
   "source": [
    "(you can find the corresponding Video for the following lines of code in __Section 23__: Cloud Deployment (AWS) | Scheduling Trading Sessions | Full Automation)"
   ]
  },
  {
   "cell_type": "markdown",
   "metadata": {},
   "source": [
    "## How to Time/Schedule the End of a Trading Session (Simple Contrarian)"
   ]
  },
  {
   "cell_type": "code",
   "execution_count": null,
   "metadata": {},
   "outputs": [],
   "source": [
    "import pandas as pd\n",
    "import numpy as np\n",
    "import tpqoa\n",
    "import datetime as dt"
   ]
  },
  {
   "cell_type": "code",
   "execution_count": null,
   "metadata": {},
   "outputs": [],
   "source": [
    "dt.datetime.utcnow().time() # current utc time"
   ]
  },
  {
   "cell_type": "code",
   "execution_count": null,
   "metadata": {},
   "outputs": [],
   "source": [
    "dt.time(17, 45) # desired end of trading session (in utc time)"
   ]
  },
  {
   "cell_type": "code",
   "execution_count": null,
   "metadata": {},
   "outputs": [],
   "source": [
    "if dt.datetime.utcnow().time() >= dt.time(12, 45):\n",
    "    print(\"Stop the Trading Session!\")"
   ]
  },
  {
   "cell_type": "code",
   "execution_count": null,
   "metadata": {},
   "outputs": [],
   "source": [
    "class ConTrader(tpqoa.tpqoa):\n",
    "    def __init__(self, conf_file, instrument, bar_length, window, units):\n",
    "        super().__init__(conf_file)\n",
    "        self.position = 0\n",
    "        self.instrument = instrument\n",
    "        self.window = window\n",
    "        self.bar_length = bar_length\n",
    "        self.units = units\n",
    "        self.tick_data = pd.DataFrame()\n",
    "        self.min_length = self.window + 1\n",
    "        self.profits = [] # store p&l for all trades\n",
    "    \n",
    "    def resample_data(self):\n",
    "        self.data = self.tick_data.resample(self.bar_length, label = \"right\").last().ffill().iloc[:-1]\n",
    "    \n",
    "    def prepare_data(self):\n",
    "        self.data[\"returns\"] = np.log(self.data.mid / self.data.mid.shift(1))\n",
    "        self.data[\"position\"] = -np.sign(self.data.returns.rolling(self.window).mean())\n",
    "    \n",
    "    def on_success(self, time, bid, ask):\n",
    "        print(self.ticks, end = \" \")\n",
    "        \n",
    "        # store and resample tick data\n",
    "        df = pd.DataFrame({\"bid\":bid, \"ask\":ask, \"mid\":(ask + bid)/2}, \n",
    "                          index = [pd.to_datetime(time)])\n",
    "        self.tick_data = self.tick_data.append(df)\n",
    "        self.resample_data()\n",
    "        \n",
    "        # prepare data & define strategy\n",
    "        self.prepare_data()\n",
    "        \n",
    "        # executing trades\n",
    "        if len(self.data) > self.min_length - 1:\n",
    "            self.min_length += 1\n",
    "            if self.data[\"position\"].iloc[-1] == 1:\n",
    "                if self.position == 0:\n",
    "                    order = self.create_order(self.instrument, self.units, suppress = True, ret = True)\n",
    "                    self.report_trade(order, \"GOING LONG\")\n",
    "                elif self.position == -1:\n",
    "                    order = self.create_order(self.instrument, self.units * 2, suppress = True, ret = True) \n",
    "                    self.report_trade(order, \"GOING LONG\")\n",
    "                self.position = 1\n",
    "            elif self.data[\"position\"].iloc[-1] == -1: \n",
    "                if self.position == 0:\n",
    "                    order = self.create_order(self.instrument, -self.units, suppress = True, ret = True)\n",
    "                    self.report_trade(order, \"GOING SHORT\")\n",
    "                elif self.position == 1:\n",
    "                    order = self.create_order(self.instrument, -self.units * 2, suppress = True, ret = True)\n",
    "                    self.report_trade(order, \"GOING SHORT\")\n",
    "                self.position = -1\n",
    "        \n",
    "        # stop\n",
    "        if dt.datetime.utcnow().time() >= dt.time(17, 45):\n",
    "            self.stop_stream = True    \n",
    "    \n",
    "    def report_trade(self, order, going):\n",
    "        time = order[\"time\"]\n",
    "        units = order[\"units\"]\n",
    "        price = order[\"price\"]\n",
    "        pl = float(order[\"pl\"])\n",
    "        self.profits.append(pl)\n",
    "        cumpl = sum(self.profits)\n",
    "        print(\"\\n\" + 100* \"-\")\n",
    "        print(\"{} | {}\".format(time, going))\n",
    "        print(\"{} | units = {} | price = {} | P&L = {} | Cum P&L = {}\".format(time, units, price, pl, cumpl))\n",
    "        print(100 * \"-\" + \"\\n\")"
   ]
  },
  {
   "cell_type": "code",
   "execution_count": null,
   "metadata": {},
   "outputs": [],
   "source": [
    "trader = ConTrader(\"oanda.cfg\", \"EUR_USD\", \"5s\", 1, 100000)"
   ]
  },
  {
   "cell_type": "code",
   "execution_count": null,
   "metadata": {},
   "outputs": [],
   "source": [
    "trader.stream_data(trader.instrument)\n",
    "close_order = trader.create_order(trader.instrument, units = -trader.position * trader.units, \n",
    "                                  suppress = True, ret = True) # close Final Position\n",
    "trader.report_trade(close_order, \"GOING NEUTRAL\") # report Final Trade"
   ]
  },
  {
   "cell_type": "code",
   "execution_count": null,
   "metadata": {},
   "outputs": [],
   "source": []
  }
 ],
 "metadata": {
  "kernelspec": {
   "display_name": "Python 3",
   "language": "python",
   "name": "python3"
  },
  "language_info": {
   "codemirror_mode": {
    "name": "ipython",
    "version": 3
   },
   "file_extension": ".py",
   "mimetype": "text/x-python",
   "name": "python",
   "nbconvert_exporter": "python",
   "pygments_lexer": "ipython3",
   "version": "3.7.9"
  }
 },
 "nbformat": 4,
 "nbformat_minor": 2
}
