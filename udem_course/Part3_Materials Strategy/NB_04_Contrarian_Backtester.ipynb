{
 "cells": [
  {
   "cell_type": "markdown",
   "metadata": {},
   "source": [
    "# Generalization with OOP: The ConBacktester Class"
   ]
  },
  {
   "cell_type": "markdown",
   "metadata": {},
   "source": [
    "## Using the ConBacktester Class"
   ]
  },
  {
   "cell_type": "code",
   "execution_count": null,
   "metadata": {
    "scrolled": true
   },
   "outputs": [],
   "source": [
    "import pandas as pd\n",
    "import numpy as np\n",
    "import matplotlib.pyplot as plt\n",
    "plt.style.use(\"seaborn\")"
   ]
  },
  {
   "cell_type": "code",
   "execution_count": null,
   "metadata": {},
   "outputs": [],
   "source": [
    "df = pd.read_csv(\"intraday_pairs.csv\", parse_dates = [\"time\"], index_col = \"time\")\n",
    "df"
   ]
  },
  {
   "cell_type": "code",
   "execution_count": null,
   "metadata": {},
   "outputs": [],
   "source": [
    "df.info()"
   ]
  },
  {
   "cell_type": "code",
   "execution_count": null,
   "metadata": {},
   "outputs": [],
   "source": [
    "ptc = 0.00007"
   ]
  },
  {
   "cell_type": "code",
   "execution_count": null,
   "metadata": {},
   "outputs": [],
   "source": [
    "import ConBacktester as Con"
   ]
  },
  {
   "cell_type": "code",
   "execution_count": null,
   "metadata": {},
   "outputs": [],
   "source": [
    "tester = Con.ConBacktester(\"EURUSD\", \"2018-01-01\", \"2019-12-31\", 0)"
   ]
  },
  {
   "cell_type": "code",
   "execution_count": null,
   "metadata": {},
   "outputs": [],
   "source": [
    "tester"
   ]
  },
  {
   "cell_type": "code",
   "execution_count": null,
   "metadata": {},
   "outputs": [],
   "source": [
    "tester.test_strategy(3)"
   ]
  },
  {
   "cell_type": "code",
   "execution_count": null,
   "metadata": {},
   "outputs": [],
   "source": [
    "tester.plot_results()"
   ]
  },
  {
   "cell_type": "code",
   "execution_count": null,
   "metadata": {},
   "outputs": [],
   "source": [
    "tester.results"
   ]
  },
  {
   "cell_type": "code",
   "execution_count": null,
   "metadata": {},
   "outputs": [],
   "source": [
    "tester = Con.ConBacktester(\"GBPUSD\", \"2018-01-01\", \"2019-12-31\", 0)"
   ]
  },
  {
   "cell_type": "code",
   "execution_count": null,
   "metadata": {},
   "outputs": [],
   "source": [
    "tester.plot_results()"
   ]
  },
  {
   "cell_type": "code",
   "execution_count": null,
   "metadata": {},
   "outputs": [],
   "source": [
    "tester.test_strategy(window = 1)"
   ]
  },
  {
   "cell_type": "code",
   "execution_count": null,
   "metadata": {},
   "outputs": [],
   "source": [
    "tester.plot_results()"
   ]
  },
  {
   "cell_type": "code",
   "execution_count": null,
   "metadata": {},
   "outputs": [],
   "source": [
    "tester.results"
   ]
  },
  {
   "cell_type": "code",
   "execution_count": null,
   "metadata": {},
   "outputs": [],
   "source": [
    "tester.results.trades.value_counts()"
   ]
  },
  {
   "cell_type": "code",
   "execution_count": null,
   "metadata": {},
   "outputs": [],
   "source": []
  },
  {
   "cell_type": "markdown",
   "metadata": {},
   "source": [
    "## OOP Challenge: Create the ConBacktester Class from scratch"
   ]
  },
  {
   "cell_type": "markdown",
   "metadata": {},
   "source": [
    "__Steps__:"
   ]
  },
  {
   "cell_type": "markdown",
   "metadata": {},
   "source": [
    "1. Initialize the properties __symbol__, __start__, __end__, __tc__, __results__. "
   ]
  },
  {
   "cell_type": "markdown",
   "metadata": {},
   "source": [
    "2. Add the method __get_data()__ retrieving & preparing raw data from \"intraday_pairs.csv\". Call get_data() in the \"dunder init\" method."
   ]
  },
  {
   "cell_type": "markdown",
   "metadata": {},
   "source": [
    "3. Add the method __test_strategy()__ with the paramter window = ."
   ]
  },
  {
   "cell_type": "markdown",
   "metadata": {},
   "source": [
    "4. Add the method __plot_results()__."
   ]
  },
  {
   "cell_type": "markdown",
   "metadata": {},
   "source": [
    "5. Add an appropriate (string) __representation__ and __Docstrings__."
   ]
  },
  {
   "cell_type": "code",
   "execution_count": null,
   "metadata": {},
   "outputs": [],
   "source": []
  },
  {
   "cell_type": "markdown",
   "metadata": {},
   "source": [
    "# Solutions (Stop here if you want to code on your own!)"
   ]
  },
  {
   "cell_type": "markdown",
   "metadata": {},
   "source": [
    "# ++++++++++++++++++++++++++++++++++++++++++++++++++++++++++"
   ]
  },
  {
   "cell_type": "code",
   "execution_count": null,
   "metadata": {},
   "outputs": [],
   "source": []
  },
  {
   "cell_type": "code",
   "execution_count": null,
   "metadata": {},
   "outputs": [],
   "source": []
  },
  {
   "cell_type": "markdown",
   "metadata": {},
   "source": [
    "## Instantiation"
   ]
  },
  {
   "cell_type": "code",
   "execution_count": null,
   "metadata": {},
   "outputs": [],
   "source": [
    "class ConBacktester():\n",
    "    def __init__(self, symbol, start, end, tc):\n",
    "        self.symbol = symbol\n",
    "        self.start = start\n",
    "        self.end = end\n",
    "        self.tc = tc\n",
    "        self.results = None"
   ]
  },
  {
   "cell_type": "code",
   "execution_count": null,
   "metadata": {},
   "outputs": [],
   "source": [
    "tester = ConBacktester(\"EURUSD\", \"2018-01-01\", \"2019-12-31\", 0)"
   ]
  },
  {
   "cell_type": "code",
   "execution_count": null,
   "metadata": {},
   "outputs": [],
   "source": [
    "tester.end"
   ]
  },
  {
   "cell_type": "code",
   "execution_count": null,
   "metadata": {},
   "outputs": [],
   "source": [
    "tester.tc"
   ]
  },
  {
   "cell_type": "code",
   "execution_count": null,
   "metadata": {},
   "outputs": [],
   "source": []
  },
  {
   "cell_type": "markdown",
   "metadata": {},
   "source": [
    "## Method get_data()"
   ]
  },
  {
   "cell_type": "code",
   "execution_count": null,
   "metadata": {},
   "outputs": [],
   "source": [
    "class ConBacktester():\n",
    "    \n",
    "    def __init__(self, symbol, start, end, tc):\n",
    "        self.symbol = symbol\n",
    "        self.start = start\n",
    "        self.end = end\n",
    "        self.tc = tc\n",
    "        self.results = None\n",
    "        self.get_data()\n",
    "    \n",
    "    def get_data(self):\n",
    "        raw = pd.read_csv(\"intraday_pairs.csv\", parse_dates = [\"time\"], index_col = \"time\")\n",
    "        raw = raw[self.symbol].to_frame().dropna()\n",
    "        raw = raw.loc[self.start:self.end].copy()\n",
    "        raw.rename(columns={self.symbol: \"price\"}, inplace=True)\n",
    "        raw[\"returns\"] = np.log(raw / raw.shift(1))\n",
    "        self.data = raw\n",
    "        return raw"
   ]
  },
  {
   "cell_type": "code",
   "execution_count": null,
   "metadata": {},
   "outputs": [],
   "source": [
    "tester = ConBacktester(\"EURUSD\", \"2018-01-01\", \"2019-12-31\", 0)"
   ]
  },
  {
   "cell_type": "code",
   "execution_count": null,
   "metadata": {},
   "outputs": [],
   "source": [
    "tester.data"
   ]
  },
  {
   "cell_type": "code",
   "execution_count": null,
   "metadata": {},
   "outputs": [],
   "source": [
    "tester.get_data()"
   ]
  },
  {
   "cell_type": "code",
   "execution_count": null,
   "metadata": {},
   "outputs": [],
   "source": []
  },
  {
   "cell_type": "markdown",
   "metadata": {},
   "source": [
    "## Testing a Strategy"
   ]
  },
  {
   "cell_type": "code",
   "execution_count": null,
   "metadata": {},
   "outputs": [],
   "source": [
    "class ConBacktester():\n",
    "    \n",
    "    def __init__(self, symbol, start, end, tc):\n",
    "        self.symbol = symbol\n",
    "        self.start = start\n",
    "        self.end = end\n",
    "        self.tc = tc\n",
    "        self.results = None\n",
    "        self.get_data()\n",
    "    \n",
    "    def get_data(self):\n",
    "        raw = pd.read_csv(\"intraday_pairs.csv\", parse_dates = [\"time\"], index_col = \"time\")\n",
    "        raw = raw[self.symbol].to_frame().dropna()\n",
    "        raw = raw.loc[self.start:self.end].copy()\n",
    "        raw.rename(columns={self.symbol: \"price\"}, inplace=True)\n",
    "        raw[\"returns\"] = np.log(raw / raw.shift(1))\n",
    "        self.data = raw\n",
    "        return raw\n",
    "    \n",
    "    def test_strategy(self, window = 1):\n",
    "        self.window = window\n",
    "        data = self.data.copy().dropna()\n",
    "        data[\"position\"] = -np.sign(data[\"returns\"].rolling(window).mean())\n",
    "        data[\"strategy\"] = data[\"position\"].shift(1) * data[\"returns\"]\n",
    "        data.dropna(inplace=True)\n",
    "        \n",
    "        # determine when a trade takes place\n",
    "        data[\"trades\"] = data.position.diff().fillna(0).abs()\n",
    "        \n",
    "        # subtract transaction costs from return when trade takes place\n",
    "        data.strategy = data.strategy - data.trades * self.tc\n",
    "        \n",
    "        data[\"creturns\"] = data[\"returns\"].cumsum().apply(np.exp)\n",
    "        data[\"cstrategy\"] = data[\"strategy\"].cumsum().apply(np.exp)\n",
    "        self.results = data\n",
    "        \n",
    "        # absolute performance of the strategy\n",
    "        perf = data[\"cstrategy\"].iloc[-1]\n",
    "        # out-/underperformance of strategy\n",
    "        outperf = perf - data[\"creturns\"].iloc[-1]\n",
    "        \n",
    "        return round(perf, 6), round(outperf, 6)"
   ]
  },
  {
   "cell_type": "code",
   "execution_count": null,
   "metadata": {},
   "outputs": [],
   "source": [
    "tester = ConBacktester(\"EURUSD\", \"2018-01-01\", \"2019-12-31\", 0)"
   ]
  },
  {
   "cell_type": "code",
   "execution_count": null,
   "metadata": {},
   "outputs": [],
   "source": [
    "tester.test_strategy(window = 3)"
   ]
  },
  {
   "cell_type": "code",
   "execution_count": null,
   "metadata": {},
   "outputs": [],
   "source": [
    "tester.results"
   ]
  },
  {
   "cell_type": "code",
   "execution_count": null,
   "metadata": {},
   "outputs": [],
   "source": []
  },
  {
   "cell_type": "markdown",
   "metadata": {},
   "source": [
    "## Plotting the results"
   ]
  },
  {
   "cell_type": "code",
   "execution_count": null,
   "metadata": {},
   "outputs": [],
   "source": [
    "class ConBacktester():\n",
    "    \n",
    "    def __init__(self, symbol, start, end, tc):\n",
    "        self.symbol = symbol\n",
    "        self.start = start\n",
    "        self.end = end\n",
    "        self.tc = tc\n",
    "        self.results = None\n",
    "        self.get_data()\n",
    "    \n",
    "    def get_data(self):\n",
    "        raw = pd.read_csv(\"intraday_pairs.csv\", parse_dates = [\"time\"], index_col = \"time\")\n",
    "        raw = raw[self.symbol].to_frame().dropna()\n",
    "        raw = raw.loc[self.start:self.end].copy()\n",
    "        raw.rename(columns={self.symbol: \"price\"}, inplace=True)\n",
    "        raw[\"returns\"] = np.log(raw / raw.shift(1))\n",
    "        self.data = raw\n",
    "        return raw\n",
    "    \n",
    "    def test_strategy(self, window = 1):\n",
    "        self.window = window\n",
    "        data = self.data.copy().dropna()\n",
    "        data[\"position\"] = -np.sign(data[\"returns\"].rolling(window).mean())\n",
    "        data[\"strategy\"] = data[\"position\"].shift(1) * data[\"returns\"]\n",
    "        data.dropna(inplace=True)\n",
    "        \n",
    "        # determine when a trade takes place\n",
    "        data[\"trades\"] = data.position.diff().fillna(0).abs()\n",
    "        \n",
    "        # subtract transaction costs from return when trade takes place\n",
    "        data.strategy = data.strategy - data.trades * self.tc\n",
    "        \n",
    "        data[\"creturns\"] = data[\"returns\"].cumsum().apply(np.exp)\n",
    "        data[\"cstrategy\"] = data[\"strategy\"].cumsum().apply(np.exp)\n",
    "        self.results = data\n",
    "        \n",
    "        # absolute performance of the strategy\n",
    "        perf = data[\"cstrategy\"].iloc[-1]\n",
    "        # out-/underperformance of strategy\n",
    "        outperf = perf - data[\"creturns\"].iloc[-1]\n",
    "        \n",
    "        return round(perf, 6), round(outperf, 6)\n",
    "    \n",
    "    def plot_results(self):\n",
    "        if self.results is None:\n",
    "            print(\"No results to plot yet. Run a strategy.\")\n",
    "        else:\n",
    "            title = \"{} | Window = {} | TC = {}\".format(self.symbol, self.window, self.tc)\n",
    "            self.results[[\"creturns\", \"cstrategy\"]].plot(title=title, figsize=(12, 8))"
   ]
  },
  {
   "cell_type": "code",
   "execution_count": null,
   "metadata": {},
   "outputs": [],
   "source": [
    "tester = ConBacktester(\"EURUSD\", \"2018-01-01\", \"2019-12-31\", 0)"
   ]
  },
  {
   "cell_type": "code",
   "execution_count": null,
   "metadata": {},
   "outputs": [],
   "source": [
    "tester.test_strategy(window = 3)"
   ]
  },
  {
   "cell_type": "code",
   "execution_count": null,
   "metadata": {},
   "outputs": [],
   "source": [
    "tester.plot_results()"
   ]
  },
  {
   "cell_type": "code",
   "execution_count": null,
   "metadata": {},
   "outputs": [],
   "source": []
  },
  {
   "cell_type": "markdown",
   "metadata": {},
   "source": [
    "## String Representation and Docstrings"
   ]
  },
  {
   "cell_type": "markdown",
   "metadata": {},
   "source": [
    "__Final Version__"
   ]
  },
  {
   "cell_type": "code",
   "execution_count": null,
   "metadata": {},
   "outputs": [],
   "source": [
    "class ConBacktester():\n",
    "    ''' Class for the vectorized backtesting of simple Contrarian trading strategies.\n",
    "\n",
    "    Attributes\n",
    "    ==========\n",
    "    symbol: str\n",
    "        ticker symbol with which to work with\n",
    "    start: str\n",
    "        start date for data retrieval\n",
    "    end: str\n",
    "        end date for data retrieval\n",
    "    tc: float\n",
    "        proportional transaction costs per trade\n",
    "        \n",
    "    Methods\n",
    "    =======\n",
    "    get_data:\n",
    "        retrieves and prepares the data\n",
    "        \n",
    "    test_strategy:\n",
    "        runs the backtest for the contrarian-based strategy\n",
    "        \n",
    "    plot_results:\n",
    "        plots the performance of the strategy compared to buy and hold\n",
    "    '''\n",
    "    \n",
    "    def __init__(self, symbol, start, end, tc):\n",
    "        self.symbol = symbol\n",
    "        self.start = start\n",
    "        self.end = end\n",
    "        self.tc = tc\n",
    "        self.results = None\n",
    "        self.get_data()\n",
    "        \n",
    "    def __repr__(self):\n",
    "        return \"ConBacktester(symbol = {}, start = {}, end = {})\".format(self.symbol, self.start, self.end)\n",
    "        \n",
    "    def get_data(self):\n",
    "        ''' Retrieves and prepares the data.\n",
    "        '''\n",
    "        raw = pd.read_csv(\"intraday_pairs.csv\", parse_dates = [\"time\"], index_col = \"time\")\n",
    "        raw = raw[self.symbol].to_frame().dropna()\n",
    "        raw = raw.loc[self.start:self.end].copy()\n",
    "        raw.rename(columns={self.symbol: \"price\"}, inplace=True)\n",
    "        raw[\"returns\"] = np.log(raw / raw.shift(1))\n",
    "        self.data = raw\n",
    "        return raw\n",
    "        \n",
    "    def test_strategy(self, window = 1):\n",
    "        ''' Backtests the trading strategy.\n",
    "        '''\n",
    "        self.window = window\n",
    "        data = self.data.copy().dropna()\n",
    "        data[\"position\"] = -np.sign(data[\"returns\"].rolling(window).mean())\n",
    "        data[\"strategy\"] = data[\"position\"].shift(1) * data[\"returns\"]\n",
    "        data.dropna(inplace=True)\n",
    "        \n",
    "        # determine when a trade takes place\n",
    "        data[\"trades\"] = data.position.diff().fillna(0).abs()\n",
    "        \n",
    "        # subtract transaction costs from return when trade takes place\n",
    "        data.strategy = data.strategy - data.trades * self.tc\n",
    "        \n",
    "        data[\"creturns\"] = data[\"returns\"].cumsum().apply(np.exp)\n",
    "        data[\"cstrategy\"] = data[\"strategy\"].cumsum().apply(np.exp)\n",
    "        self.results = data\n",
    "        \n",
    "        # absolute performance of the strategy\n",
    "        perf = data[\"cstrategy\"].iloc[-1]\n",
    "        # out-/underperformance of strategy\n",
    "        outperf = perf - data[\"creturns\"].iloc[-1]\n",
    "        \n",
    "        return round(perf, 6), round(outperf, 6)\n",
    "    \n",
    "    def plot_results(self):\n",
    "        ''' Plots the cumulative performance of the trading strategy compared to buy and hold.\n",
    "        '''\n",
    "        if self.results is None:\n",
    "            print(\"No results to plot yet. Run a strategy.\")\n",
    "        else:\n",
    "            title = \"{} | Window = {} | TC = {}\".format(self.symbol, self.window, self.tc)\n",
    "            self.results[[\"creturns\", \"cstrategy\"]].plot(title=title, figsize=(12, 8))"
   ]
  }
 ],
 "metadata": {
  "kernelspec": {
   "display_name": "Python 3",
   "language": "python",
   "name": "python3"
  },
  "language_info": {
   "codemirror_mode": {
    "name": "ipython",
    "version": 3
   },
   "file_extension": ".py",
   "mimetype": "text/x-python",
   "name": "python",
   "nbconvert_exporter": "python",
   "pygments_lexer": "ipython3",
   "version": "3.7.4"
  }
 },
 "nbformat": 4,
 "nbformat_minor": 4
}
