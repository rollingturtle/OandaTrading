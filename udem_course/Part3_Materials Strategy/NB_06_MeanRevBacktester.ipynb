{
 "cells": [
  {
   "cell_type": "markdown",
   "metadata": {},
   "source": [
    "# Generalization with OOP: The MeanRevBacktester Class"
   ]
  },
  {
   "cell_type": "markdown",
   "metadata": {},
   "source": [
    "## Using the MeanRevBacktester Class"
   ]
  },
  {
   "cell_type": "code",
   "execution_count": null,
   "metadata": {},
   "outputs": [],
   "source": [
    "import pandas as pd\n",
    "import numpy as np\n",
    "import matplotlib.pyplot as plt\n",
    "from scipy.optimize import brute\n",
    "plt.style.use(\"seaborn\")"
   ]
  },
  {
   "cell_type": "code",
   "execution_count": null,
   "metadata": {},
   "outputs": [],
   "source": [
    "df = pd.read_csv(\"intraday_pairs.csv\", parse_dates = [\"time\"], index_col = \"time\")\n",
    "df"
   ]
  },
  {
   "cell_type": "code",
   "execution_count": null,
   "metadata": {},
   "outputs": [],
   "source": [
    "df.info()"
   ]
  },
  {
   "cell_type": "code",
   "execution_count": null,
   "metadata": {},
   "outputs": [],
   "source": [
    "ptc = 0.00007"
   ]
  },
  {
   "cell_type": "code",
   "execution_count": null,
   "metadata": {},
   "outputs": [],
   "source": [
    "import MeanRevBacktester as MeanRev"
   ]
  },
  {
   "cell_type": "code",
   "execution_count": null,
   "metadata": {},
   "outputs": [],
   "source": [
    "tester = MeanRev.MeanRevBacktester(\"EURUSD\", 30, 2, \"2018-01-01\", \"2019-12-31\", 0)"
   ]
  },
  {
   "cell_type": "code",
   "execution_count": null,
   "metadata": {},
   "outputs": [],
   "source": [
    "tester"
   ]
  },
  {
   "cell_type": "code",
   "execution_count": null,
   "metadata": {},
   "outputs": [],
   "source": [
    "tester.test_strategy()"
   ]
  },
  {
   "cell_type": "code",
   "execution_count": null,
   "metadata": {},
   "outputs": [],
   "source": [
    "tester.results"
   ]
  },
  {
   "cell_type": "code",
   "execution_count": null,
   "metadata": {},
   "outputs": [],
   "source": [
    "tester.plot_results()"
   ]
  },
  {
   "cell_type": "code",
   "execution_count": null,
   "metadata": {},
   "outputs": [],
   "source": [
    "tester.optimize_parameters((25, 100, 1), (1, 5, 1))"
   ]
  },
  {
   "cell_type": "code",
   "execution_count": null,
   "metadata": {},
   "outputs": [],
   "source": [
    "tester.plot_results()"
   ]
  },
  {
   "cell_type": "code",
   "execution_count": null,
   "metadata": {},
   "outputs": [],
   "source": [
    "tester.results"
   ]
  },
  {
   "cell_type": "markdown",
   "metadata": {},
   "source": [
    "__Backtesting & Forward Testing__"
   ]
  },
  {
   "cell_type": "code",
   "execution_count": null,
   "metadata": {},
   "outputs": [],
   "source": [
    "train = MeanRev.MeanRevBacktester(\"EURUSD\", 30, 2, \"2018-01-01\", \"2018-12-31\", ptc)"
   ]
  },
  {
   "cell_type": "code",
   "execution_count": null,
   "metadata": {},
   "outputs": [],
   "source": [
    "train.optimize_parameters((25, 100, 1), (1, 5, 1)) # in-sample"
   ]
  },
  {
   "cell_type": "code",
   "execution_count": null,
   "metadata": {},
   "outputs": [],
   "source": [
    "train.plot_results() # in-sample"
   ]
  },
  {
   "cell_type": "code",
   "execution_count": null,
   "metadata": {},
   "outputs": [],
   "source": [
    "tester = MeanRev.MeanRevBacktester(\"EURUSD\", 74, 1, \"2019-01-01\", \"2019-12-31\", ptc) # out-sample"
   ]
  },
  {
   "cell_type": "code",
   "execution_count": null,
   "metadata": {},
   "outputs": [],
   "source": [
    "tester.plot_results()"
   ]
  },
  {
   "cell_type": "code",
   "execution_count": null,
   "metadata": {},
   "outputs": [],
   "source": [
    "tester.test_strategy()"
   ]
  },
  {
   "cell_type": "code",
   "execution_count": null,
   "metadata": {},
   "outputs": [],
   "source": [
    "tester.plot_results()"
   ]
  },
  {
   "cell_type": "code",
   "execution_count": null,
   "metadata": {},
   "outputs": [],
   "source": []
  },
  {
   "cell_type": "code",
   "execution_count": null,
   "metadata": {},
   "outputs": [],
   "source": [
    "tester = MeanRev.MeanRevBacktester(\"GBPUSD\", 30, 2, \"2018-01-01\", \"2019-12-31\", ptc)"
   ]
  },
  {
   "cell_type": "code",
   "execution_count": null,
   "metadata": {},
   "outputs": [],
   "source": [
    "tester.test_strategy()"
   ]
  },
  {
   "cell_type": "code",
   "execution_count": null,
   "metadata": {},
   "outputs": [],
   "source": [
    "tester.plot_results()"
   ]
  },
  {
   "cell_type": "code",
   "execution_count": null,
   "metadata": {},
   "outputs": [],
   "source": [
    "tester.optimize_parameters((25, 100, 1), (1, 5, 1))"
   ]
  },
  {
   "cell_type": "code",
   "execution_count": null,
   "metadata": {},
   "outputs": [],
   "source": [
    "tester.plot_results()"
   ]
  },
  {
   "cell_type": "code",
   "execution_count": null,
   "metadata": {},
   "outputs": [],
   "source": []
  },
  {
   "cell_type": "markdown",
   "metadata": {},
   "source": [
    "## OOP Challenge: Create the MeanRevBacktester Class from scratch"
   ]
  },
  {
   "cell_type": "markdown",
   "metadata": {},
   "source": [
    "__Steps__:"
   ]
  },
  {
   "cell_type": "markdown",
   "metadata": {},
   "source": [
    "1. Initialize the properties __symbol__, __SMA__, __dev__, __start__, __end__, __tc__, __results__. "
   ]
  },
  {
   "cell_type": "markdown",
   "metadata": {},
   "source": [
    "2. Add the method __get_data()__ retrieving & preparing raw data from \"intraday_pairs.csv\". Call get_data() in the \"dunder init\" method."
   ]
  },
  {
   "cell_type": "markdown",
   "metadata": {},
   "source": [
    "3. Add the method __set_parameters()__ to update SMA and dev."
   ]
  },
  {
   "cell_type": "markdown",
   "metadata": {},
   "source": [
    "4. Add the method __test_strategy()__."
   ]
  },
  {
   "cell_type": "markdown",
   "metadata": {},
   "source": [
    "5. Add the method __plot_results()__."
   ]
  },
  {
   "cell_type": "markdown",
   "metadata": {},
   "source": [
    "6. Add the methods __update_and_run()__ and __optimize_parameters()__ to find the optimal set of parameters (see SMABacktester Class)."
   ]
  },
  {
   "cell_type": "markdown",
   "metadata": {},
   "source": [
    "7. Add an appropriate (string) __representation__ and __Docstrings__."
   ]
  },
  {
   "cell_type": "code",
   "execution_count": null,
   "metadata": {},
   "outputs": [],
   "source": []
  },
  {
   "cell_type": "markdown",
   "metadata": {},
   "source": [
    "# Solutions (Stop here if you want to code on your own!)"
   ]
  },
  {
   "cell_type": "markdown",
   "metadata": {},
   "source": [
    "# ++++++++++++++++++++++++++++++++++++++++++++++++++++++++++"
   ]
  },
  {
   "cell_type": "code",
   "execution_count": null,
   "metadata": {},
   "outputs": [],
   "source": []
  },
  {
   "cell_type": "code",
   "execution_count": null,
   "metadata": {},
   "outputs": [],
   "source": []
  },
  {
   "cell_type": "code",
   "execution_count": null,
   "metadata": {},
   "outputs": [],
   "source": []
  },
  {
   "cell_type": "markdown",
   "metadata": {},
   "source": [
    "## Instantiation and Getting the Data "
   ]
  },
  {
   "cell_type": "code",
   "execution_count": null,
   "metadata": {},
   "outputs": [],
   "source": [
    "class MeanRevBacktester():\n",
    "    def __init__(self, symbol, SMA, dev, start, end, tc):\n",
    "        self.symbol = symbol\n",
    "        self.SMA = SMA\n",
    "        self.dev = dev\n",
    "        self.start = start\n",
    "        self.end = end\n",
    "        self.tc = tc\n",
    "        self.results = None\n",
    "        self.get_data()\n",
    "    \n",
    "    def get_data(self):\n",
    "        raw = pd.read_csv(\"intraday_pairs.csv\", parse_dates = [\"time\"], index_col = \"time\")\n",
    "        raw = raw[self.symbol].to_frame().dropna()\n",
    "        raw = raw.loc[self.start:self.end]\n",
    "        raw.rename(columns={self.symbol: \"price\"}, inplace=True)\n",
    "        raw[\"returns\"] = np.log(raw / raw.shift(1))\n",
    "        raw[\"SMA\"] = raw[\"price\"].rolling(self.SMA).mean()\n",
    "        raw[\"Lower\"] = raw[\"SMA\"] - raw[\"price\"].rolling(self.SMA).std() * self.dev\n",
    "        raw[\"Upper\"] = raw[\"SMA\"] + raw[\"price\"].rolling(self.SMA).std() * self.dev\n",
    "        self.data = raw\n",
    "        return raw"
   ]
  },
  {
   "cell_type": "code",
   "execution_count": null,
   "metadata": {},
   "outputs": [],
   "source": [
    "tester = MeanRevBacktester(\"EURUSD\", 30, 2, \"2018-01-01\", \"2019-12-31\", 0)"
   ]
  },
  {
   "cell_type": "code",
   "execution_count": null,
   "metadata": {},
   "outputs": [],
   "source": [
    "tester.SMA"
   ]
  },
  {
   "cell_type": "code",
   "execution_count": null,
   "metadata": {},
   "outputs": [],
   "source": [
    "tester.data"
   ]
  },
  {
   "cell_type": "code",
   "execution_count": null,
   "metadata": {},
   "outputs": [],
   "source": [
    "tester.symbol"
   ]
  },
  {
   "cell_type": "code",
   "execution_count": null,
   "metadata": {},
   "outputs": [],
   "source": []
  },
  {
   "cell_type": "markdown",
   "metadata": {},
   "source": [
    "## Updating Parameters"
   ]
  },
  {
   "cell_type": "code",
   "execution_count": null,
   "metadata": {},
   "outputs": [],
   "source": [
    "class MeanRevBacktester():\n",
    "    def __init__(self, symbol, SMA, dev, start, end, tc):\n",
    "        self.symbol = symbol\n",
    "        self.SMA = SMA\n",
    "        self.dev = dev\n",
    "        self.start = start\n",
    "        self.end = end\n",
    "        self.tc = tc\n",
    "        self.results = None\n",
    "        self.get_data()\n",
    "    \n",
    "    def get_data(self):\n",
    "        raw = pd.read_csv(\"intraday_pairs.csv\", parse_dates = [\"time\"], index_col = \"time\")\n",
    "        raw = raw[self.symbol].to_frame().dropna()\n",
    "        raw = raw.loc[self.start:self.end]\n",
    "        raw.rename(columns={self.symbol: \"price\"}, inplace=True)\n",
    "        raw[\"returns\"] = np.log(raw / raw.shift(1))\n",
    "        raw[\"SMA\"] = raw[\"price\"].rolling(self.SMA).mean()\n",
    "        raw[\"Lower\"] = raw[\"SMA\"] - raw[\"price\"].rolling(self.SMA).std() * self.dev\n",
    "        raw[\"Upper\"] = raw[\"SMA\"] + raw[\"price\"].rolling(self.SMA).std() * self.dev\n",
    "        self.data = raw\n",
    "        return raw\n",
    "    \n",
    "    def set_parameters(self, SMA = None, dev = None):\n",
    "        if SMA is not None:\n",
    "            self.SMA = SMA\n",
    "            self.data[\"SMA\"] = self.data[\"price\"].rolling(self.SMA).mean()\n",
    "            self.data[\"Lower\"] = self.data[\"SMA\"] - self.data[\"price\"].rolling(self.SMA).std() * self.dev\n",
    "            self.data[\"Upper\"] = self.data[\"SMA\"] + self.data[\"price\"].rolling(self.SMA).std() * self.dev\n",
    "            \n",
    "        if dev is not None:\n",
    "            self.dev = dev\n",
    "            self.data[\"Lower\"] = self.data[\"SMA\"] - self.data[\"price\"].rolling(self.SMA).std() * self.dev\n",
    "            self.data[\"Upper\"] = self.data[\"SMA\"] + self.data[\"price\"].rolling(self.SMA).std() * self.dev"
   ]
  },
  {
   "cell_type": "code",
   "execution_count": null,
   "metadata": {},
   "outputs": [],
   "source": [
    "tester = MeanRevBacktester(\"EURUSD\", 30, 2, \"2018-01-01\", \"2019-12-31\", 0)"
   ]
  },
  {
   "cell_type": "code",
   "execution_count": null,
   "metadata": {},
   "outputs": [],
   "source": [
    "tester.SMA"
   ]
  },
  {
   "cell_type": "code",
   "execution_count": null,
   "metadata": {},
   "outputs": [],
   "source": [
    "tester.set_parameters(57, 1)"
   ]
  },
  {
   "cell_type": "code",
   "execution_count": null,
   "metadata": {},
   "outputs": [],
   "source": [
    "tester.SMA"
   ]
  },
  {
   "cell_type": "code",
   "execution_count": null,
   "metadata": {},
   "outputs": [],
   "source": [
    "tester.data"
   ]
  },
  {
   "cell_type": "code",
   "execution_count": null,
   "metadata": {},
   "outputs": [],
   "source": []
  },
  {
   "cell_type": "markdown",
   "metadata": {},
   "source": [
    "## Testing a Strategy"
   ]
  },
  {
   "cell_type": "code",
   "execution_count": null,
   "metadata": {},
   "outputs": [],
   "source": [
    "class MeanRevBacktester():\n",
    "    def __init__(self, symbol, SMA, dev, start, end, tc):\n",
    "        self.symbol = symbol\n",
    "        self.SMA = SMA\n",
    "        self.dev = dev\n",
    "        self.start = start\n",
    "        self.end = end\n",
    "        self.tc = tc\n",
    "        self.results = None\n",
    "        self.get_data()\n",
    "    \n",
    "    def get_data(self):\n",
    "        raw = pd.read_csv(\"intraday_pairs.csv\", parse_dates = [\"time\"], index_col = \"time\")\n",
    "        raw = raw[self.symbol].to_frame().dropna()\n",
    "        raw = raw.loc[self.start:self.end]\n",
    "        raw.rename(columns={self.symbol: \"price\"}, inplace=True)\n",
    "        raw[\"returns\"] = np.log(raw / raw.shift(1))\n",
    "        raw[\"SMA\"] = raw[\"price\"].rolling(self.SMA).mean()\n",
    "        raw[\"Lower\"] = raw[\"SMA\"] - raw[\"price\"].rolling(self.SMA).std() * self.dev\n",
    "        raw[\"Upper\"] = raw[\"SMA\"] + raw[\"price\"].rolling(self.SMA).std() * self.dev\n",
    "        self.data = raw\n",
    "        return raw\n",
    "    \n",
    "    def set_parameters(self, SMA = None, dev = None):\n",
    "        if SMA is not None:\n",
    "            self.SMA = SMA\n",
    "            self.data[\"SMA\"] = self.data[\"price\"].rolling(self.SMA).mean()\n",
    "            self.data[\"Lower\"] = self.data[\"SMA\"] - self.data[\"price\"].rolling(self.SMA).std() * self.dev\n",
    "            self.data[\"Upper\"] = self.data[\"SMA\"] + self.data[\"price\"].rolling(self.SMA).std() * self.dev\n",
    "            \n",
    "        if dev is not None:\n",
    "            self.dev = dev\n",
    "            self.data[\"Lower\"] = self.data[\"SMA\"] - self.data[\"price\"].rolling(self.SMA).std() * self.dev\n",
    "            self.data[\"Upper\"] = self.data[\"SMA\"] + self.data[\"price\"].rolling(self.SMA).std() * self.dev\n",
    "            \n",
    "    def test_strategy(self):\n",
    "        ''' Backtests the trading strategy.\n",
    "        '''\n",
    "        data = self.data.copy().dropna()\n",
    "        data[\"distance\"] = data.price - data.SMA\n",
    "        data[\"position\"] = np.where(data.price < data.Lower, 1, np.nan)\n",
    "        data[\"position\"] = np.where(data.price > data.Upper, -1, data[\"position\"])\n",
    "        data[\"position\"] = np.where(data.distance * data.distance.shift(1) < 0, 0, data[\"position\"])\n",
    "        data[\"position\"] = data.position.ffill().fillna(0)\n",
    "        data[\"strategy\"] = data.position.shift(1) * data[\"returns\"]\n",
    "        data.dropna(inplace = True)\n",
    "        \n",
    "        # determine when a trade takes place\n",
    "        data[\"trades\"] = data.position.diff().fillna(0).abs()\n",
    "        \n",
    "        # subtract transaction costs from return when trade takes place\n",
    "        data.strategy = data.strategy - data.trades * self.tc\n",
    "        \n",
    "        data[\"creturns\"] = data[\"returns\"].cumsum().apply(np.exp)\n",
    "        data[\"cstrategy\"] = data[\"strategy\"].cumsum().apply(np.exp)\n",
    "        self.results = data\n",
    "       \n",
    "        # absolute performance of the strategy\n",
    "        perf = data[\"cstrategy\"].iloc[-1]\n",
    "        # out-/underperformance of strategy\n",
    "        outperf = perf - data[\"creturns\"].iloc[-1]\n",
    "        \n",
    "        return round(perf, 6), round(outperf, 6)"
   ]
  },
  {
   "cell_type": "code",
   "execution_count": null,
   "metadata": {},
   "outputs": [],
   "source": [
    "tester = MeanRevBacktester(\"EURUSD\", 30, 2, \"2018-01-01\", \"2019-12-31\", 0)"
   ]
  },
  {
   "cell_type": "code",
   "execution_count": null,
   "metadata": {
    "scrolled": true
   },
   "outputs": [],
   "source": [
    "tester.test_strategy()"
   ]
  },
  {
   "cell_type": "code",
   "execution_count": null,
   "metadata": {},
   "outputs": [],
   "source": [
    "tester.results"
   ]
  },
  {
   "cell_type": "code",
   "execution_count": null,
   "metadata": {},
   "outputs": [],
   "source": []
  },
  {
   "cell_type": "markdown",
   "metadata": {},
   "source": [
    "## Plotting the results"
   ]
  },
  {
   "cell_type": "code",
   "execution_count": null,
   "metadata": {},
   "outputs": [],
   "source": [
    "class MeanRevBacktester():\n",
    "    def __init__(self, symbol, SMA, dev, start, end, tc):\n",
    "        self.symbol = symbol\n",
    "        self.SMA = SMA\n",
    "        self.dev = dev\n",
    "        self.start = start\n",
    "        self.end = end\n",
    "        self.tc = tc\n",
    "        self.results = None\n",
    "        self.get_data()\n",
    "    \n",
    "    def get_data(self):\n",
    "        raw = pd.read_csv(\"intraday_pairs.csv\", parse_dates = [\"time\"], index_col = \"time\")\n",
    "        raw = raw[self.symbol].to_frame().dropna()\n",
    "        raw = raw.loc[self.start:self.end]\n",
    "        raw.rename(columns={self.symbol: \"price\"}, inplace=True)\n",
    "        raw[\"returns\"] = np.log(raw / raw.shift(1))\n",
    "        raw[\"SMA\"] = raw[\"price\"].rolling(self.SMA).mean()\n",
    "        raw[\"Lower\"] = raw[\"SMA\"] - raw[\"price\"].rolling(self.SMA).std() * self.dev\n",
    "        raw[\"Upper\"] = raw[\"SMA\"] + raw[\"price\"].rolling(self.SMA).std() * self.dev\n",
    "        self.data = raw\n",
    "        return raw\n",
    "    \n",
    "    def set_parameters(self, SMA = None, dev = None):\n",
    "        if SMA is not None:\n",
    "            self.SMA = SMA\n",
    "            self.data[\"SMA\"] = self.data[\"price\"].rolling(self.SMA).mean()\n",
    "            self.data[\"Lower\"] = self.data[\"SMA\"] - self.data[\"price\"].rolling(self.SMA).std() * self.dev\n",
    "            self.data[\"Upper\"] = self.data[\"SMA\"] + self.data[\"price\"].rolling(self.SMA).std() * self.dev\n",
    "            \n",
    "        if dev is not None:\n",
    "            self.dev = dev\n",
    "            self.data[\"Lower\"] = self.data[\"SMA\"] - self.data[\"price\"].rolling(self.SMA).std() * self.dev\n",
    "            self.data[\"Upper\"] = self.data[\"SMA\"] + self.data[\"price\"].rolling(self.SMA).std() * self.dev\n",
    "            \n",
    "    def test_strategy(self):\n",
    "        ''' Backtests the trading strategy.\n",
    "        '''\n",
    "        data = self.data.copy().dropna()\n",
    "        data[\"distance\"] = data.price - data.SMA\n",
    "        data[\"position\"] = np.where(data.price < data.Lower, 1, np.nan)\n",
    "        data[\"position\"] = np.where(data.price > data.Upper, -1, data[\"position\"])\n",
    "        data[\"position\"] = np.where(data.distance * data.distance.shift(1) < 0, 0, data[\"position\"])\n",
    "        data[\"position\"] = data.position.ffill().fillna(0)\n",
    "        data[\"strategy\"] = data.position.shift(1) * data[\"returns\"]\n",
    "        data.dropna(inplace = True)\n",
    "        \n",
    "        # determine when a trade takes place\n",
    "        data[\"trades\"] = data.position.diff().fillna(0).abs()\n",
    "        \n",
    "        # subtract transaction costs from return when trade takes place\n",
    "        data.strategy = data.strategy - data.trades * self.tc\n",
    "        \n",
    "        data[\"creturns\"] = data[\"returns\"].cumsum().apply(np.exp)\n",
    "        data[\"cstrategy\"] = data[\"strategy\"].cumsum().apply(np.exp)\n",
    "        self.results = data\n",
    "       \n",
    "        # absolute performance of the strategy\n",
    "        perf = data[\"cstrategy\"].iloc[-1]\n",
    "        # out-/underperformance of strategy\n",
    "        outperf = perf - data[\"creturns\"].iloc[-1]\n",
    "        \n",
    "        return round(perf, 6), round(outperf, 6)\n",
    "    \n",
    "    def plot_results(self):\n",
    "        if self.results is None:\n",
    "            print(\"No results to plot yet. Run a strategy.\")\n",
    "        else:\n",
    "            title = \"{} | SMA = {} | dev = {} | TC = {}\".format(self.symbol, self.SMA, self.dev, self.tc)\n",
    "            self.results[[\"creturns\", \"cstrategy\"]].plot(title=title, figsize=(12, 8))"
   ]
  },
  {
   "cell_type": "code",
   "execution_count": null,
   "metadata": {},
   "outputs": [],
   "source": [
    "tester = MeanRevBacktester(\"EURUSD\", 30, 2, \"2018-01-01\", \"2019-12-31\", 0)"
   ]
  },
  {
   "cell_type": "code",
   "execution_count": null,
   "metadata": {
    "scrolled": true
   },
   "outputs": [],
   "source": [
    "tester.test_strategy()"
   ]
  },
  {
   "cell_type": "code",
   "execution_count": null,
   "metadata": {},
   "outputs": [],
   "source": [
    "tester.plot_results()"
   ]
  },
  {
   "cell_type": "code",
   "execution_count": null,
   "metadata": {},
   "outputs": [],
   "source": []
  },
  {
   "cell_type": "markdown",
   "metadata": {},
   "source": [
    "### Optimization"
   ]
  },
  {
   "cell_type": "code",
   "execution_count": null,
   "metadata": {},
   "outputs": [],
   "source": [
    "class MeanRevBacktester():\n",
    "    def __init__(self, symbol, SMA, dev, start, end, tc):\n",
    "        self.symbol = symbol\n",
    "        self.SMA = SMA\n",
    "        self.dev = dev\n",
    "        self.start = start\n",
    "        self.end = end\n",
    "        self.tc = tc\n",
    "        self.results = None\n",
    "        self.get_data()\n",
    "    \n",
    "    def get_data(self):\n",
    "        raw = pd.read_csv(\"intraday_pairs.csv\", parse_dates = [\"time\"], index_col = \"time\")\n",
    "        raw = raw[self.symbol].to_frame().dropna()\n",
    "        raw = raw.loc[self.start:self.end]\n",
    "        raw.rename(columns={self.symbol: \"price\"}, inplace=True)\n",
    "        raw[\"returns\"] = np.log(raw / raw.shift(1))\n",
    "        raw[\"SMA\"] = raw[\"price\"].rolling(self.SMA).mean()\n",
    "        raw[\"Lower\"] = raw[\"SMA\"] - raw[\"price\"].rolling(self.SMA).std() * self.dev\n",
    "        raw[\"Upper\"] = raw[\"SMA\"] + raw[\"price\"].rolling(self.SMA).std() * self.dev\n",
    "        self.data = raw\n",
    "        return raw\n",
    "    \n",
    "    def set_parameters(self, SMA = None, dev = None):\n",
    "        if SMA is not None:\n",
    "            self.SMA = SMA\n",
    "            self.data[\"SMA\"] = self.data[\"price\"].rolling(self.SMA).mean()\n",
    "            self.data[\"Lower\"] = self.data[\"SMA\"] - self.data[\"price\"].rolling(self.SMA).std() * self.dev\n",
    "            self.data[\"Upper\"] = self.data[\"SMA\"] + self.data[\"price\"].rolling(self.SMA).std() * self.dev\n",
    "            \n",
    "        if dev is not None:\n",
    "            self.dev = dev\n",
    "            self.data[\"Lower\"] = self.data[\"SMA\"] - self.data[\"price\"].rolling(self.SMA).std() * self.dev\n",
    "            self.data[\"Upper\"] = self.data[\"SMA\"] + self.data[\"price\"].rolling(self.SMA).std() * self.dev\n",
    "            \n",
    "    def test_strategy(self):\n",
    "        ''' Backtests the trading strategy.\n",
    "        '''\n",
    "        data = self.data.copy().dropna()\n",
    "        data[\"distance\"] = data.price - data.SMA\n",
    "        data[\"position\"] = np.where(data.price < data.Lower, 1, np.nan)\n",
    "        data[\"position\"] = np.where(data.price > data.Upper, -1, data[\"position\"])\n",
    "        data[\"position\"] = np.where(data.distance * data.distance.shift(1) < 0, 0, data[\"position\"])\n",
    "        data[\"position\"] = data.position.ffill().fillna(0)\n",
    "        data[\"strategy\"] = data.position.shift(1) * data[\"returns\"]\n",
    "        data.dropna(inplace = True)\n",
    "        \n",
    "        # determine when a trade takes place\n",
    "        data[\"trades\"] = data.position.diff().fillna(0).abs()\n",
    "        \n",
    "        # subtract transaction costs from return when trade takes place\n",
    "        data.strategy = data.strategy - data.trades * self.tc\n",
    "        \n",
    "        data[\"creturns\"] = data[\"returns\"].cumsum().apply(np.exp)\n",
    "        data[\"cstrategy\"] = data[\"strategy\"].cumsum().apply(np.exp)\n",
    "        self.results = data\n",
    "       \n",
    "        # absolute performance of the strategy\n",
    "        perf = data[\"cstrategy\"].iloc[-1]\n",
    "        # out-/underperformance of strategy\n",
    "        outperf = perf - data[\"creturns\"].iloc[-1]\n",
    "        \n",
    "        return round(perf, 6), round(outperf, 6)\n",
    "    \n",
    "    def plot_results(self):\n",
    "        if self.results is None:\n",
    "            print(\"No results to plot yet. Run a strategy.\")\n",
    "        else:\n",
    "            title = \"{} | SMA = {} | dev = {} | TC = {}\".format(self.symbol, self.SMA, self.dev, self.tc)\n",
    "            self.results[[\"creturns\", \"cstrategy\"]].plot(title=title, figsize=(12, 8))\n",
    "            \n",
    "    def update_and_run(self, boll):\n",
    "        self.set_parameters(int(boll[0]), int(boll[1]))\n",
    "        return -self.test_strategy()[0]\n",
    "    \n",
    "    def optimize_parameters(self, SMA_range, dev_range):\n",
    "        opt = brute(self.update_and_run, (SMA_range, dev_range), finish=None)\n",
    "        return opt, -self.update_and_run(opt)"
   ]
  },
  {
   "cell_type": "code",
   "execution_count": null,
   "metadata": {},
   "outputs": [],
   "source": [
    "tester = MeanRevBacktester(\"EURUSD\", 30, 2, \"2018-01-01\", \"2019-12-31\", 0)"
   ]
  },
  {
   "cell_type": "code",
   "execution_count": null,
   "metadata": {
    "scrolled": true
   },
   "outputs": [],
   "source": [
    "tester.test_strategy()"
   ]
  },
  {
   "cell_type": "code",
   "execution_count": null,
   "metadata": {},
   "outputs": [],
   "source": [
    "tester.results"
   ]
  },
  {
   "cell_type": "code",
   "execution_count": null,
   "metadata": {},
   "outputs": [],
   "source": [
    "tester.optimize_parameters((20, 100, 1), (1, 5, 1))"
   ]
  },
  {
   "cell_type": "code",
   "execution_count": null,
   "metadata": {},
   "outputs": [],
   "source": []
  },
  {
   "cell_type": "markdown",
   "metadata": {},
   "source": [
    "## String Representation and Docstrings"
   ]
  },
  {
   "cell_type": "markdown",
   "metadata": {},
   "source": [
    "__Final Version__"
   ]
  },
  {
   "cell_type": "code",
   "execution_count": null,
   "metadata": {},
   "outputs": [],
   "source": [
    "class MeanRevBacktester():\n",
    "    ''' Class for the vectorized backtesting of Mean Reversion-based trading strategies.\n",
    "\n",
    "    Attributes\n",
    "    ==========\n",
    "    symbol: str\n",
    "        ticker symbol with which to work with\n",
    "    SMA: int\n",
    "        time window for SMA\n",
    "    dev: int\n",
    "        distance for Lower/Upper Bands in Standard Deviation units\n",
    "    start: str\n",
    "        start date for data retrieval\n",
    "    end: str\n",
    "        end date for data retrieval\n",
    "    tc: float\n",
    "        proportional transaction costs per trade\n",
    "        \n",
    "    Methods\n",
    "    =======\n",
    "    get_data:\n",
    "        retrieves and prepares the data\n",
    "        \n",
    "    set_parameters:\n",
    "        sets one or two new parameters for SMA and dev\n",
    "        \n",
    "    test_strategy:\n",
    "        runs the backtest for the Mean Reversion-based strategy\n",
    "        \n",
    "    plot_results:\n",
    "        plots the performance of the strategy compared to buy and hold\n",
    "        \n",
    "    update_and_run:\n",
    "        updates parameters and returns the negative absolute performance (for minimization algorithm)\n",
    "        \n",
    "    optimize_parameters:\n",
    "        implements a brute force optimization for the two parameters\n",
    "    '''\n",
    "    \n",
    "    def __init__(self, symbol, SMA, dev, start, end, tc):\n",
    "        self.symbol = symbol\n",
    "        self.SMA = SMA\n",
    "        self.dev = dev\n",
    "        self.start = start\n",
    "        self.end = end\n",
    "        self.tc = tc\n",
    "        self.results = None\n",
    "        self.get_data()\n",
    "        \n",
    "    def __repr__(self):\n",
    "        rep = \"MeanRevBacktester(symbol = {}, SMA = {}, dev = {}, start = {}, end = {})\"\n",
    "        return rep.format(self.symbol, self.SMA, self.dev, self.start, self.end)\n",
    "        \n",
    "    def get_data(self):\n",
    "        ''' Retrieves and prepares the data.\n",
    "        '''\n",
    "        raw = pd.read_csv(\"intraday_pairs.csv\", parse_dates = [\"time\"], index_col = \"time\")\n",
    "        raw = raw[self.symbol].to_frame().dropna()\n",
    "        raw = raw.loc[self.start:self.end]\n",
    "        raw.rename(columns={self.symbol: \"price\"}, inplace=True)\n",
    "        raw[\"returns\"] = np.log(raw / raw.shift(1))\n",
    "        raw[\"SMA\"] = raw[\"price\"].rolling(self.SMA).mean()\n",
    "        raw[\"Lower\"] = raw[\"SMA\"] - raw[\"price\"].rolling(self.SMA).std() * self.dev\n",
    "        raw[\"Upper\"] = raw[\"SMA\"] + raw[\"price\"].rolling(self.SMA).std() * self.dev\n",
    "        self.data = raw\n",
    "        return raw\n",
    "        \n",
    "    def set_parameters(self, SMA = None, dev = None):\n",
    "        ''' Updates parameters and resp. time series.\n",
    "        '''\n",
    "        if SMA is not None:\n",
    "            self.SMA = SMA\n",
    "            self.data[\"SMA\"] = self.data[\"price\"].rolling(self.SMA).mean()\n",
    "            self.data[\"Lower\"] = self.data[\"SMA\"] - self.data[\"price\"].rolling(self.SMA).std() * self.dev\n",
    "            self.data[\"Upper\"] = self.data[\"SMA\"] + self.data[\"price\"].rolling(self.SMA).std() * self.dev\n",
    "            \n",
    "        if dev is not None:\n",
    "            self.dev = dev\n",
    "            self.data[\"Lower\"] = self.data[\"SMA\"] - self.data[\"price\"].rolling(self.SMA).std() * self.dev\n",
    "            self.data[\"Upper\"] = self.data[\"SMA\"] + self.data[\"price\"].rolling(self.SMA).std() * self.dev\n",
    "            \n",
    "    def test_strategy(self):\n",
    "        ''' Backtests the trading strategy.\n",
    "        '''\n",
    "        data = self.data.copy().dropna()\n",
    "        data[\"distance\"] = data.price - data.SMA\n",
    "        data[\"position\"] = np.where(data.price < data.Lower, 1, np.nan)\n",
    "        data[\"position\"] = np.where(data.price > data.Upper, -1, data[\"position\"])\n",
    "        data[\"position\"] = np.where(data.distance * data.distance.shift(1) < 0, 0, data[\"position\"])\n",
    "        data[\"position\"] = data.position.ffill().fillna(0)\n",
    "        data[\"strategy\"] = data.position.shift(1) * data[\"returns\"]\n",
    "        data.dropna(inplace = True)\n",
    "        \n",
    "        # determine when a trade takes place\n",
    "        data[\"trades\"] = data.position.diff().fillna(0).abs()\n",
    "        \n",
    "        # subtract transaction costs from return when trade takes place\n",
    "        data.strategy = data.strategy - data.trades * self.tc\n",
    "        \n",
    "        data[\"creturns\"] = data[\"returns\"].cumsum().apply(np.exp)\n",
    "        data[\"cstrategy\"] = data[\"strategy\"].cumsum().apply(np.exp)\n",
    "        self.results = data\n",
    "       \n",
    "        # absolute performance of the strategy\n",
    "        perf = data[\"cstrategy\"].iloc[-1]\n",
    "        # out-/underperformance of strategy\n",
    "        outperf = perf - data[\"creturns\"].iloc[-1]\n",
    "        \n",
    "        return round(perf, 6), round(outperf, 6)\n",
    "    \n",
    "    def plot_results(self):\n",
    "        ''' Plots the cumulative performance of the trading strategy\n",
    "        compared to buy and hold.\n",
    "        '''\n",
    "        if self.results is None:\n",
    "            print(\"No results to plot yet. Run a strategy.\")\n",
    "        else:\n",
    "            title = \"{} | SMA = {} | dev = {} | TC = {}\".format(self.symbol, self.SMA, self.dev, self.tc)\n",
    "            self.results[[\"creturns\", \"cstrategy\"]].plot(title=title, figsize=(12, 8))\n",
    "        \n",
    "    def update_and_run(self, boll):\n",
    "        ''' Updates parameters and returns the negative absolute performance (for minimazation algorithm).\n",
    "\n",
    "        Parameters\n",
    "        ==========\n",
    "        Params: tuple\n",
    "            parameter tuple with SMA and dist\n",
    "        '''\n",
    "        self.set_parameters(int(boll[0]), int(boll[1]))\n",
    "        return -self.test_strategy()[0]\n",
    "    \n",
    "    def optimize_parameters(self, SMA_range, dev_range):\n",
    "        ''' Finds global maximum given the parameter ranges.\n",
    "\n",
    "        Parameters\n",
    "        ==========\n",
    "        SMA_range, dist_range: tuple\n",
    "            tuples of the form (start, end, step size)\n",
    "        '''\n",
    "        opt = brute(self.update_and_run, (SMA_range, dev_range), finish=None)\n",
    "        return opt, -self.update_and_run(opt)"
   ]
  },
  {
   "cell_type": "code",
   "execution_count": null,
   "metadata": {},
   "outputs": [],
   "source": []
  }
 ],
 "metadata": {
  "kernelspec": {
   "display_name": "Python 3",
   "language": "python",
   "name": "python3"
  },
  "language_info": {
   "codemirror_mode": {
    "name": "ipython",
    "version": 3
   },
   "file_extension": ".py",
   "mimetype": "text/x-python",
   "name": "python",
   "nbconvert_exporter": "python",
   "pygments_lexer": "ipython3",
   "version": "3.7.4"
  }
 },
 "nbformat": 4,
 "nbformat_minor": 4
}
