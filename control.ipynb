{
 "cells": [
  {
   "cell_type": "markdown",
   "metadata": {},
   "source": [
    "## Notebook to control trading components"
   ]
  },
  {
   "cell_type": "code",
   "execution_count": 1,
   "metadata": {},
   "outputs": [],
   "source": [
    "# import main modules\n",
    "%matplotlib inline\n",
    "import matplotlib\n",
    "import numpy as np\n",
    "import matplotlib.pyplot as plt\n",
    "from tensorflow import keras\n",
    "import os\n",
    "import numpy as np\n",
    "import pandas as pd\n",
    "import pickle\n",
    "import logging\n",
    "import sys\n",
    "sys.path.append('../')"
   ]
  },
  {
   "cell_type": "code",
   "execution_count": 2,
   "metadata": {},
   "outputs": [],
   "source": [
    "# functional modules\n",
    "import getpreparedata.getprepdata as gpd\n",
    "import models.model as m\n",
    "import models.trainer as trainer\n",
    "import trader.trader_ml as t"
   ]
  },
  {
   "cell_type": "code",
   "execution_count": 3,
   "metadata": {},
   "outputs": [],
   "source": [
    "# other modules for configurations and utilities\n",
    "import configs.config as cfg\n",
    "from common import utils as u\n",
    "\n",
    "# here the instrument is chosen\n",
    "# use .get_instruments() from oanda api to get the list. oanda conf file needed to execute\n",
    "import configs.USD_PLN_1 as cfginst\n"
   ]
  },
  {
   "cell_type": "code",
   "execution_count": 4,
   "metadata": {},
   "outputs": [],
   "source": [
    "# from configuration file imported, get instrument \n",
    "instrument = cfginst.instrument\n",
    "# get or generate datafiles files and folders, if do not exist\n",
    "namefiles_dict = {}\n",
    "namefiles_dict = u.creates_filenames_dict(cfginst.instrument, \n",
    "                                          namefiles_dict, cfg)"
   ]
  },
  {
   "cell_type": "markdown",
   "metadata": {},
   "source": [
    "## 1) Get Historical Data that will be used for Training"
   ]
  },
  {
   "cell_type": "code",
   "execution_count": 20,
   "metadata": {},
   "outputs": [
    {
     "name": "stderr",
     "output_type": "stream",
     "text": [
      "INFO:root:__init__: Non existent Base folder: creating it...\n",
      "INFO:root:get_most_recent: calling tpqoa get_history....\n"
     ]
    },
    {
     "name": "stdout",
     "output_type": "stream",
     "text": [
      "OandaDataCollector object created for instrument USD_PLN\n",
      "OandaDataCollector data collection starts...\n",
      "<class 'pandas.core.frame.DataFrame'>\n",
      "DatetimeIndex: 282594 entries, 2021-04-23 19:40:35+00:00 to 2021-05-21 20:59:55+00:00\n",
      "Data columns (total 1 columns):\n",
      " #   Column   Non-Null Count   Dtype  \n",
      "---  ------   --------------   -----  \n",
      " 0   USD_PLN  282594 non-null  float64\n",
      "dtypes: float64(1)\n",
      "memory usage: 4.3 MB\n",
      "get_most_recent: self.raw_data.info()  None\n",
      "get_most_recent: self.raw_data                             USD_PLN\n",
      "time                              \n",
      "2021-04-23 19:40:35+00:00  3.76436\n",
      "2021-04-23 19:40:40+00:00  3.76451\n",
      "2021-04-23 19:40:45+00:00  3.76451\n",
      "2021-04-23 19:40:50+00:00  3.76451\n",
      "2021-04-23 19:41:00+00:00  3.76451\n",
      "...                            ...\n",
      "2021-05-21 20:59:35+00:00  3.69200\n",
      "2021-05-21 20:59:40+00:00  3.69205\n",
      "2021-05-21 20:59:45+00:00  3.69210\n",
      "2021-05-21 20:59:50+00:00  3.69200\n",
      "2021-05-21 20:59:55+00:00  3.69205\n",
      "\n",
      "[282594 rows x 1 columns]\n"
     ]
    },
    {
     "name": "stderr",
     "output_type": "stream",
     "text": [
      "INFO:root:make_features: created new features and added to self.raw_data_featured\n"
     ]
    },
    {
     "name": "stdout",
     "output_type": "stream",
     "text": [
      "make_features: self.raw_data_featured.columns  Index(['USD_PLN', 'returns', 'dir', 'profit_over_spread', 'loss_over_spread',\n",
      "       'sma', 'boll1', 'boll_std', 'min', 'max', 'mom', 'vol', 'boll'],\n",
      "      dtype='object')\n"
     ]
    },
    {
     "name": "stderr",
     "output_type": "stream",
     "text": [
      "INFO:root:make_lagged_features: created new features and added to self.raw_data_featured\n"
     ]
    },
    {
     "name": "stdout",
     "output_type": "stream",
     "text": [
      "SEQUENCE: resample_data\n"
     ]
    },
    {
     "name": "stderr",
     "output_type": "stream",
     "text": [
      "INFO:root:resample_data: resampled the just created new features, into self.raw_data_featured_resampled\n",
      "INFO:root:standardize: subtracting mean and dividing by standard deviation, for each feature!\n"
     ]
    },
    {
     "name": "stdout",
     "output_type": "stream",
     "text": [
      "<class 'pandas.core.frame.DataFrame'>\n",
      "DatetimeIndex: 22848 entries, 2021-04-23 19:43:00+00:00 to 2021-05-17 20:29:00+00:00\n",
      "Data columns (total 83 columns):\n",
      " #   Column              Non-Null Count  Dtype  \n",
      "---  ------              --------------  -----  \n",
      " 0   USD_PLN             22848 non-null  float64\n",
      " 1   returns             22848 non-null  float64\n",
      " 2   dir                 22848 non-null  float64\n",
      " 3   profit_over_spread  22848 non-null  float64\n",
      " 4   loss_over_spread    22848 non-null  float64\n",
      " 5   sma                 22848 non-null  float64\n",
      " 6   boll1               22848 non-null  float64\n",
      " 7   boll_std            22848 non-null  float64\n",
      " 8   min                 22848 non-null  float64\n",
      " 9   max                 22848 non-null  float64\n",
      " 10  mom                 22848 non-null  float64\n",
      " 11  vol                 22848 non-null  float64\n",
      " 12  boll                22848 non-null  float64\n",
      " 13  dir_lag_1           22848 non-null  float64\n",
      " 14  dir_lag_2           22848 non-null  float64\n",
      " 15  dir_lag_3           22848 non-null  float64\n",
      " 16  dir_lag_4           22848 non-null  float64\n",
      " 17  dir_lag_5           22848 non-null  float64\n",
      " 18  dir_lag_6           22848 non-null  float64\n",
      " 19  dir_lag_7           22848 non-null  float64\n",
      " 20  dir_lag_8           22848 non-null  float64\n",
      " 21  dir_lag_9           22848 non-null  float64\n",
      " 22  dir_lag_10          22848 non-null  float64\n",
      " 23  sma_lag_1           22848 non-null  float64\n",
      " 24  sma_lag_2           22848 non-null  float64\n",
      " 25  sma_lag_3           22848 non-null  float64\n",
      " 26  sma_lag_4           22848 non-null  float64\n",
      " 27  sma_lag_5           22848 non-null  float64\n",
      " 28  sma_lag_6           22848 non-null  float64\n",
      " 29  sma_lag_7           22848 non-null  float64\n",
      " 30  sma_lag_8           22848 non-null  float64\n",
      " 31  sma_lag_9           22848 non-null  float64\n",
      " 32  sma_lag_10          22848 non-null  float64\n",
      " 33  boll_lag_1          22848 non-null  float64\n",
      " 34  boll_lag_2          22848 non-null  float64\n",
      " 35  boll_lag_3          22848 non-null  float64\n",
      " 36  boll_lag_4          22848 non-null  float64\n",
      " 37  boll_lag_5          22848 non-null  float64\n",
      " 38  boll_lag_6          22848 non-null  float64\n",
      " 39  boll_lag_7          22848 non-null  float64\n",
      " 40  boll_lag_8          22848 non-null  float64\n",
      " 41  boll_lag_9          22848 non-null  float64\n",
      " 42  boll_lag_10         22848 non-null  float64\n",
      " 43  min_lag_1           22848 non-null  float64\n",
      " 44  min_lag_2           22848 non-null  float64\n",
      " 45  min_lag_3           22848 non-null  float64\n",
      " 46  min_lag_4           22848 non-null  float64\n",
      " 47  min_lag_5           22848 non-null  float64\n",
      " 48  min_lag_6           22848 non-null  float64\n",
      " 49  min_lag_7           22848 non-null  float64\n",
      " 50  min_lag_8           22848 non-null  float64\n",
      " 51  min_lag_9           22848 non-null  float64\n",
      " 52  min_lag_10          22848 non-null  float64\n",
      " 53  max_lag_1           22848 non-null  float64\n",
      " 54  max_lag_2           22848 non-null  float64\n",
      " 55  max_lag_3           22848 non-null  float64\n",
      " 56  max_lag_4           22848 non-null  float64\n",
      " 57  max_lag_5           22848 non-null  float64\n",
      " 58  max_lag_6           22848 non-null  float64\n",
      " 59  max_lag_7           22848 non-null  float64\n",
      " 60  max_lag_8           22848 non-null  float64\n",
      " 61  max_lag_9           22848 non-null  float64\n",
      " 62  max_lag_10          22848 non-null  float64\n",
      " 63  mom_lag_1           22848 non-null  float64\n",
      " 64  mom_lag_2           22848 non-null  float64\n",
      " 65  mom_lag_3           22848 non-null  float64\n",
      " 66  mom_lag_4           22848 non-null  float64\n",
      " 67  mom_lag_5           22848 non-null  float64\n",
      " 68  mom_lag_6           22848 non-null  float64\n",
      " 69  mom_lag_7           22848 non-null  float64\n",
      " 70  mom_lag_8           22848 non-null  float64\n",
      " 71  mom_lag_9           22848 non-null  float64\n",
      " 72  mom_lag_10          22848 non-null  float64\n",
      " 73  vol_lag_1           22848 non-null  float64\n",
      " 74  vol_lag_2           22848 non-null  float64\n",
      " 75  vol_lag_3           22848 non-null  float64\n",
      " 76  vol_lag_4           22848 non-null  float64\n",
      " 77  vol_lag_5           22848 non-null  float64\n",
      " 78  vol_lag_6           22848 non-null  float64\n",
      " 79  vol_lag_7           22848 non-null  float64\n",
      " 80  vol_lag_8           22848 non-null  float64\n",
      " 81  vol_lag_9           22848 non-null  float64\n",
      " 82  vol_lag_10          22848 non-null  float64\n",
      "dtypes: float64(83)\n",
      "memory usage: 14.6 MB\n",
      "make_3_datasets: self.train_ds.info()  None\n",
      "standardize: std:  USD_PLN               0.022451\n",
      "returns               0.000082\n",
      "dir                   0.487154\n",
      "profit_over_spread    0.197302\n",
      "loss_over_spread      0.189154\n",
      "                        ...   \n",
      "vol_lag_6             0.000076\n",
      "vol_lag_7             0.000075\n",
      "vol_lag_8             0.000076\n",
      "vol_lag_9             0.000077\n",
      "vol_lag_10            0.000077\n",
      "Length: 83, dtype: float64\n"
     ]
    },
    {
     "name": "stderr",
     "output_type": "stream",
     "text": [
      "INFO:root:save_to_file: Saving raw data and resampled raw data to /Users/ANDREA/PycharmProjects/OandaTrading/Data/USD_PLN/raw_data.csv and to /Users/ANDREA/PycharmProjects/OandaTrading/Data/USD_PLN/raw_data_featured_resampled.csv\n"
     ]
    },
    {
     "name": "stdout",
     "output_type": "stream",
     "text": [
      "<class 'pandas.core.frame.DataFrame'>\n",
      "DatetimeIndex: 22848 entries, 2021-04-23 19:43:00+00:00 to 2021-05-17 20:29:00+00:00\n",
      "Data columns (total 83 columns):\n",
      " #   Column              Non-Null Count  Dtype  \n",
      "---  ------              --------------  -----  \n",
      " 0   USD_PLN             22848 non-null  float64\n",
      " 1   returns             22848 non-null  float64\n",
      " 2   dir                 22848 non-null  float64\n",
      " 3   profit_over_spread  22848 non-null  float64\n",
      " 4   loss_over_spread    22848 non-null  float64\n",
      " 5   sma                 22848 non-null  float64\n",
      " 6   boll1               22848 non-null  float64\n",
      " 7   boll_std            22848 non-null  float64\n",
      " 8   min                 22848 non-null  float64\n",
      " 9   max                 22848 non-null  float64\n",
      " 10  mom                 22848 non-null  float64\n",
      " 11  vol                 22848 non-null  float64\n",
      " 12  boll                22848 non-null  float64\n",
      " 13  dir_lag_1           22848 non-null  float64\n",
      " 14  dir_lag_2           22848 non-null  float64\n",
      " 15  dir_lag_3           22848 non-null  float64\n",
      " 16  dir_lag_4           22848 non-null  float64\n",
      " 17  dir_lag_5           22848 non-null  float64\n",
      " 18  dir_lag_6           22848 non-null  float64\n",
      " 19  dir_lag_7           22848 non-null  float64\n",
      " 20  dir_lag_8           22848 non-null  float64\n",
      " 21  dir_lag_9           22848 non-null  float64\n",
      " 22  dir_lag_10          22848 non-null  float64\n",
      " 23  sma_lag_1           22848 non-null  float64\n",
      " 24  sma_lag_2           22848 non-null  float64\n",
      " 25  sma_lag_3           22848 non-null  float64\n",
      " 26  sma_lag_4           22848 non-null  float64\n",
      " 27  sma_lag_5           22848 non-null  float64\n",
      " 28  sma_lag_6           22848 non-null  float64\n",
      " 29  sma_lag_7           22848 non-null  float64\n",
      " 30  sma_lag_8           22848 non-null  float64\n",
      " 31  sma_lag_9           22848 non-null  float64\n",
      " 32  sma_lag_10          22848 non-null  float64\n",
      " 33  boll_lag_1          22848 non-null  float64\n",
      " 34  boll_lag_2          22848 non-null  float64\n",
      " 35  boll_lag_3          22848 non-null  float64\n",
      " 36  boll_lag_4          22848 non-null  float64\n",
      " 37  boll_lag_5          22848 non-null  float64\n",
      " 38  boll_lag_6          22848 non-null  float64\n",
      " 39  boll_lag_7          22848 non-null  float64\n",
      " 40  boll_lag_8          22848 non-null  float64\n",
      " 41  boll_lag_9          22848 non-null  float64\n",
      " 42  boll_lag_10         22848 non-null  float64\n",
      " 43  min_lag_1           22848 non-null  float64\n",
      " 44  min_lag_2           22848 non-null  float64\n",
      " 45  min_lag_3           22848 non-null  float64\n",
      " 46  min_lag_4           22848 non-null  float64\n",
      " 47  min_lag_5           22848 non-null  float64\n",
      " 48  min_lag_6           22848 non-null  float64\n",
      " 49  min_lag_7           22848 non-null  float64\n",
      " 50  min_lag_8           22848 non-null  float64\n",
      " 51  min_lag_9           22848 non-null  float64\n",
      " 52  min_lag_10          22848 non-null  float64\n",
      " 53  max_lag_1           22848 non-null  float64\n",
      " 54  max_lag_2           22848 non-null  float64\n",
      " 55  max_lag_3           22848 non-null  float64\n",
      " 56  max_lag_4           22848 non-null  float64\n",
      " 57  max_lag_5           22848 non-null  float64\n",
      " 58  max_lag_6           22848 non-null  float64\n",
      " 59  max_lag_7           22848 non-null  float64\n",
      " 60  max_lag_8           22848 non-null  float64\n",
      " 61  max_lag_9           22848 non-null  float64\n",
      " 62  max_lag_10          22848 non-null  float64\n",
      " 63  mom_lag_1           22848 non-null  float64\n",
      " 64  mom_lag_2           22848 non-null  float64\n",
      " 65  mom_lag_3           22848 non-null  float64\n",
      " 66  mom_lag_4           22848 non-null  float64\n",
      " 67  mom_lag_5           22848 non-null  float64\n",
      " 68  mom_lag_6           22848 non-null  float64\n",
      " 69  mom_lag_7           22848 non-null  float64\n",
      " 70  mom_lag_8           22848 non-null  float64\n",
      " 71  mom_lag_9           22848 non-null  float64\n",
      " 72  mom_lag_10          22848 non-null  float64\n",
      " 73  vol_lag_1           22848 non-null  float64\n",
      " 74  vol_lag_2           22848 non-null  float64\n",
      " 75  vol_lag_3           22848 non-null  float64\n",
      " 76  vol_lag_4           22848 non-null  float64\n",
      " 77  vol_lag_5           22848 non-null  float64\n",
      " 78  vol_lag_6           22848 non-null  float64\n",
      " 79  vol_lag_7           22848 non-null  float64\n",
      " 80  vol_lag_8           22848 non-null  float64\n",
      " 81  vol_lag_9           22848 non-null  float64\n",
      " 82  vol_lag_10          22848 non-null  float64\n",
      "dtypes: float64(83)\n",
      "memory usage: 14.6 MB\n",
      "standardize: self.train_ds_std.info()  None\n"
     ]
    },
    {
     "name": "stderr",
     "output_type": "stream",
     "text": [
      "INFO:root:save_to_file: Saving data input files to /Users/ANDREA/PycharmProjects/OandaTrading/Data/USD_PLN/\n",
      "INFO:root:save_to_file: Save train_ds_std to /Users/ANDREA/PycharmProjects/OandaTrading/Data/USD_PLN/Train/train.csv\n",
      "INFO:root:save_to_file: Save validation_ds_std to /Users/ANDREA/PycharmProjects/OandaTrading/Data/USD_PLN/Valid/valid.csv\n",
      "INFO:root:save_to_file: Save test_ds_std to /Users/ANDREA/PycharmProjects/OandaTrading/Data/USD_PLN/Test/test.csv\n",
      "INFO:root:save_to_file: saving data label files to /Users/ANDREA/PycharmProjects/OandaTrading/Data/USD_PLN/\n",
      "INFO:root:save_to_file: saving params to file /Users/ANDREA/PycharmProjects/OandaTrading/Data/USD_PLN/Train/params.pkl\n"
     ]
    },
    {
     "name": "stdout",
     "output_type": "stream",
     "text": [
      "All row data downloaded from Oanda for instrument USD_PLN\n",
      "<class 'pandas.core.frame.DataFrame'>\n",
      "DatetimeIndex: 282594 entries, 2021-04-23 19:40:35+00:00 to 2021-05-21 20:59:55+00:00\n",
      "Data columns (total 1 columns):\n",
      " #   Column   Non-Null Count   Dtype  \n",
      "---  ------   --------------   -----  \n",
      " 0   USD_PLN  282594 non-null  float64\n",
      "dtypes: float64(1)\n",
      "memory usage: 4.3 MB\n",
      "None\n",
      "  ******** \n",
      "Re-sampled data for bar length 1min from Oanda for instrument USD_PLN\n",
      "<class 'pandas.core.frame.DataFrame'>\n",
      "DatetimeIndex: 28560 entries, 2021-04-23 19:43:00+00:00 to 2021-05-21 20:59:00+00:00\n",
      "Data columns (total 83 columns):\n",
      " #   Column              Non-Null Count  Dtype  \n",
      "---  ------              --------------  -----  \n",
      " 0   USD_PLN             28560 non-null  float64\n",
      " 1   returns             28560 non-null  float64\n",
      " 2   dir                 28560 non-null  float64\n",
      " 3   profit_over_spread  28560 non-null  float64\n",
      " 4   loss_over_spread    28560 non-null  float64\n",
      " 5   sma                 28560 non-null  float64\n",
      " 6   boll1               28560 non-null  float64\n",
      " 7   boll_std            28560 non-null  float64\n",
      " 8   min                 28560 non-null  float64\n",
      " 9   max                 28560 non-null  float64\n",
      " 10  mom                 28560 non-null  float64\n",
      " 11  vol                 28560 non-null  float64\n",
      " 12  boll                28560 non-null  float64\n",
      " 13  dir_lag_1           28560 non-null  float64\n",
      " 14  dir_lag_2           28560 non-null  float64\n",
      " 15  dir_lag_3           28560 non-null  float64\n",
      " 16  dir_lag_4           28560 non-null  float64\n",
      " 17  dir_lag_5           28560 non-null  float64\n",
      " 18  dir_lag_6           28560 non-null  float64\n",
      " 19  dir_lag_7           28560 non-null  float64\n",
      " 20  dir_lag_8           28560 non-null  float64\n",
      " 21  dir_lag_9           28560 non-null  float64\n",
      " 22  dir_lag_10          28560 non-null  float64\n",
      " 23  sma_lag_1           28560 non-null  float64\n",
      " 24  sma_lag_2           28560 non-null  float64\n",
      " 25  sma_lag_3           28560 non-null  float64\n",
      " 26  sma_lag_4           28560 non-null  float64\n",
      " 27  sma_lag_5           28560 non-null  float64\n",
      " 28  sma_lag_6           28560 non-null  float64\n",
      " 29  sma_lag_7           28560 non-null  float64\n",
      " 30  sma_lag_8           28560 non-null  float64\n",
      " 31  sma_lag_9           28560 non-null  float64\n",
      " 32  sma_lag_10          28560 non-null  float64\n",
      " 33  boll_lag_1          28560 non-null  float64\n",
      " 34  boll_lag_2          28560 non-null  float64\n",
      " 35  boll_lag_3          28560 non-null  float64\n",
      " 36  boll_lag_4          28560 non-null  float64\n",
      " 37  boll_lag_5          28560 non-null  float64\n",
      " 38  boll_lag_6          28560 non-null  float64\n",
      " 39  boll_lag_7          28560 non-null  float64\n",
      " 40  boll_lag_8          28560 non-null  float64\n",
      " 41  boll_lag_9          28560 non-null  float64\n",
      " 42  boll_lag_10         28560 non-null  float64\n",
      " 43  min_lag_1           28560 non-null  float64\n",
      " 44  min_lag_2           28560 non-null  float64\n",
      " 45  min_lag_3           28560 non-null  float64\n",
      " 46  min_lag_4           28560 non-null  float64\n",
      " 47  min_lag_5           28560 non-null  float64\n",
      " 48  min_lag_6           28560 non-null  float64\n",
      " 49  min_lag_7           28560 non-null  float64\n",
      " 50  min_lag_8           28560 non-null  float64\n",
      " 51  min_lag_9           28560 non-null  float64\n",
      " 52  min_lag_10          28560 non-null  float64\n",
      " 53  max_lag_1           28560 non-null  float64\n",
      " 54  max_lag_2           28560 non-null  float64\n",
      " 55  max_lag_3           28560 non-null  float64\n",
      " 56  max_lag_4           28560 non-null  float64\n",
      " 57  max_lag_5           28560 non-null  float64\n",
      " 58  max_lag_6           28560 non-null  float64\n",
      " 59  max_lag_7           28560 non-null  float64\n",
      " 60  max_lag_8           28560 non-null  float64\n",
      " 61  max_lag_9           28560 non-null  float64\n",
      " 62  max_lag_10          28560 non-null  float64\n",
      " 63  mom_lag_1           28560 non-null  float64\n",
      " 64  mom_lag_2           28560 non-null  float64\n",
      " 65  mom_lag_3           28560 non-null  float64\n",
      " 66  mom_lag_4           28560 non-null  float64\n",
      " 67  mom_lag_5           28560 non-null  float64\n",
      " 68  mom_lag_6           28560 non-null  float64\n",
      " 69  mom_lag_7           28560 non-null  float64\n",
      " 70  mom_lag_8           28560 non-null  float64\n",
      " 71  mom_lag_9           28560 non-null  float64\n",
      " 72  mom_lag_10          28560 non-null  float64\n",
      " 73  vol_lag_1           28560 non-null  float64\n",
      " 74  vol_lag_2           28560 non-null  float64\n",
      " 75  vol_lag_3           28560 non-null  float64\n",
      " 76  vol_lag_4           28560 non-null  float64\n",
      " 77  vol_lag_5           28560 non-null  float64\n",
      " 78  vol_lag_6           28560 non-null  float64\n",
      " 79  vol_lag_7           28560 non-null  float64\n",
      " 80  vol_lag_8           28560 non-null  float64\n",
      " 81  vol_lag_9           28560 non-null  float64\n",
      " 82  vol_lag_10          28560 non-null  float64\n",
      "dtypes: float64(83)\n",
      "memory usage: 18.3 MB\n",
      "None\n",
      "  ******** \n"
     ]
    }
   ],
   "source": [
    "odc = gpd.OandaDataCollector(instrument=cfginst.instrument,\n",
    "                         targets=cfginst.targets,\n",
    "                         features=cfginst.features,\n",
    "                         conf_file=cfg.conf_file,\n",
    "                         namefiles_dict=namefiles_dict)\n",
    "print('OandaDataCollector object created for instrument {}'.format(\n",
    "    cfginst.instrument))\n",
    "NEW_DATA = True\n",
    "if NEW_DATA:\n",
    "    # actual data collection of most recent data\n",
    "    print('OandaDataCollector data collection starts...')\n",
    "    odc.get_most_recent(granul=cfginst.granul, days = cfginst.days)\n",
    "    odc.make_features()\n",
    "    odc.make_lagged_features(lags=cfginst.lags)\n",
    "    odc.resample_data(brl = cfginst.brl)\n",
    "    odc.make_3_datasets()\n",
    "    odc.standardize()\n",
    "    odc.save_to_file()\n",
    "\n",
    "    print(\"All row data downloaded from Oanda for instrument {}\".format(\n",
    "        cfginst.instrument))\n",
    "    print(odc.raw_data.info(),  end=\"\\n  ******** \\n\")\n",
    "    print(\"Re-sampled data for bar length {} from Oanda for instrument {}\".format(\n",
    "                                                            cfginst.brl, cfginst.instrument))\n",
    "    print(odc.raw_data_featured_resampled.info(),  end=\"\\n  ******** \\n\")\n",
    "else:\n",
    "    print('OandaDataCollector data is loading from disk...')\n",
    "    odc.load_data_from_file()\n",
    "    odc.report()"
   ]
  },
  {
   "cell_type": "markdown",
   "metadata": {},
   "source": [
    "## 2) Choose the model and train it on the data obtained"
   ]
  },
  {
   "cell_type": "code",
   "execution_count": 21,
   "metadata": {
    "scrolled": true
   },
   "outputs": [
    {
     "name": "stderr",
     "output_type": "stream",
     "text": [
      "INFO:root:Loading data and creating the NN model...\n"
     ]
    },
    {
     "name": "stdout",
     "output_type": "stream",
     "text": [
      "load_train_data: reordered features are: ['dir_lag_1', 'sma_lag_1', 'boll_lag_1', 'min_lag_1', 'max_lag_1', 'mom_lag_1', 'vol_lag_1', 'dir_lag_2', 'sma_lag_2', 'boll_lag_2', 'min_lag_2', 'max_lag_2', 'mom_lag_2', 'vol_lag_2', 'dir_lag_3', 'sma_lag_3', 'boll_lag_3', 'min_lag_3', 'max_lag_3', 'mom_lag_3', 'vol_lag_3', 'dir_lag_4', 'sma_lag_4', 'boll_lag_4', 'min_lag_4', 'max_lag_4', 'mom_lag_4', 'vol_lag_4', 'dir_lag_5', 'sma_lag_5', 'boll_lag_5', 'min_lag_5', 'max_lag_5', 'mom_lag_5', 'vol_lag_5', 'dir_lag_6', 'sma_lag_6', 'boll_lag_6', 'min_lag_6', 'max_lag_6', 'mom_lag_6', 'vol_lag_6', 'dir_lag_7', 'sma_lag_7', 'boll_lag_7', 'min_lag_7', 'max_lag_7', 'mom_lag_7', 'vol_lag_7', 'dir_lag_8', 'sma_lag_8', 'boll_lag_8', 'min_lag_8', 'max_lag_8', 'mom_lag_8', 'vol_lag_8', 'dir_lag_9', 'sma_lag_9', 'boll_lag_9', 'min_lag_9', 'max_lag_9', 'mom_lag_9', 'vol_lag_9', 'dir_lag_10', 'sma_lag_10', 'boll_lag_10', 'min_lag_10', 'max_lag_10', 'mom_lag_10', 'vol_lag_10']\n",
      "load_train_data: Lagged columns which are the input to the model:\n",
      "['dir_lag_1', 'dir_lag_2', 'dir_lag_3', 'dir_lag_4', 'dir_lag_5', 'dir_lag_6', 'dir_lag_7', 'dir_lag_8', 'dir_lag_9', 'dir_lag_10', 'sma_lag_1', 'sma_lag_2', 'sma_lag_3', 'sma_lag_4', 'sma_lag_5', 'sma_lag_6', 'sma_lag_7', 'sma_lag_8', 'sma_lag_9', 'sma_lag_10', 'boll_lag_1', 'boll_lag_2', 'boll_lag_3', 'boll_lag_4', 'boll_lag_5', 'boll_lag_6', 'boll_lag_7', 'boll_lag_8', 'boll_lag_9', 'boll_lag_10', 'min_lag_1', 'min_lag_2', 'min_lag_3', 'min_lag_4', 'min_lag_5', 'min_lag_6', 'min_lag_7', 'min_lag_8', 'min_lag_9', 'min_lag_10', 'max_lag_1', 'max_lag_2', 'max_lag_3', 'max_lag_4', 'max_lag_5', 'max_lag_6', 'max_lag_7', 'max_lag_8', 'max_lag_9', 'max_lag_10', 'mom_lag_1', 'mom_lag_2', 'mom_lag_3', 'mom_lag_4', 'mom_lag_5', 'mom_lag_6', 'mom_lag_7', 'mom_lag_8', 'mom_lag_9', 'mom_lag_10', 'vol_lag_1', 'vol_lag_2', 'vol_lag_3', 'vol_lag_4', 'vol_lag_5', 'vol_lag_6', 'vol_lag_7', 'vol_lag_8', 'vol_lag_9', 'vol_lag_10']\n",
      "load_train_data: how many Lagged columns:\n",
      "70\n",
      "self.train_data.head()\n",
      "                             USD_PLN   returns       dir  profit_over_spread  \\\n",
      "time                                                                          \n",
      "2021-04-23 19:43:00+00:00 -0.201966  0.184345  1.257627           -0.205636   \n",
      "2021-04-23 19:44:00+00:00 -0.188603 -0.075722 -0.795114           -0.205636   \n",
      "2021-04-23 19:45:00+00:00 -0.188603 -0.010710 -0.795114           -0.205636   \n",
      "2021-04-23 19:46:00+00:00 -0.165442  0.509329  1.257627           -0.205636   \n",
      "2021-04-23 19:47:00+00:00 -0.161433 -0.010710 -0.795114           -0.205636   \n",
      "\n",
      "                           loss_over_spread       sma     boll1  boll_std  \\\n",
      "time                                                                        \n",
      "2021-04-23 19:43:00+00:00         -0.196446 -0.259549 -0.029551 -0.449027   \n",
      "2021-04-23 19:44:00+00:00         -0.196446 -0.469108  0.596348 -0.198755   \n",
      "2021-04-23 19:45:00+00:00         -0.196446 -0.077563  0.101776 -0.623515   \n",
      "2021-04-23 19:46:00+00:00         -0.196446 -0.954403  0.948417  0.085037   \n",
      "2021-04-23 19:47:00+00:00         -0.196446 -0.325725  0.093394 -0.368409   \n",
      "\n",
      "                                min       max  ...  vol_lag_1  vol_lag_2  \\\n",
      "time                                           ...                         \n",
      "2021-04-23 19:43:00+00:00  0.370570 -0.245600  ...  -0.191782  -0.259892   \n",
      "2021-04-23 19:44:00+00:00 -0.123543 -0.504623  ...  -0.316472  -0.257718   \n",
      "2021-04-23 19:45:00+00:00  0.388227 -0.544469  ...  -0.452556  -0.472393   \n",
      "2021-04-23 19:46:00+00:00 -0.635158 -0.544469  ...  -0.283771  -0.300408   \n",
      "2021-04-23 19:47:00+00:00  0.053001 -0.405031  ...  -0.313025  -0.326609   \n",
      "\n",
      "                           vol_lag_3  vol_lag_4  vol_lag_5  vol_lag_6  \\\n",
      "time                                                                    \n",
      "2021-04-23 19:43:00+00:00  -0.261199  -0.287367  -0.309215  -0.306272   \n",
      "2021-04-23 19:44:00+00:00  -0.307564  -0.343544  -0.293962  -0.292510   \n",
      "2021-04-23 19:45:00+00:00  -0.422307  -0.374881  -0.360542  -0.336088   \n",
      "2021-04-23 19:46:00+00:00  -0.310274  -0.304395  -0.306772  -0.310482   \n",
      "2021-04-23 19:47:00+00:00  -0.340808  -0.345073  -0.311398  -0.298036   \n",
      "\n",
      "                           vol_lag_7  vol_lag_8  vol_lag_9  vol_lag_10  \n",
      "time                                                                    \n",
      "2021-04-23 19:43:00+00:00  -0.287429  -0.278874  -0.281723   -0.266648  \n",
      "2021-04-23 19:44:00+00:00  -0.297627  -0.301296  -0.310064   -0.313624  \n",
      "2021-04-23 19:45:00+00:00  -0.338440  -0.327036  -0.324553   -0.301124  \n",
      "2021-04-23 19:46:00+00:00  -0.424270  -0.422632  -0.477840   -0.479292  \n",
      "2021-04-23 19:47:00+00:00  -0.252813  -0.265872  -0.289471   -0.303764  \n",
      "\n",
      "[5 rows x 83 columns]\n",
      "Model: \"sequential_1\"\n",
      "_________________________________________________________________\n",
      "Layer (type)                 Output Shape              Param #   \n",
      "=================================================================\n",
      "dense_4 (Dense)              (None, 128)               9088      \n",
      "_________________________________________________________________\n",
      "dropout_3 (Dropout)          (None, 128)               0         \n",
      "_________________________________________________________________\n",
      "leaky_re_lu_3 (LeakyReLU)    (None, 128)               0         \n",
      "_________________________________________________________________\n",
      "dense_5 (Dense)              (None, 32)                4128      \n",
      "_________________________________________________________________\n",
      "dropout_4 (Dropout)          (None, 32)                0         \n",
      "_________________________________________________________________\n",
      "leaky_re_lu_4 (LeakyReLU)    (None, 32)                0         \n",
      "_________________________________________________________________\n",
      "dense_6 (Dense)              (None, 16)                528       \n",
      "_________________________________________________________________\n",
      "dropout_5 (Dropout)          (None, 16)                0         \n",
      "_________________________________________________________________\n",
      "leaky_re_lu_5 (LeakyReLU)    (None, 16)                0         \n",
      "_________________________________________________________________\n",
      "dense_7 (Dense)              (None, 1)                 17        \n",
      "=================================================================\n",
      "Total params: 13,761\n",
      "Trainable params: 13,761\n",
      "Non-trainable params: 0\n",
      "_________________________________________________________________\n"
     ]
    },
    {
     "data": {
      "image/png": "[encoded data removed]",
      "text/plain": [
       "<Figure size 432x288 with 1 Axes>"
      ]
     },
     "metadata": {
      "needs_background": "light"
     },
     "output_type": "display_data"
    },
    {
     "data": {
      "image/png": "[encoded data removed]",
      "text/plain": [
       "<Figure size 432x288 with 1 Axes>"
      ]
     },
     "metadata": {
      "needs_background": "light"
     },
     "output_type": "display_data"
    },
    {
     "name": "stderr",
     "output_type": "stream",
     "text": [
      "INFO:root:Training the NN model...\n"
     ]
    },
    {
     "name": "stdout",
     "output_type": "stream",
     "text": [
      "cw: using class 0 weight 0.816116588084012, class 1 weight 1.2908474576271187\n",
      "WARNING:tensorflow:Falling back from v2 loop because of error: Failed to find data adapter that can handle input: <class 'pandas.core.frame.DataFrame'>, <class 'NoneType'>\n"
     ]
    },
    {
     "name": "stderr",
     "output_type": "stream",
     "text": [
      "WARNING:tensorflow:Falling back from v2 loop because of error: Failed to find data adapter that can handle input: <class 'pandas.core.frame.DataFrame'>, <class 'NoneType'>\n"
     ]
    },
    {
     "name": "stdout",
     "output_type": "stream",
     "text": [
      "Train on 20563 samples, validate on 2285 samples\n",
      "Epoch 1/70\n",
      "20563/20563 [==============================] - 9s 438us/sample - loss: 0.7181 - acc: 0.5286 - val_loss: 0.8405 - val_acc: 0.5405\n",
      "Epoch 2/70\n",
      "20563/20563 [==============================] - 5s 259us/sample - loss: 0.7046 - acc: 0.5479 - val_loss: 0.8248 - val_acc: 0.5427\n",
      "Epoch 3/70\n",
      "20563/20563 [==============================] - 4s 209us/sample - loss: 0.7010 - acc: 0.5456 - val_loss: 0.8176 - val_acc: 0.5322\n",
      "Epoch 4/70\n",
      "20563/20563 [==============================] - 4s 199us/sample - loss: 0.6974 - acc: 0.5488 - val_loss: 0.8129 - val_acc: 0.5300\n",
      "Epoch 5/70\n",
      "20563/20563 [==============================] - 5s 261us/sample - loss: 0.6951 - acc: 0.5504 - val_loss: 0.8122 - val_acc: 0.5208\n",
      "Epoch 6/70\n",
      "20563/20563 [==============================] - 4s 210us/sample - loss: 0.6936 - acc: 0.5528 - val_loss: 0.8074 - val_acc: 0.5287\n",
      "Epoch 7/70\n",
      "20563/20563 [==============================] - 4s 196us/sample - loss: 0.6916 - acc: 0.5492 - val_loss: 0.8072 - val_acc: 0.5212\n",
      "Epoch 8/70\n",
      "20563/20563 [==============================] - 4s 185us/sample - loss: 0.6909 - acc: 0.5495 - val_loss: 0.8073 - val_acc: 0.5252\n",
      "Epoch 9/70\n",
      "20563/20563 [==============================] - 4s 186us/sample - loss: 0.6898 - acc: 0.5506 - val_loss: 0.8060 - val_acc: 0.5282\n",
      "Epoch 10/70\n",
      "20563/20563 [==============================] - 4s 192us/sample - loss: 0.6892 - acc: 0.5516 - val_loss: 0.8065 - val_acc: 0.5274\n",
      "Epoch 11/70\n",
      "20563/20563 [==============================] - 4s 182us/sample - loss: 0.6878 - acc: 0.5511 - val_loss: 0.8078 - val_acc: 0.5287\n",
      "Epoch 12/70\n",
      "20563/20563 [==============================] - 4s 210us/sample - loss: 0.6875 - acc: 0.5524 - val_loss: 0.8077 - val_acc: 0.5339\n",
      "Epoch 13/70\n",
      "20563/20563 [==============================] - 4s 172us/sample - loss: 0.6860 - acc: 0.5570 - val_loss: 0.8071 - val_acc: 0.5361\n",
      "Epoch 14/70\n",
      "20563/20563 [==============================] - 6s 270us/sample - loss: 0.6861 - acc: 0.5560 - val_loss: 0.8065 - val_acc: 0.5387\n",
      "Epoch 15/70\n",
      "20563/20563 [==============================] - 5s 226us/sample - loss: 0.6845 - acc: 0.5571 - val_loss: 0.8054 - val_acc: 0.5335\n",
      "Epoch 16/70\n",
      "20563/20563 [==============================] - 4s 189us/sample - loss: 0.6838 - acc: 0.5579 - val_loss: 0.8036 - val_acc: 0.5348\n",
      "Epoch 17/70\n",
      "20563/20563 [==============================] - 4s 200us/sample - loss: 0.6843 - acc: 0.5582 - val_loss: 0.8052 - val_acc: 0.5435\n",
      "Epoch 18/70\n",
      "20563/20563 [==============================] - 4s 191us/sample - loss: 0.6836 - acc: 0.5572 - val_loss: 0.8053 - val_acc: 0.5383\n",
      "Epoch 19/70\n",
      "20563/20563 [==============================] - 4s 213us/sample - loss: 0.6831 - acc: 0.5566 - val_loss: 0.8051 - val_acc: 0.5405\n",
      "Epoch 20/70\n",
      "20563/20563 [==============================] - 4s 190us/sample - loss: 0.6825 - acc: 0.5618 - val_loss: 0.8028 - val_acc: 0.5400\n",
      "Epoch 21/70\n",
      "20563/20563 [==============================] - 4s 198us/sample - loss: 0.6813 - acc: 0.5599 - val_loss: 0.8039 - val_acc: 0.5392\n",
      "Epoch 22/70\n",
      "20563/20563 [==============================] - 4s 189us/sample - loss: 0.6810 - acc: 0.5626 - val_loss: 0.8042 - val_acc: 0.5370\n",
      "Epoch 23/70\n",
      "20563/20563 [==============================] - 4s 195us/sample - loss: 0.6798 - acc: 0.5635 - val_loss: 0.8111 - val_acc: 0.5435\n",
      "Epoch 24/70\n",
      "20563/20563 [==============================] - 4s 196us/sample - loss: 0.6787 - acc: 0.5687 - val_loss: 0.8142 - val_acc: 0.5510\n",
      "Epoch 25/70\n",
      "20563/20563 [==============================] - 5s 220us/sample - loss: 0.6792 - acc: 0.5689 - val_loss: 0.8103 - val_acc: 0.5335\n",
      "Epoch 26/70\n",
      "20563/20563 [==============================] - 4s 183us/sample - loss: 0.6786 - acc: 0.5660 - val_loss: 0.8200 - val_acc: 0.5396\n",
      "Epoch 27/70\n",
      "20563/20563 [==============================] - 4s 201us/sample - loss: 0.6774 - acc: 0.5741 - val_loss: 0.8176 - val_acc: 0.5414\n",
      "Epoch 28/70\n",
      "20563/20563 [==============================] - 5s 226us/sample - loss: 0.6770 - acc: 0.5742 - val_loss: 0.8124 - val_acc: 0.5396\n",
      "Epoch 29/70\n",
      "20563/20563 [==============================] - 5s 219us/sample - loss: 0.6778 - acc: 0.5723 - val_loss: 0.8166 - val_acc: 0.5335\n",
      "Epoch 30/70\n",
      "20563/20563 [==============================] - 5s 236us/sample - loss: 0.6767 - acc: 0.5702 - val_loss: 0.8134 - val_acc: 0.5422\n",
      "Epoch 31/70\n",
      "20563/20563 [==============================] - 6s 283us/sample - loss: 0.6755 - acc: 0.5740 - val_loss: 0.8175 - val_acc: 0.5370\n",
      "Epoch 32/70\n",
      "20563/20563 [==============================] - 5s 224us/sample - loss: 0.6749 - acc: 0.5744 - val_loss: 0.8154 - val_acc: 0.5488\n",
      "Epoch 33/70\n",
      "20563/20563 [==============================] - 7s 346us/sample - loss: 0.6757 - acc: 0.5764 - val_loss: 0.8199 - val_acc: 0.5365\n",
      "Epoch 34/70\n",
      "20563/20563 [==============================] - 5s 227us/sample - loss: 0.6747 - acc: 0.5804 - val_loss: 0.8184 - val_acc: 0.5392\n",
      "Epoch 35/70\n",
      "20563/20563 [==============================] - 4s 214us/sample - loss: 0.6741 - acc: 0.5744 - val_loss: 0.8229 - val_acc: 0.5449\n",
      "Epoch 36/70\n",
      "20563/20563 [==============================] - 4s 192us/sample - loss: 0.6733 - acc: 0.5825 - val_loss: 0.8231 - val_acc: 0.5344\n",
      "Epoch 37/70\n",
      "20563/20563 [==============================] - 4s 187us/sample - loss: 0.6733 - acc: 0.5788 - val_loss: 0.8277 - val_acc: 0.5475\n",
      "Epoch 38/70\n",
      "20563/20563 [==============================] - 4s 174us/sample - loss: 0.6724 - acc: 0.5857 - val_loss: 0.8277 - val_acc: 0.5365\n",
      "Epoch 39/70\n",
      "20563/20563 [==============================] - 4s 184us/sample - loss: 0.6732 - acc: 0.5848 - val_loss: 0.8286 - val_acc: 0.5475\n",
      "Epoch 40/70\n",
      "20563/20563 [==============================] - 3s 168us/sample - loss: 0.6715 - acc: 0.5859 - val_loss: 0.8214 - val_acc: 0.5475\n",
      "Epoch 41/70\n",
      "20563/20563 [==============================] - 4s 176us/sample - loss: 0.6716 - acc: 0.5816 - val_loss: 0.8224 - val_acc: 0.5392\n",
      "Epoch 42/70\n",
      "20563/20563 [==============================] - 4s 188us/sample - loss: 0.6719 - acc: 0.5821 - val_loss: 0.8234 - val_acc: 0.5470\n",
      "Epoch 43/70\n",
      "20563/20563 [==============================] - 4s 196us/sample - loss: 0.6710 - acc: 0.5858 - val_loss: 0.8276 - val_acc: 0.5291\n",
      "Epoch 44/70\n",
      "20563/20563 [==============================] - 6s 270us/sample - loss: 0.6719 - acc: 0.5832 - val_loss: 0.8296 - val_acc: 0.5339\n",
      "Epoch 45/70\n",
      "20563/20563 [==============================] - 4s 201us/sample - loss: 0.6689 - acc: 0.5881 - val_loss: 0.8283 - val_acc: 0.5453\n",
      "Epoch 46/70\n",
      "20563/20563 [==============================] - 4s 204us/sample - loss: 0.6698 - acc: 0.5897 - val_loss: 0.8259 - val_acc: 0.5379\n",
      "Epoch 47/70\n",
      "20563/20563 [==============================] - 3s 163us/sample - loss: 0.6699 - acc: 0.5865 - val_loss: 0.8281 - val_acc: 0.5418\n",
      "Epoch 48/70\n",
      "20563/20563 [==============================] - 4s 171us/sample - loss: 0.6692 - acc: 0.5866 - val_loss: 0.8330 - val_acc: 0.5383\n",
      "Epoch 49/70\n",
      "20563/20563 [==============================] - 4s 190us/sample - loss: 0.6691 - acc: 0.5917 - val_loss: 0.8355 - val_acc: 0.5295\n",
      "Epoch 50/70\n",
      "20563/20563 [==============================] - 4s 205us/sample - loss: 0.6686 - acc: 0.5906 - val_loss: 0.8332 - val_acc: 0.5317\n",
      "Epoch 51/70\n",
      "20563/20563 [==============================] - 5s 250us/sample - loss: 0.6667 - acc: 0.5927 - val_loss: 0.8390 - val_acc: 0.5400\n",
      "Epoch 52/70\n",
      "20563/20563 [==============================] - 5s 241us/sample - loss: 0.6681 - acc: 0.5922 - val_loss: 0.8368 - val_acc: 0.5497\n",
      "Epoch 53/70\n",
      "20563/20563 [==============================] - 6s 312us/sample - loss: 0.6673 - acc: 0.5947 - val_loss: 0.8370 - val_acc: 0.5470\n",
      "Epoch 54/70\n",
      "20563/20563 [==============================] - 4s 208us/sample - loss: 0.6659 - acc: 0.5979 - val_loss: 0.8425 - val_acc: 0.5519\n",
      "Epoch 55/70\n",
      "20563/20563 [==============================] - 4s 195us/sample - loss: 0.6666 - acc: 0.5938 - val_loss: 0.8426 - val_acc: 0.5475\n",
      "Epoch 56/70\n",
      "20563/20563 [==============================] - 5s 219us/sample - loss: 0.6655 - acc: 0.5949 - val_loss: 0.8474 - val_acc: 0.5479\n",
      "Epoch 57/70\n",
      "20563/20563 [==============================] - 4s 212us/sample - loss: 0.6644 - acc: 0.5954 - val_loss: 0.8489 - val_acc: 0.5457\n",
      "Epoch 58/70\n",
      "20563/20563 [==============================] - 8s 368us/sample - loss: 0.6645 - acc: 0.6002 - val_loss: 0.8453 - val_acc: 0.5330\n"
     ]
    },
    {
     "name": "stdout",
     "output_type": "stream",
     "text": [
      "Epoch 59/70\n",
      "20563/20563 [==============================] - 4s 197us/sample - loss: 0.6637 - acc: 0.5999 - val_loss: 0.8461 - val_acc: 0.5361\n",
      "Epoch 60/70\n",
      "20563/20563 [==============================] - 4s 201us/sample - loss: 0.6640 - acc: 0.5992 - val_loss: 0.8523 - val_acc: 0.5532\n",
      "Epoch 61/70\n",
      "20563/20563 [==============================] - 4s 193us/sample - loss: 0.6640 - acc: 0.6015 - val_loss: 0.8560 - val_acc: 0.5444\n",
      "Epoch 62/70\n",
      "20563/20563 [==============================] - 4s 195us/sample - loss: 0.6629 - acc: 0.6007 - val_loss: 0.8586 - val_acc: 0.5479\n",
      "Epoch 63/70\n",
      "20563/20563 [==============================] - 4s 176us/sample - loss: 0.6637 - acc: 0.6038 - val_loss: 0.8540 - val_acc: 0.5379\n",
      "Epoch 64/70\n",
      "20563/20563 [==============================] - 4s 174us/sample - loss: 0.6633 - acc: 0.6002 - val_loss: 0.8570 - val_acc: 0.5453\n",
      "Epoch 65/70\n",
      "20563/20563 [==============================] - 4s 201us/sample - loss: 0.6614 - acc: 0.6078 - val_loss: 0.8543 - val_acc: 0.5510\n",
      "Epoch 66/70\n",
      "20563/20563 [==============================] - 4s 179us/sample - loss: 0.6624 - acc: 0.6052 - val_loss: 0.8577 - val_acc: 0.5370\n",
      "Epoch 67/70\n",
      "20563/20563 [==============================] - 4s 185us/sample - loss: 0.6620 - acc: 0.6020 - val_loss: 0.8557 - val_acc: 0.5427\n",
      "Epoch 68/70\n",
      "20563/20563 [==============================] - 5s 252us/sample - loss: 0.6625 - acc: 0.6056 - val_loss: 0.8585 - val_acc: 0.5453\n",
      "Epoch 69/70\n",
      "20563/20563 [==============================] - 7s 330us/sample - loss: 0.6612 - acc: 0.6041 - val_loss: 0.8604 - val_acc: 0.5396\n",
      "Epoch 70/70\n",
      "20563/20563 [==============================] - 4s 211us/sample - loss: 0.6594 - acc: 0.6076 - val_loss: 0.8601 - val_acc: 0.5414\n"
     ]
    },
    {
     "data": {
      "image/png": "[encoded data removed]",
      "text/plain": [
       "<Figure size 432x288 with 1 Axes>"
      ]
     },
     "metadata": {
      "needs_background": "light"
     },
     "output_type": "display_data"
    },
    {
     "data": {
      "image/png": "[encoded data removed]",
      "text/plain": [
       "<Figure size 432x288 with 1 Axes>"
      ]
     },
     "metadata": {
      "needs_background": "light"
     },
     "output_type": "display_data"
    },
    {
     "data": {
      "image/png": "[encoded data removed]",
      "text/plain": [
       "<Figure size 432x288 with 1 Axes>"
      ]
     },
     "metadata": {
      "needs_background": "light"
     },
     "output_type": "display_data"
    },
    {
     "name": "stderr",
     "output_type": "stream",
     "text": [
      "INFO:root:Evaluating the NN model...\n"
     ]
    },
    {
     "name": "stdout",
     "output_type": "stream",
     "text": [
      "\n",
      "\n",
      "main: Evaluating the model on in-sample data (training data)\n",
      "WARNING:tensorflow:Falling back from v2 loop because of error: Failed to find data adapter that can handle input: <class 'pandas.core.frame.DataFrame'>, <class 'NoneType'>\n"
     ]
    },
    {
     "name": "stderr",
     "output_type": "stream",
     "text": [
      "WARNING:tensorflow:Falling back from v2 loop because of error: Failed to find data adapter that can handle input: <class 'pandas.core.frame.DataFrame'>, <class 'NoneType'>\n"
     ]
    },
    {
     "name": "stdout",
     "output_type": "stream",
     "text": [
      "22848/22848 [==============================] - 3s 137us/sample - loss: 0.6641 - acc: 0.6268\n",
      "main: valuating the model on out-of-sample data (test data)\n",
      "WARNING:tensorflow:Falling back from v2 loop because of error: Failed to find data adapter that can handle input: <class 'pandas.core.frame.DataFrame'>, <class 'NoneType'>\n"
     ]
    },
    {
     "name": "stderr",
     "output_type": "stream",
     "text": [
      "WARNING:tensorflow:Falling back from v2 loop because of error: Failed to find data adapter that can handle input: <class 'pandas.core.frame.DataFrame'>, <class 'NoneType'>\n"
     ]
    },
    {
     "name": "stdout",
     "output_type": "stream",
     "text": [
      "4284/4284 [==============================] - 1s 124us/sample - loss: 0.7025 - acc: 0.5348\n"
     ]
    },
    {
     "name": "stderr",
     "output_type": "stream",
     "text": [
      "INFO:root:Predictions with the NN model...\n"
     ]
    },
    {
     "name": "stdout",
     "output_type": "stream",
     "text": [
      "main: just testing predictions for later trading applications\n",
      "WARNING:tensorflow:Falling back from v2 loop because of error: Failed to find data adapter that can handle input: <class 'pandas.core.frame.DataFrame'>, <class 'NoneType'>\n"
     ]
    },
    {
     "name": "stderr",
     "output_type": "stream",
     "text": [
      "WARNING:tensorflow:Falling back from v2 loop because of error: Failed to find data adapter that can handle input: <class 'pandas.core.frame.DataFrame'>, <class 'NoneType'>\n"
     ]
    },
    {
     "name": "stdout",
     "output_type": "stream",
     "text": [
      "22848/22848 [==============================] - 2s 93us/sample\n"
     ]
    },
    {
     "name": "stderr",
     "output_type": "stream",
     "text": [
      "INFO:root:Saving the NN model...\n",
      "INFO:root:trainer: specific model folder does not exist: creating it...\n"
     ]
    },
    {
     "name": "stdout",
     "output_type": "stream",
     "text": [
      "[[0.55062956]\n",
      " [0.488962  ]\n",
      " [0.3252026 ]\n",
      " ...\n",
      " [0.43112886]\n",
      " [0.4509655 ]\n",
      " [0.28195053]]\n",
      "main:Trained model save to /Users/ANDREA/PycharmProjects/OandaTrading//TrainedModels/USD_PLN//DNN_model.h5\n"
     ]
    },
    {
     "data": {
      "text/plain": [
       "<Figure size 432x288 with 0 Axes>"
      ]
     },
     "metadata": {},
     "output_type": "display_data"
    }
   ],
   "source": [
    "# Todo: do this selection better and not via string. This should reference via dict to the model\n",
    "model_id = \"dnn1\"\n",
    "model_trainer = trainer.DL_Trainer(cfginst, model_id)\n",
    "\n",
    "logging.info(\"Loading data and creating the NN model...\")\n",
    "model_trainer.load_train_data()\n",
    "model_trainer.set_model()\n",
    "\n",
    "logging.info(\"Training the NN model...\")\n",
    "model_trainer.train_model(epochs=70)\n",
    "\n",
    "logging.info(\"Evaluating the NN model...\")\n",
    "model_trainer.evaluate_model()\n",
    "\n",
    "logging.info(\"Predictions with the NN model...\")\n",
    "model_trainer.make_predictions()\n",
    "\n",
    "logging.info(\"Saving the NN model...\")\n",
    "model_trainer.save_model()"
   ]
  },
  {
   "cell_type": "markdown",
   "metadata": {},
   "source": [
    "## 3) Trade or Test Strategy"
   ]
  },
  {
   "cell_type": "code",
   "execution_count": 7,
   "metadata": {},
   "outputs": [
    {
     "name": "stdout",
     "output_type": "stream",
     "text": [
      "WARNING:tensorflow:Error in loading the saved optimizer state. As a result, your model is starting with a freshly initialized optimizer.\n"
     ]
    },
    {
     "name": "stderr",
     "output_type": "stream",
     "text": [
      "WARNING:tensorflow:Error in loading the saved optimizer state. As a result, your model is starting with a freshly initialized optimizer.\n"
     ]
    }
   ],
   "source": [
    "#load params for data standardization\n",
    "params = pickle.load(open(namefiles_dict[\"params\"], \"rb\"))\n",
    "mu = params[\"mu\"]\n",
    "std = params[\"std\"]\n",
    "# load trained model\n",
    "model = keras.models.load_model(cfg.trained_models_path +\n",
    "                                instrument + \"/DNN_model.h5\")\n",
    "# create trader object using instrument configuration details"
   ]
  },
  {
   "cell_type": "code",
   "execution_count": 8,
   "metadata": {},
   "outputs": [
    {
     "name": "stdout",
     "output_type": "stream",
     "text": [
      "Layers of model being used are: \n",
      "[<tensorflow.python.keras.layers.core.Dense object at 0x13dc7a290>, <tensorflow.python.keras.layers.core.Dropout object at 0x13ddfbd10>, <tensorflow.python.keras.layers.advanced_activations.LeakyReLU object at 0x13ddfb190>, <tensorflow.python.keras.layers.core.Dense object at 0x13ddfbf10>, <tensorflow.python.keras.layers.core.Dropout object at 0x13df32f90>, <tensorflow.python.keras.layers.advanced_activations.LeakyReLU object at 0x13df4c3d0>, <tensorflow.python.keras.layers.core.Dense object at 0x13dfda910>, <tensorflow.python.keras.layers.core.Dropout object at 0x13df80c10>, <tensorflow.python.keras.layers.advanced_activations.LeakyReLU object at 0x13dfef990>, <tensorflow.python.keras.layers.core.Dense object at 0x13e0215d0>]\n"
     ]
    }
   ],
   "source": [
    "print(\"Layers of model being used are: \")\n",
    "print(model.layers)\n",
    "trader = t.DNNTrader(cfg.conf_file,\n",
    "                   instrument=instrument,\n",
    "                   bar_length=cfginst.brl,\n",
    "                   window=cfginst.window,\n",
    "                   lags=cfginst.lags,\n",
    "                   units=cfginst.units,\n",
    "                   model=model,\n",
    "                   mu=mu, std=std,\n",
    "                   hspread_ptc=cfginst.hspread_ptc,\n",
    "                   sma_int=cfginst.sma_int,\n",
    "                   features=cfginst.features,\n",
    "                   h_prob_th=cfginst.higher_go_long,\n",
    "                   l_prob_th=cfginst.lower_go_short)"
   ]
  },
  {
   "cell_type": "code",
   "execution_count": 9,
   "metadata": {},
   "outputs": [],
   "source": [
    "# either live trading or testing (back or fw testing)\n",
    "TRADING = 1\n",
    "BCKTESTING, FWTESTING = (1,0) if not TRADING else (0,0)"
   ]
  },
  {
   "cell_type": "code",
   "execution_count": 10,
   "metadata": {
    "scrolled": false
   },
   "outputs": [
    {
     "name": "stderr",
     "output_type": "stream",
     "text": [
      "INFO:root:get_most_recent: getting recent history to prepend to tick data so as to compute features...\n"
     ]
    },
    {
     "name": "stdout",
     "output_type": "stream",
     "text": [
      "SEQUENCE: get_most_recent\n"
     ]
    },
    {
     "name": "stderr",
     "output_type": "stream",
     "text": [
      "INFO:root:get_most_recent: resampling recent history to chosen bar length in line with the training data used to train the model\n",
      "INFO:root:main: most recent historical data obtained and resamplednow starting streaming data and trading...\n"
     ]
    },
    {
     "name": "stdout",
     "output_type": "stream",
     "text": [
      "\n",
      "history dataframe information:\n",
      "\n",
      "<class 'pandas.core.frame.DataFrame'>\n",
      "DatetimeIndex: 13636 entries, 2021-05-21 07:43:05+00:00 to 2021-05-24 07:43:05+00:00\n",
      "Data columns (total 1 columns):\n",
      " #   Column   Non-Null Count  Dtype  \n",
      "---  ------   --------------  -----  \n",
      " 0   USD_PLN  13636 non-null  float64\n",
      "dtypes: float64(1)\n",
      "memory usage: 213.1 KB\n",
      "\n",
      "resampled history dataframe information:\n",
      "\n",
      "<class 'pandas.core.frame.DataFrame'>\n",
      "DatetimeIndex: 1405 entries, 2021-05-21 07:44:00+00:00 to 2021-05-24 07:43:00+00:00\n",
      "Data columns (total 1 columns):\n",
      " #   Column   Non-Null Count  Dtype  \n",
      "---  ------   --------------  -----  \n",
      " 0   USD_PLN  1405 non-null   float64\n",
      "dtypes: float64(1)\n",
      "memory usage: 22.0 KB\n",
      "1 2 3 4 5 6 7 8 9 10 11 12 13 14 15 16 17 18 19 20 21 22 23 24 25 26 27 28 29 30 31 32 33 34 35 36 37 38 39 40 41 42 43 44 \n",
      "SEQUENCE: prepare_data\n",
      "\n",
      "SEQUENCE: predict\n",
      "WARNING:tensorflow:Falling back from v2 loop because of error: Failed to find data adapter that can handle input: <class 'pandas.core.frame.DataFrame'>, <class 'NoneType'>\n"
     ]
    },
    {
     "name": "stderr",
     "output_type": "stream",
     "text": [
      "WARNING:tensorflow:Falling back from v2 loop because of error: Failed to find data adapter that can handle input: <class 'pandas.core.frame.DataFrame'>, <class 'NoneType'>\n"
     ]
    },
    {
     "name": "stdout",
     "output_type": "stream",
     "text": [
      "on_success: predicted probabilty for next bar is  0.6564621\n",
      "45 46 47 48 49 50 51 52 53 54 55 56 57 58 59 60 61 62 63 64 65 66 67 68 69 70 71 72 73 74 75 76 77 78 79 80 81 82 83 84 85 86 87 88 89 90 91 92 93 94 95 96 97 98 99 100 101 102 103 104 105 106 107 108 \n",
      "SEQUENCE: prepare_data\n",
      "\n",
      "SEQUENCE: predict\n",
      "WARNING:tensorflow:Falling back from v2 loop because of error: Failed to find data adapter that can handle input: <class 'pandas.core.frame.DataFrame'>, <class 'NoneType'>\n"
     ]
    },
    {
     "name": "stderr",
     "output_type": "stream",
     "text": [
      "WARNING:tensorflow:Falling back from v2 loop because of error: Failed to find data adapter that can handle input: <class 'pandas.core.frame.DataFrame'>, <class 'NoneType'>\n"
     ]
    },
    {
     "name": "stdout",
     "output_type": "stream",
     "text": [
      "on_success: predicted probabilty for next bar is  0.5068549\n",
      "109 110 111 112 113 114 115 116 117 118 119 120 121 122 123 124 125 126 127 128 129 130 131 132 133 134 135 136 137 138 139 140 141 142 143 144 145 146 147 148 149 150 151 152 153 154 155 156 157 158 159 160 161 162 163 164 165 166 167 168 \n",
      "SEQUENCE: prepare_data\n",
      "\n",
      "SEQUENCE: predict\n",
      "WARNING:tensorflow:Falling back from v2 loop because of error: Failed to find data adapter that can handle input: <class 'pandas.core.frame.DataFrame'>, <class 'NoneType'>\n"
     ]
    },
    {
     "name": "stderr",
     "output_type": "stream",
     "text": [
      "WARNING:tensorflow:Falling back from v2 loop because of error: Failed to find data adapter that can handle input: <class 'pandas.core.frame.DataFrame'>, <class 'NoneType'>\n"
     ]
    },
    {
     "name": "stdout",
     "output_type": "stream",
     "text": [
      "on_success: predicted probabilty for next bar is  0.41680622\n",
      "169 170 171 172 173 174 175 176 177 178 179 180 181 182 183 184 185 186 187 188 189 190 191 192 193 194 195 196 197 198 199 200 201 202 203 204 205 206 207 208 209 210 211 212 213 214 215 \n",
      "SEQUENCE: prepare_data\n",
      "\n",
      "SEQUENCE: predict\n",
      "WARNING:tensorflow:Falling back from v2 loop because of error: Failed to find data adapter that can handle input: <class 'pandas.core.frame.DataFrame'>, <class 'NoneType'>\n"
     ]
    },
    {
     "name": "stderr",
     "output_type": "stream",
     "text": [
      "WARNING:tensorflow:Falling back from v2 loop because of error: Failed to find data adapter that can handle input: <class 'pandas.core.frame.DataFrame'>, <class 'NoneType'>\n"
     ]
    },
    {
     "name": "stdout",
     "output_type": "stream",
     "text": [
      "on_success: predicted probabilty for next bar is  0.66507506\n",
      "216 217 218 219 220 221 222 223 224 225 226 227 228 229 230 231 232 233 234 235 236 237 238 239 240 241 242 243 244 245 246 247 248 249 250 251 252 253 254 255 256 257 258 259 260 261 262 263 264 265 266 267 268 \n",
      "SEQUENCE: prepare_data\n",
      "\n",
      "SEQUENCE: predict\n",
      "WARNING:tensorflow:Falling back from v2 loop because of error: Failed to find data adapter that can handle input: <class 'pandas.core.frame.DataFrame'>, <class 'NoneType'>\n"
     ]
    },
    {
     "name": "stderr",
     "output_type": "stream",
     "text": [
      "WARNING:tensorflow:Falling back from v2 loop because of error: Failed to find data adapter that can handle input: <class 'pandas.core.frame.DataFrame'>, <class 'NoneType'>\n"
     ]
    },
    {
     "name": "stdout",
     "output_type": "stream",
     "text": [
      "on_success: predicted probabilty for next bar is  0.7283882\n",
      "{'id': '147', 'time': '2021-05-24T07:48:00.699686961Z', 'userID': 18043244, 'accountID': '101-012-18043244-002', 'batchID': '146', 'requestID': '78860094443000829', 'type': 'ORDER_FILL', 'orderID': '146', 'instrument': 'USD_PLN', 'units': '1000.0', 'gainQuoteHomeConversionFactor': '0.270720685295', 'lossQuoteHomeConversionFactor': '0.273441496203', 'price': 3.6761, 'fullVWAP': 3.6761, 'fullPrice': {'type': 'PRICE', 'bids': [{'price': 3.67465, 'liquidity': '5000000'}], 'asks': [{'price': 3.6761, 'liquidity': '5000000'}], 'closeoutBid': 3.67465, 'closeoutAsk': 3.6761}, 'reason': 'MARKET_ORDER', 'pl': '0.0', 'financing': '0.0', 'commission': '0.0', 'guaranteedExecutionFee': '0.0', 'accountBalance': '584.2615', 'tradeOpened': {'tradeID': '147', 'units': '1000.0', 'price': 3.6761, 'guaranteedExecutionFee': '0.0', 'halfSpreadCost': '0.1973', 'initialMarginRequired': '100.0'}, 'halfSpreadCost': '0.1973'}\n",
      "order.keys():  dict_keys(['id', 'time', 'userID', 'accountID', 'batchID', 'requestID', 'type', 'orderID', 'instrument', 'units', 'gainQuoteHomeConversionFactor', 'lossQuoteHomeConversionFactor', 'price', 'fullVWAP', 'fullPrice', 'reason', 'pl', 'financing', 'commission', 'guaranteedExecutionFee', 'accountBalance', 'tradeOpened', 'halfSpreadCost'])\n",
      "\n",
      "----------------------------------------------------------------------------------------------------\n",
      "2021-05-24T07:48:00.699686961Z | GOING LONG\n",
      "2021-05-24T07:48:00.699686961Z | units = 1000.0 | price = 3.6761 | P&L = 0.0 | Cum P&L = 0.0\n",
      "----------------------------------------------------------------------------------------------------\n",
      "\n",
      "269 270 271 272 273 274 275 276 277 278 279 280 281 282 283 284 285 286 287 288 289 290 291 292 293 294 295 296 297 298 299 300 Closing position as we are ending trading!\n",
      "{'id': '149', 'time': '2021-05-24T07:49:00.391650669Z', 'userID': 18043244, 'accountID': '101-012-18043244-002', 'batchID': '148', 'requestID': '78860094694735780', 'type': 'ORDER_FILL', 'orderID': '148', 'instrument': 'USD_PLN', 'units': '-1000.0', 'gainQuoteHomeConversionFactor': '0.270777781839', 'lossQuoteHomeConversionFactor': '0.273499166581', 'price': 3.67389, 'fullVWAP': 3.67389, 'fullPrice': {'type': 'PRICE', 'bids': [{'price': 3.67389, 'liquidity': '5000000'}], 'asks': [{'price': 3.67531, 'liquidity': '5000000'}], 'closeoutBid': 3.67389, 'closeoutAsk': 3.67531}, 'reason': 'MARKET_ORDER', 'pl': '-0.6044', 'financing': '0.0', 'commission': '0.0', 'guaranteedExecutionFee': '0.0', 'accountBalance': '583.6571', 'tradesClosed': [{'tradeID': '147', 'units': '-1000.0', 'price': 3.67389, 'realizedPL': '-0.6044', 'financing': '0.0', 'guaranteedExecutionFee': '0.0', 'halfSpreadCost': '0.1932'}], 'halfSpreadCost': '0.1932'}\n",
      "order.keys():  dict_keys(['id', 'time', 'userID', 'accountID', 'batchID', 'requestID', 'type', 'orderID', 'instrument', 'units', 'gainQuoteHomeConversionFactor', 'lossQuoteHomeConversionFactor', 'price', 'fullVWAP', 'fullPrice', 'reason', 'pl', 'financing', 'commission', 'guaranteedExecutionFee', 'accountBalance', 'tradesClosed', 'halfSpreadCost'])\n",
      "\n",
      "----------------------------------------------------------------------------------------------------\n",
      "2021-05-24T07:49:00.391650669Z | GOING NEUTRAL\n",
      "2021-05-24T07:49:00.391650669Z | units = -1000.0 | price = 3.67389 | P&L = -0.6044 | Cum P&L = -0.6044\n",
      "----------------------------------------------------------------------------------------------------\n",
      "\n"
     ]
    }
   ],
   "source": [
    "if TRADING:\n",
    "    trader.get_most_recent(days=cfginst.days_inference, granul=cfginst.granul)  # get historical data\n",
    "    logging.info(\"main: most recent historical data obtained and resampled\" +\n",
    "                 \"now starting streaming data and trading...\")\n",
    "    trader.stream_data(cfginst.instrument, stop=cfginst.stop_trading)  # streaming & trading here!!!!\n",
    "\n",
    "    if trader.position != 0:\n",
    "        print(\"Closing position as we are ending trading!\")\n",
    "        close_order = trader.create_order(instrument=cfginst.instrument,\n",
    "                                          units=-trader.position * trader.units,\n",
    "                                          suppress=True, ret=True)  # close Final Position\n",
    "        trader.report_trade(close_order, \"GOING NEUTRAL\")  # report Final Trade\n",
    "else: # TESTING\n",
    "    # loading data\n",
    "    assert os.path.exists(namefiles_dict[\"base_data_folder_name\"]), \"Base data folder DO NOT exists!\"\n",
    "    train_data = pd.read_csv(namefiles_dict[\"train_filename\"],\n",
    "                             index_col=\"time\", parse_dates=True, header=0)\n",
    "    test_data = pd.read_csv(namefiles_dict[\"test_filename\"],\n",
    "                            index_col=\"time\", parse_dates=True, header=0)\n",
    "    # valid not used for now, using keras support but that uses\n",
    "    # std and mean computed on the train+valid data\n",
    "    train_targets = pd.read_csv(namefiles_dict[\"train_labl_filename\"],\n",
    "                               index_col=\"time\", parse_dates=True, header=0)\n",
    "    test_targets = pd.read_csv(namefiles_dict[\"test_labl_filename\"],\n",
    "                              index_col=\"time\", parse_dates=True, header=0)\n",
    "\n",
    "    #trader.prepare_data() ### necessary? maybe not if I take data prepared by getpreparedata.py\n",
    "    if BCKTESTING:\n",
    "        trader.test(train_data, train_targets)\n",
    "\n",
    "    else: # fwtesting\n",
    "        trader.test(test_data, test_targets)"
   ]
  },
  {
   "cell_type": "markdown",
   "metadata": {},
   "source": [
    "## Notes and tests.... to delete.."
   ]
  },
  {
   "cell_type": "code",
   "execution_count": 9,
   "metadata": {},
   "outputs": [],
   "source": [
    "import tpqoa\n"
   ]
  },
  {
   "cell_type": "code",
   "execution_count": 10,
   "metadata": {},
   "outputs": [],
   "source": [
    "proj_path = \"/Users/ANDREA/PycharmProjects/OandaTrading/\"\n",
    "config_path = proj_path + \"configs/\"\n",
    "data_path = proj_path + \"Data/\"\n",
    "trained_models_path = proj_path + \"TrainedModels/\"\n",
    "\n",
    "# configuration file for oanda access\n",
    "conf_file = config_path + \"oanda.cfg\"\n"
   ]
  },
  {
   "cell_type": "code",
   "execution_count": 11,
   "metadata": {},
   "outputs": [],
   "source": [
    "api_oanda = tpqoa.tpqoa(conf_file)"
   ]
  },
  {
   "cell_type": "code",
   "execution_count": 15,
   "metadata": {},
   "outputs": [
    {
     "name": "stdout",
     "output_type": "stream",
     "text": [
      "[('AUD/CAD', 'AUD_CAD'), ('AUD/CHF', 'AUD_CHF'), ('AUD/HKD', 'AUD_HKD'), ('AUD/JPY', 'AUD_JPY'), ('AUD/NZD', 'AUD_NZD'), ('AUD/SGD', 'AUD_SGD'), ('AUD/USD', 'AUD_USD'), ('Australia 200', 'AU200_AUD'), ('Brent Crude Oil', 'BCO_USD'), ('Bund', 'DE10YB_EUR'), ('CAD/CHF', 'CAD_CHF'), ('CAD/HKD', 'CAD_HKD'), ('CAD/JPY', 'CAD_JPY'), ('CAD/SGD', 'CAD_SGD'), ('CHF/HKD', 'CHF_HKD'), ('CHF/JPY', 'CHF_JPY'), ('CHF/ZAR', 'CHF_ZAR'), ('China A50', 'CN50_USD'), ('Copper', 'XCU_USD'), ('Corn', 'CORN_USD'), ('EUR/AUD', 'EUR_AUD'), ('EUR/CAD', 'EUR_CAD'), ('EUR/CHF', 'EUR_CHF'), ('EUR/CZK', 'EUR_CZK'), ('EUR/DKK', 'EUR_DKK'), ('EUR/GBP', 'EUR_GBP'), ('EUR/HKD', 'EUR_HKD'), ('EUR/HUF', 'EUR_HUF'), ('EUR/JPY', 'EUR_JPY'), ('EUR/NOK', 'EUR_NOK'), ('EUR/NZD', 'EUR_NZD'), ('EUR/PLN', 'EUR_PLN'), ('EUR/SEK', 'EUR_SEK'), ('EUR/SGD', 'EUR_SGD'), ('EUR/TRY', 'EUR_TRY'), ('EUR/USD', 'EUR_USD'), ('EUR/ZAR', 'EUR_ZAR'), ('Europe 50', 'EU50_EUR'), ('France 40', 'FR40_EUR'), ('GBP/AUD', 'GBP_AUD'), ('GBP/CAD', 'GBP_CAD'), ('GBP/CHF', 'GBP_CHF'), ('GBP/HKD', 'GBP_HKD'), ('GBP/JPY', 'GBP_JPY'), ('GBP/NZD', 'GBP_NZD'), ('GBP/PLN', 'GBP_PLN'), ('GBP/SGD', 'GBP_SGD'), ('GBP/USD', 'GBP_USD'), ('GBP/ZAR', 'GBP_ZAR'), ('Germany 30', 'DE30_EUR'), ('Gold', 'XAU_USD'), ('Gold/AUD', 'XAU_AUD'), ('Gold/CAD', 'XAU_CAD'), ('Gold/CHF', 'XAU_CHF'), ('Gold/EUR', 'XAU_EUR'), ('Gold/GBP', 'XAU_GBP'), ('Gold/HKD', 'XAU_HKD'), ('Gold/JPY', 'XAU_JPY'), ('Gold/NZD', 'XAU_NZD'), ('Gold/SGD', 'XAU_SGD'), ('Gold/Silver', 'XAU_XAG'), ('HKD/JPY', 'HKD_JPY'), ('Hong Kong 33', 'HK33_HKD'), ('India 50', 'IN50_USD'), ('Japan 225', 'JP225_USD'), ('NZD/CAD', 'NZD_CAD'), ('NZD/CHF', 'NZD_CHF'), ('NZD/HKD', 'NZD_HKD'), ('NZD/JPY', 'NZD_JPY'), ('NZD/SGD', 'NZD_SGD'), ('NZD/USD', 'NZD_USD'), ('Natural Gas', 'NATGAS_USD'), ('Netherlands 25', 'NL25_EUR'), ('Palladium', 'XPD_USD'), ('Platinum', 'XPT_USD'), ('SGD/CHF', 'SGD_CHF'), ('SGD/JPY', 'SGD_JPY'), ('Silver', 'XAG_USD'), ('Silver/AUD', 'XAG_AUD'), ('Silver/CAD', 'XAG_CAD'), ('Silver/CHF', 'XAG_CHF'), ('Silver/EUR', 'XAG_EUR'), ('Silver/GBP', 'XAG_GBP'), ('Silver/HKD', 'XAG_HKD'), ('Silver/JPY', 'XAG_JPY'), ('Silver/NZD', 'XAG_NZD'), ('Silver/SGD', 'XAG_SGD'), ('Singapore 30', 'SG30_SGD'), ('Soybeans', 'SOYBN_USD'), ('Sugar', 'SUGAR_USD'), ('TRY/JPY', 'TRY_JPY'), ('Taiwan Index', 'TWIX_USD'), ('UK 100', 'UK100_GBP'), ('UK 10Y Gilt', 'UK10YB_GBP'), ('US 10Y T-Note', 'USB10Y_USD'), ('US 2Y T-Note', 'USB02Y_USD'), ('US 5Y T-Note', 'USB05Y_USD'), ('US Nas 100', 'NAS100_USD'), ('US Russ 2000', 'US2000_USD'), ('US SPX 500', 'SPX500_USD'), ('US T-Bond', 'USB30Y_USD'), ('US Wall St 30', 'US30_USD'), ('USD/CAD', 'USD_CAD'), ('USD/CHF', 'USD_CHF'), ('USD/CNH', 'USD_CNH'), ('USD/CZK', 'USD_CZK'), ('USD/DKK', 'USD_DKK'), ('USD/HKD', 'USD_HKD'), ('USD/HUF', 'USD_HUF'), ('USD/INR', 'USD_INR'), ('USD/JPY', 'USD_JPY'), ('USD/MXN', 'USD_MXN'), ('USD/NOK', 'USD_NOK'), ('USD/PLN', 'USD_PLN'), ('USD/SEK', 'USD_SEK'), ('USD/SGD', 'USD_SGD'), ('USD/THB', 'USD_THB'), ('USD/TRY', 'USD_TRY'), ('USD/ZAR', 'USD_ZAR'), ('West Texas Oil', 'WTICO_USD'), ('Wheat', 'WHEAT_USD'), ('ZAR/JPY', 'ZAR_JPY')]\n"
     ]
    }
   ],
   "source": [
    "inst_list = api_oanda.get_instruments()\n",
    "print(inst_list)"
   ]
  },
  {
   "cell_type": "code",
   "execution_count": 17,
   "metadata": {},
   "outputs": [
    {
     "data": {
      "text/plain": [
       "False"
      ]
     },
     "execution_count": 17,
     "metadata": {},
     "output_type": "execute_result"
    }
   ],
   "source": [
    "\"Silver\" in inst_list"
   ]
  },
  {
   "cell_type": "code",
   "execution_count": 8,
   "metadata": {},
   "outputs": [
    {
     "data": {
      "text/plain": [
       "array([[[ 1,  2,  3,  4],\n",
       "        [ 5,  6,  7,  8],\n",
       "        [11, 12, 13, 14],\n",
       "        [15, 16, 17, 18]],\n",
       "\n",
       "       [[21, 22, 23, 24],\n",
       "        [25, 26, 27, 28],\n",
       "        [31, 32, 33, 34],\n",
       "        [35, 36, 37, 38]]])"
      ]
     },
     "execution_count": 8,
     "metadata": {},
     "output_type": "execute_result"
    }
   ],
   "source": [
    "m = np.array([[[1,2,3,4],[5,6,7,8],[11,12,13,14],[15,16,17,18]],\n",
    "             [[21,22,23,24],[25,26,27,28],[31,32,33,34],[35,36,37,38]]])\n",
    "m"
   ]
  },
  {
   "cell_type": "code",
   "execution_count": 9,
   "metadata": {},
   "outputs": [
    {
     "data": {
      "text/plain": [
       "(2, 4, 4)"
      ]
     },
     "execution_count": 9,
     "metadata": {},
     "output_type": "execute_result"
    }
   ],
   "source": [
    "m.shape"
   ]
  },
  {
   "cell_type": "code",
   "execution_count": 10,
   "metadata": {},
   "outputs": [
    {
     "data": {
      "text/plain": [
       "array([[[ 1,  2],\n",
       "        [ 3,  4],\n",
       "        [ 5,  6],\n",
       "        [ 7,  8],\n",
       "        [11, 12],\n",
       "        [13, 14],\n",
       "        [15, 16],\n",
       "        [17, 18]],\n",
       "\n",
       "       [[21, 22],\n",
       "        [23, 24],\n",
       "        [25, 26],\n",
       "        [27, 28],\n",
       "        [31, 32],\n",
       "        [33, 34],\n",
       "        [35, 36],\n",
       "        [37, 38]]])"
      ]
     },
     "execution_count": 10,
     "metadata": {},
     "output_type": "execute_result"
    }
   ],
   "source": [
    "m.reshape(2,8,2)"
   ]
  },
  {
   "cell_type": "code",
   "execution_count": 11,
   "metadata": {},
   "outputs": [],
   "source": [
    "import tpqoa"
   ]
  },
  {
   "cell_type": "code",
   "execution_count": 12,
   "metadata": {},
   "outputs": [],
   "source": [
    "api = tpqoa.tpqoa(\"configs/oanda.cfg\")"
   ]
  },
  {
   "cell_type": "code",
   "execution_count": 13,
   "metadata": {},
   "outputs": [
    {
     "data": {
      "text/html": [
       "<div>\n",
       "<style scoped>\n",
       "    .dataframe tbody tr th:only-of-type {\n",
       "        vertical-align: middle;\n",
       "    }\n",
       "\n",
       "    .dataframe tbody tr th {\n",
       "        vertical-align: top;\n",
       "    }\n",
       "\n",
       "    .dataframe thead th {\n",
       "        text-align: right;\n",
       "    }\n",
       "</style>\n",
       "<table border=\"1\" class=\"dataframe\">\n",
       "  <thead>\n",
       "    <tr style=\"text-align: right;\">\n",
       "      <th></th>\n",
       "      <th>o</th>\n",
       "      <th>h</th>\n",
       "      <th>l</th>\n",
       "      <th>c</th>\n",
       "      <th>volume</th>\n",
       "      <th>complete</th>\n",
       "    </tr>\n",
       "    <tr>\n",
       "      <th>time</th>\n",
       "      <th></th>\n",
       "      <th></th>\n",
       "      <th></th>\n",
       "      <th></th>\n",
       "      <th></th>\n",
       "      <th></th>\n",
       "    </tr>\n",
       "  </thead>\n",
       "  <tbody>\n",
       "    <tr>\n",
       "      <th>2020-09-21 00:00:00</th>\n",
       "      <td>1.18447</td>\n",
       "      <td>1.18602</td>\n",
       "      <td>1.18423</td>\n",
       "      <td>1.18587</td>\n",
       "      <td>1632</td>\n",
       "      <td>True</td>\n",
       "    </tr>\n",
       "    <tr>\n",
       "      <th>2020-09-21 01:00:00</th>\n",
       "      <td>1.18588</td>\n",
       "      <td>1.18611</td>\n",
       "      <td>1.18536</td>\n",
       "      <td>1.18554</td>\n",
       "      <td>1908</td>\n",
       "      <td>True</td>\n",
       "    </tr>\n",
       "    <tr>\n",
       "      <th>2020-09-21 02:00:00</th>\n",
       "      <td>1.18555</td>\n",
       "      <td>1.18619</td>\n",
       "      <td>1.18554</td>\n",
       "      <td>1.18580</td>\n",
       "      <td>1799</td>\n",
       "      <td>True</td>\n",
       "    </tr>\n",
       "    <tr>\n",
       "      <th>2020-09-21 03:00:00</th>\n",
       "      <td>1.18581</td>\n",
       "      <td>1.18668</td>\n",
       "      <td>1.18559</td>\n",
       "      <td>1.18668</td>\n",
       "      <td>1380</td>\n",
       "      <td>True</td>\n",
       "    </tr>\n",
       "    <tr>\n",
       "      <th>2020-09-21 04:00:00</th>\n",
       "      <td>1.18668</td>\n",
       "      <td>1.18712</td>\n",
       "      <td>1.18652</td>\n",
       "      <td>1.18660</td>\n",
       "      <td>965</td>\n",
       "      <td>True</td>\n",
       "    </tr>\n",
       "    <tr>\n",
       "      <th>...</th>\n",
       "      <td>...</td>\n",
       "      <td>...</td>\n",
       "      <td>...</td>\n",
       "      <td>...</td>\n",
       "      <td>...</td>\n",
       "      <td>...</td>\n",
       "    </tr>\n",
       "    <tr>\n",
       "      <th>2020-09-23 19:00:00</th>\n",
       "      <td>1.16568</td>\n",
       "      <td>1.16636</td>\n",
       "      <td>1.16508</td>\n",
       "      <td>1.16620</td>\n",
       "      <td>5172</td>\n",
       "      <td>True</td>\n",
       "    </tr>\n",
       "    <tr>\n",
       "      <th>2020-09-23 20:00:00</th>\n",
       "      <td>1.16617</td>\n",
       "      <td>1.16629</td>\n",
       "      <td>1.16541</td>\n",
       "      <td>1.16592</td>\n",
       "      <td>1775</td>\n",
       "      <td>True</td>\n",
       "    </tr>\n",
       "    <tr>\n",
       "      <th>2020-09-23 21:00:00</th>\n",
       "      <td>1.16592</td>\n",
       "      <td>1.16615</td>\n",
       "      <td>1.16551</td>\n",
       "      <td>1.16589</td>\n",
       "      <td>110</td>\n",
       "      <td>True</td>\n",
       "    </tr>\n",
       "    <tr>\n",
       "      <th>2020-09-23 22:00:00</th>\n",
       "      <td>1.16585</td>\n",
       "      <td>1.16638</td>\n",
       "      <td>1.16571</td>\n",
       "      <td>1.16610</td>\n",
       "      <td>397</td>\n",
       "      <td>True</td>\n",
       "    </tr>\n",
       "    <tr>\n",
       "      <th>2020-09-23 23:00:00</th>\n",
       "      <td>1.16612</td>\n",
       "      <td>1.16616</td>\n",
       "      <td>1.16510</td>\n",
       "      <td>1.16562</td>\n",
       "      <td>1324</td>\n",
       "      <td>True</td>\n",
       "    </tr>\n",
       "  </tbody>\n",
       "</table>\n",
       "<p>72 rows × 6 columns</p>\n",
       "</div>"
      ],
      "text/plain": [
       "                           o        h        l        c  volume  complete\n",
       "time                                                                     \n",
       "2020-09-21 00:00:00  1.18447  1.18602  1.18423  1.18587    1632      True\n",
       "2020-09-21 01:00:00  1.18588  1.18611  1.18536  1.18554    1908      True\n",
       "2020-09-21 02:00:00  1.18555  1.18619  1.18554  1.18580    1799      True\n",
       "2020-09-21 03:00:00  1.18581  1.18668  1.18559  1.18668    1380      True\n",
       "2020-09-21 04:00:00  1.18668  1.18712  1.18652  1.18660     965      True\n",
       "...                      ...      ...      ...      ...     ...       ...\n",
       "2020-09-23 19:00:00  1.16568  1.16636  1.16508  1.16620    5172      True\n",
       "2020-09-23 20:00:00  1.16617  1.16629  1.16541  1.16592    1775      True\n",
       "2020-09-23 21:00:00  1.16592  1.16615  1.16551  1.16589     110      True\n",
       "2020-09-23 22:00:00  1.16585  1.16638  1.16571  1.16610     397      True\n",
       "2020-09-23 23:00:00  1.16612  1.16616  1.16510  1.16562    1324      True\n",
       "\n",
       "[72 rows x 6 columns]"
      ]
     },
     "execution_count": 13,
     "metadata": {},
     "output_type": "execute_result"
    }
   ],
   "source": [
    "api.get_history(instrument = \"EUR_USD\", start = \"2020-09-21\", end = \"2020-09-24\",\n",
    "                granularity = \"H1\", price = \"B\")"
   ]
  },
  {
   "cell_type": "code",
   "execution_count": 14,
   "metadata": {},
   "outputs": [
    {
     "ename": "TypeError",
     "evalue": "'NoneType' object is not subscriptable",
     "output_type": "error",
     "traceback": [
      "\u001b[0;31m---------------------------------------------------------------------------\u001b[0m",
      "\u001b[0;31mTypeError\u001b[0m                                 Traceback (most recent call last)",
      "\u001b[0;32m<ipython-input-14-06644f20c6b2>\u001b[0m in \u001b[0;36m<module>\u001b[0;34m\u001b[0m\n\u001b[0;32m----> 1\u001b[0;31m \u001b[0mapi\u001b[0m\u001b[0;34m.\u001b[0m\u001b[0mstream_data\u001b[0m\u001b[0;34m(\u001b[0m\u001b[0;34m[\u001b[0m\u001b[0;34m\"EUR_USD\"\u001b[0m\u001b[0;34m,\u001b[0m\u001b[0;34m\"EUR_PLN\"\u001b[0m\u001b[0;34m]\u001b[0m\u001b[0;34m,\u001b[0m \u001b[0;36m10\u001b[0m\u001b[0;34m)\u001b[0m\u001b[0;34m\u001b[0m\u001b[0;34m\u001b[0m\u001b[0m\n\u001b[0m",
      "\u001b[0;32m~/anaconda/envs/oanda/lib/python3.7/site-packages/tpqoa/tpqoa.py\u001b[0m in \u001b[0;36mstream_data\u001b[0;34m(self, instrument, stop, ret)\u001b[0m\n\u001b[1;32m    284\u001b[0m                 \u001b[0mself\u001b[0m\u001b[0;34m.\u001b[0m\u001b[0mtime\u001b[0m \u001b[0;34m=\u001b[0m \u001b[0mmsg\u001b[0m\u001b[0;34m.\u001b[0m\u001b[0mtime\u001b[0m\u001b[0;34m\u001b[0m\u001b[0;34m\u001b[0m\u001b[0m\n\u001b[1;32m    285\u001b[0m                 self.on_success(msg.time,\n\u001b[0;32m--> 286\u001b[0;31m                                 \u001b[0mfloat\u001b[0m\u001b[0;34m(\u001b[0m\u001b[0mmsg\u001b[0m\u001b[0;34m.\u001b[0m\u001b[0mbids\u001b[0m\u001b[0;34m[\u001b[0m\u001b[0;36m0\u001b[0m\u001b[0;34m]\u001b[0m\u001b[0;34m.\u001b[0m\u001b[0mdict\u001b[0m\u001b[0;34m(\u001b[0m\u001b[0;34m)\u001b[0m\u001b[0;34m[\u001b[0m\u001b[0;34m'price'\u001b[0m\u001b[0;34m]\u001b[0m\u001b[0;34m)\u001b[0m\u001b[0;34m,\u001b[0m\u001b[0;34m\u001b[0m\u001b[0;34m\u001b[0m\u001b[0m\n\u001b[0m\u001b[1;32m    287\u001b[0m                                 float(msg.asks[0].dict()['price']))\n\u001b[1;32m    288\u001b[0m                 \u001b[0;32mif\u001b[0m \u001b[0mstop\u001b[0m \u001b[0;32mis\u001b[0m \u001b[0;32mnot\u001b[0m \u001b[0;32mNone\u001b[0m\u001b[0;34m:\u001b[0m\u001b[0;34m\u001b[0m\u001b[0;34m\u001b[0m\u001b[0m\n",
      "\u001b[0;31mTypeError\u001b[0m: 'NoneType' object is not subscriptable"
     ]
    }
   ],
   "source": [
    "api.stream_data([\"EUR_USD\",\"EUR_PLN\"], 10)"
   ]
  },
  {
   "cell_type": "code",
   "execution_count": 61,
   "metadata": {},
   "outputs": [],
   "source": [
    "api.get_history??\n",
    "    #instrument = \"EUR_USD\", start = \"2020-09-21\", end = \"2020-09-24\",\n",
    "     #           granularity = \"H1\", price = \"B\")"
   ]
  },
  {
   "cell_type": "code",
   "execution_count": 62,
   "metadata": {},
   "outputs": [],
   "source": [
    "EUR_USD_20200921_ASK = api.get_history(instrument = \"EUR_USD\", start = \"2020-09-21\", end = \"2020-10-30\",\n",
    "                granularity = \"M1\", price = \"A\")"
   ]
  },
  {
   "cell_type": "code",
   "execution_count": 63,
   "metadata": {},
   "outputs": [],
   "source": [
    "EUR_USD_20200921_BID = api.get_history(instrument = \"EUR_USD\", start = \"2020-09-21\", end = \"2020-10-30\",\n",
    "                granularity = \"M1\", price = \"B\")"
   ]
  },
  {
   "cell_type": "code",
   "execution_count": 64,
   "metadata": {},
   "outputs": [],
   "source": [
    "SPREAD_EUR_USD_20200921 = - EUR_USD_20200921_BID.iloc[:,:4].to_numpy() + EUR_USD_20200921_ASK.iloc[:,:4].to_numpy()"
   ]
  },
  {
   "cell_type": "code",
   "execution_count": 69,
   "metadata": {},
   "outputs": [
    {
     "data": {
      "image/png": "[encoded data removed]",
      "text/plain": [
       "<Figure size 1296x504 with 1 Axes>"
      ]
     },
     "metadata": {
      "needs_background": "light"
     },
     "output_type": "display_data"
    }
   ],
   "source": [
    "plt.figure(figsize=(18,7))\n",
    "plt.plot(SPREAD_EUR_USD_20200921.T[0,:14000])\n",
    "plt.plot(SPREAD_EUR_USD_20200921.T[1,:14000])\n",
    "plt.plot(SPREAD_EUR_USD_20200921.T[2,:14000])\n",
    "plt.plot(SPREAD_EUR_USD_20200921.T[3,:14000])\n",
    "plt.show()"
   ]
  },
  {
   "cell_type": "code",
   "execution_count": 68,
   "metadata": {},
   "outputs": [
    {
     "data": {
      "text/plain": [
       "1440"
      ]
     },
     "execution_count": 68,
     "metadata": {},
     "output_type": "execute_result"
    }
   ],
   "source": [
    "60*24"
   ]
  },
  {
   "cell_type": "code",
   "execution_count": 87,
   "metadata": {},
   "outputs": [
    {
     "data": {
      "text/plain": [
       "time\n",
       "2020-09-21 00:00:00    0.00014\n",
       "2020-09-21 00:01:00    0.00015\n",
       "2020-09-21 00:02:00    0.00014\n",
       "2020-09-21 00:03:00    0.00015\n",
       "2020-09-21 00:04:00    0.00015\n",
       "                        ...   \n",
       "2020-10-29 23:56:00    0.00011\n",
       "2020-10-29 23:57:00    0.00014\n",
       "2020-10-29 23:58:00    0.00012\n",
       "2020-10-29 23:59:00    0.00014\n",
       "2020-10-30 00:00:00    0.00013\n",
       "Name: c, Length: 40570, dtype: float64"
      ]
     },
     "execution_count": 87,
     "metadata": {},
     "output_type": "execute_result"
    }
   ],
   "source": [
    "EUR_USD_20200921_ASK[\"c\"] - EUR_USD_20200921_BID[\"c\"]"
   ]
  },
  {
   "cell_type": "code",
   "execution_count": 83,
   "metadata": {},
   "outputs": [],
   "source": [
    "import pandas as pd"
   ]
  },
  {
   "cell_type": "code",
   "execution_count": 89,
   "metadata": {},
   "outputs": [],
   "source": [
    "EUR_USD_20200921 = pd.DataFrame()"
   ]
  },
  {
   "cell_type": "code",
   "execution_count": 92,
   "metadata": {},
   "outputs": [
    {
     "name": "stdout",
     "output_type": "stream",
     "text": [
      "o\n",
      "h\n",
      "l\n",
      "c\n"
     ]
    }
   ],
   "source": [
    "for p in \"ohlc\":\n",
    "    print(p)\n",
    "    EUR_USD_20200921['sprd_{}'.format(p)] = EUR_USD_20200921_ASK['{}'.format(p)] - \\\n",
    "                                            EUR_USD_20200921_BID['{}'.format(p)] \n",
    "    EUR_USD_20200921['ask_{}'.format(p)] =  EUR_USD_20200921_ASK['{}'.format(p)]\n",
    "    EUR_USD_20200921['bid_{}'.format(p)] =  EUR_USD_20200921_BID['{}'.format(p)] \n",
    "EUR_USD_20200921['volume'] = EUR_USD_20200921_ASK[\"volume\"]"
   ]
  },
  {
   "cell_type": "code",
   "execution_count": 95,
   "metadata": {},
   "outputs": [
    {
     "name": "stdout",
     "output_type": "stream",
     "text": [
      "<class 'pandas.core.frame.DataFrame'>\n",
      "DatetimeIndex: 40570 entries, 2020-09-21 00:00:00 to 2020-10-30 00:00:00\n",
      "Data columns (total 13 columns):\n",
      " #   Column  Non-Null Count  Dtype  \n",
      "---  ------  --------------  -----  \n",
      " 0   sprd_o  40570 non-null  float64\n",
      " 1   ask_o   40570 non-null  float64\n",
      " 2   bid_o   40570 non-null  float64\n",
      " 3   sprd_h  40570 non-null  float64\n",
      " 4   ask_h   40570 non-null  float64\n",
      " 5   bid_h   40570 non-null  float64\n",
      " 6   sprd_l  40570 non-null  float64\n",
      " 7   ask_l   40570 non-null  float64\n",
      " 8   bid_l   40570 non-null  float64\n",
      " 9   sprd_c  40570 non-null  float64\n",
      " 10  ask_c   40570 non-null  float64\n",
      " 11  bid_c   40570 non-null  float64\n",
      " 12  volume  40570 non-null  int64  \n",
      "dtypes: float64(12), int64(1)\n",
      "memory usage: 4.3 MB\n"
     ]
    }
   ],
   "source": [
    "EUR_USD_20200921.info()"
   ]
  },
  {
   "cell_type": "code",
   "execution_count": 94,
   "metadata": {},
   "outputs": [
    {
     "data": {
      "text/html": [
       "<div>\n",
       "<style scoped>\n",
       "    .dataframe tbody tr th:only-of-type {\n",
       "        vertical-align: middle;\n",
       "    }\n",
       "\n",
       "    .dataframe tbody tr th {\n",
       "        vertical-align: top;\n",
       "    }\n",
       "\n",
       "    .dataframe thead th {\n",
       "        text-align: right;\n",
       "    }\n",
       "</style>\n",
       "<table border=\"1\" class=\"dataframe\">\n",
       "  <thead>\n",
       "    <tr style=\"text-align: right;\">\n",
       "      <th></th>\n",
       "      <th>sprd_o</th>\n",
       "      <th>ask_o</th>\n",
       "      <th>bid_o</th>\n",
       "      <th>sprd_h</th>\n",
       "      <th>ask_h</th>\n",
       "      <th>bid_h</th>\n",
       "      <th>sprd_l</th>\n",
       "      <th>ask_l</th>\n",
       "      <th>bid_l</th>\n",
       "      <th>sprd_c</th>\n",
       "      <th>ask_c</th>\n",
       "      <th>bid_c</th>\n",
       "      <th>volume</th>\n",
       "    </tr>\n",
       "    <tr>\n",
       "      <th>time</th>\n",
       "      <th></th>\n",
       "      <th></th>\n",
       "      <th></th>\n",
       "      <th></th>\n",
       "      <th></th>\n",
       "      <th></th>\n",
       "      <th></th>\n",
       "      <th></th>\n",
       "      <th></th>\n",
       "      <th></th>\n",
       "      <th></th>\n",
       "      <th></th>\n",
       "      <th></th>\n",
       "    </tr>\n",
       "  </thead>\n",
       "  <tbody>\n",
       "    <tr>\n",
       "      <th>2020-09-21 00:00:00</th>\n",
       "      <td>0.00016</td>\n",
       "      <td>1.18463</td>\n",
       "      <td>1.18447</td>\n",
       "      <td>0.00014</td>\n",
       "      <td>1.18470</td>\n",
       "      <td>1.18456</td>\n",
       "      <td>0.00015</td>\n",
       "      <td>1.18458</td>\n",
       "      <td>1.18443</td>\n",
       "      <td>0.00014</td>\n",
       "      <td>1.18470</td>\n",
       "      <td>1.18456</td>\n",
       "      <td>24</td>\n",
       "    </tr>\n",
       "    <tr>\n",
       "      <th>2020-09-21 00:01:00</th>\n",
       "      <td>0.00014</td>\n",
       "      <td>1.18469</td>\n",
       "      <td>1.18455</td>\n",
       "      <td>0.00015</td>\n",
       "      <td>1.18481</td>\n",
       "      <td>1.18466</td>\n",
       "      <td>0.00015</td>\n",
       "      <td>1.18468</td>\n",
       "      <td>1.18453</td>\n",
       "      <td>0.00015</td>\n",
       "      <td>1.18481</td>\n",
       "      <td>1.18466</td>\n",
       "      <td>19</td>\n",
       "    </tr>\n",
       "    <tr>\n",
       "      <th>2020-09-21 00:02:00</th>\n",
       "      <td>0.00016</td>\n",
       "      <td>1.18480</td>\n",
       "      <td>1.18464</td>\n",
       "      <td>0.00014</td>\n",
       "      <td>1.18486</td>\n",
       "      <td>1.18472</td>\n",
       "      <td>0.00014</td>\n",
       "      <td>1.18475</td>\n",
       "      <td>1.18461</td>\n",
       "      <td>0.00014</td>\n",
       "      <td>1.18486</td>\n",
       "      <td>1.18472</td>\n",
       "      <td>20</td>\n",
       "    </tr>\n",
       "    <tr>\n",
       "      <th>2020-09-21 00:03:00</th>\n",
       "      <td>0.00014</td>\n",
       "      <td>1.18487</td>\n",
       "      <td>1.18473</td>\n",
       "      <td>0.00015</td>\n",
       "      <td>1.18501</td>\n",
       "      <td>1.18486</td>\n",
       "      <td>0.00014</td>\n",
       "      <td>1.18485</td>\n",
       "      <td>1.18471</td>\n",
       "      <td>0.00015</td>\n",
       "      <td>1.18501</td>\n",
       "      <td>1.18486</td>\n",
       "      <td>22</td>\n",
       "    </tr>\n",
       "    <tr>\n",
       "      <th>2020-09-21 00:04:00</th>\n",
       "      <td>0.00015</td>\n",
       "      <td>1.18499</td>\n",
       "      <td>1.18484</td>\n",
       "      <td>0.00014</td>\n",
       "      <td>1.18500</td>\n",
       "      <td>1.18486</td>\n",
       "      <td>0.00015</td>\n",
       "      <td>1.18491</td>\n",
       "      <td>1.18476</td>\n",
       "      <td>0.00015</td>\n",
       "      <td>1.18491</td>\n",
       "      <td>1.18476</td>\n",
       "      <td>17</td>\n",
       "    </tr>\n",
       "  </tbody>\n",
       "</table>\n",
       "</div>"
      ],
      "text/plain": [
       "                      sprd_o    ask_o    bid_o   sprd_h    ask_h    bid_h  \\\n",
       "time                                                                        \n",
       "2020-09-21 00:00:00  0.00016  1.18463  1.18447  0.00014  1.18470  1.18456   \n",
       "2020-09-21 00:01:00  0.00014  1.18469  1.18455  0.00015  1.18481  1.18466   \n",
       "2020-09-21 00:02:00  0.00016  1.18480  1.18464  0.00014  1.18486  1.18472   \n",
       "2020-09-21 00:03:00  0.00014  1.18487  1.18473  0.00015  1.18501  1.18486   \n",
       "2020-09-21 00:04:00  0.00015  1.18499  1.18484  0.00014  1.18500  1.18486   \n",
       "\n",
       "                      sprd_l    ask_l    bid_l   sprd_c    ask_c    bid_c  \\\n",
       "time                                                                        \n",
       "2020-09-21 00:00:00  0.00015  1.18458  1.18443  0.00014  1.18470  1.18456   \n",
       "2020-09-21 00:01:00  0.00015  1.18468  1.18453  0.00015  1.18481  1.18466   \n",
       "2020-09-21 00:02:00  0.00014  1.18475  1.18461  0.00014  1.18486  1.18472   \n",
       "2020-09-21 00:03:00  0.00014  1.18485  1.18471  0.00015  1.18501  1.18486   \n",
       "2020-09-21 00:04:00  0.00015  1.18491  1.18476  0.00015  1.18491  1.18476   \n",
       "\n",
       "                     volume  \n",
       "time                         \n",
       "2020-09-21 00:00:00      24  \n",
       "2020-09-21 00:01:00      19  \n",
       "2020-09-21 00:02:00      20  \n",
       "2020-09-21 00:03:00      22  \n",
       "2020-09-21 00:04:00      17  "
      ]
     },
     "execution_count": 94,
     "metadata": {},
     "output_type": "execute_result"
    }
   ],
   "source": [
    "EUR_USD_20200921.head()"
   ]
  },
  {
   "cell_type": "code",
   "execution_count": 97,
   "metadata": {},
   "outputs": [
    {
     "data": {
      "text/html": [
       "<div>\n",
       "<style scoped>\n",
       "    .dataframe tbody tr th:only-of-type {\n",
       "        vertical-align: middle;\n",
       "    }\n",
       "\n",
       "    .dataframe tbody tr th {\n",
       "        vertical-align: top;\n",
       "    }\n",
       "\n",
       "    .dataframe thead th {\n",
       "        text-align: right;\n",
       "    }\n",
       "</style>\n",
       "<table border=\"1\" class=\"dataframe\">\n",
       "  <thead>\n",
       "    <tr style=\"text-align: right;\">\n",
       "      <th></th>\n",
       "      <th>sprd_o</th>\n",
       "      <th>ask_o</th>\n",
       "      <th>bid_o</th>\n",
       "      <th>sprd_h</th>\n",
       "      <th>ask_h</th>\n",
       "      <th>bid_h</th>\n",
       "      <th>sprd_l</th>\n",
       "      <th>ask_l</th>\n",
       "      <th>bid_l</th>\n",
       "      <th>sprd_c</th>\n",
       "      <th>ask_c</th>\n",
       "      <th>bid_c</th>\n",
       "      <th>volume</th>\n",
       "      <th>c</th>\n",
       "    </tr>\n",
       "    <tr>\n",
       "      <th>time</th>\n",
       "      <th></th>\n",
       "      <th></th>\n",
       "      <th></th>\n",
       "      <th></th>\n",
       "      <th></th>\n",
       "      <th></th>\n",
       "      <th></th>\n",
       "      <th></th>\n",
       "      <th></th>\n",
       "      <th></th>\n",
       "      <th></th>\n",
       "      <th></th>\n",
       "      <th></th>\n",
       "      <th></th>\n",
       "    </tr>\n",
       "  </thead>\n",
       "  <tbody>\n",
       "    <tr>\n",
       "      <th>2020-09-21 00:00:00</th>\n",
       "      <td>0.00016</td>\n",
       "      <td>1.18463</td>\n",
       "      <td>1.18447</td>\n",
       "      <td>0.00014</td>\n",
       "      <td>1.18470</td>\n",
       "      <td>1.18456</td>\n",
       "      <td>0.00015</td>\n",
       "      <td>1.18458</td>\n",
       "      <td>1.18443</td>\n",
       "      <td>0.00014</td>\n",
       "      <td>1.18470</td>\n",
       "      <td>1.18456</td>\n",
       "      <td>24</td>\n",
       "      <td>2.36926</td>\n",
       "    </tr>\n",
       "    <tr>\n",
       "      <th>2020-09-21 00:01:00</th>\n",
       "      <td>0.00014</td>\n",
       "      <td>1.18469</td>\n",
       "      <td>1.18455</td>\n",
       "      <td>0.00015</td>\n",
       "      <td>1.18481</td>\n",
       "      <td>1.18466</td>\n",
       "      <td>0.00015</td>\n",
       "      <td>1.18468</td>\n",
       "      <td>1.18453</td>\n",
       "      <td>0.00015</td>\n",
       "      <td>1.18481</td>\n",
       "      <td>1.18466</td>\n",
       "      <td>19</td>\n",
       "      <td>2.36947</td>\n",
       "    </tr>\n",
       "    <tr>\n",
       "      <th>2020-09-21 00:02:00</th>\n",
       "      <td>0.00016</td>\n",
       "      <td>1.18480</td>\n",
       "      <td>1.18464</td>\n",
       "      <td>0.00014</td>\n",
       "      <td>1.18486</td>\n",
       "      <td>1.18472</td>\n",
       "      <td>0.00014</td>\n",
       "      <td>1.18475</td>\n",
       "      <td>1.18461</td>\n",
       "      <td>0.00014</td>\n",
       "      <td>1.18486</td>\n",
       "      <td>1.18472</td>\n",
       "      <td>20</td>\n",
       "      <td>2.36958</td>\n",
       "    </tr>\n",
       "    <tr>\n",
       "      <th>2020-09-21 00:03:00</th>\n",
       "      <td>0.00014</td>\n",
       "      <td>1.18487</td>\n",
       "      <td>1.18473</td>\n",
       "      <td>0.00015</td>\n",
       "      <td>1.18501</td>\n",
       "      <td>1.18486</td>\n",
       "      <td>0.00014</td>\n",
       "      <td>1.18485</td>\n",
       "      <td>1.18471</td>\n",
       "      <td>0.00015</td>\n",
       "      <td>1.18501</td>\n",
       "      <td>1.18486</td>\n",
       "      <td>22</td>\n",
       "      <td>2.36987</td>\n",
       "    </tr>\n",
       "    <tr>\n",
       "      <th>2020-09-21 00:04:00</th>\n",
       "      <td>0.00015</td>\n",
       "      <td>1.18499</td>\n",
       "      <td>1.18484</td>\n",
       "      <td>0.00014</td>\n",
       "      <td>1.18500</td>\n",
       "      <td>1.18486</td>\n",
       "      <td>0.00015</td>\n",
       "      <td>1.18491</td>\n",
       "      <td>1.18476</td>\n",
       "      <td>0.00015</td>\n",
       "      <td>1.18491</td>\n",
       "      <td>1.18476</td>\n",
       "      <td>17</td>\n",
       "      <td>2.36967</td>\n",
       "    </tr>\n",
       "  </tbody>\n",
       "</table>\n",
       "</div>"
      ],
      "text/plain": [
       "                      sprd_o    ask_o    bid_o   sprd_h    ask_h    bid_h  \\\n",
       "time                                                                        \n",
       "2020-09-21 00:00:00  0.00016  1.18463  1.18447  0.00014  1.18470  1.18456   \n",
       "2020-09-21 00:01:00  0.00014  1.18469  1.18455  0.00015  1.18481  1.18466   \n",
       "2020-09-21 00:02:00  0.00016  1.18480  1.18464  0.00014  1.18486  1.18472   \n",
       "2020-09-21 00:03:00  0.00014  1.18487  1.18473  0.00015  1.18501  1.18486   \n",
       "2020-09-21 00:04:00  0.00015  1.18499  1.18484  0.00014  1.18500  1.18486   \n",
       "\n",
       "                      sprd_l    ask_l    bid_l   sprd_c    ask_c    bid_c  \\\n",
       "time                                                                        \n",
       "2020-09-21 00:00:00  0.00015  1.18458  1.18443  0.00014  1.18470  1.18456   \n",
       "2020-09-21 00:01:00  0.00015  1.18468  1.18453  0.00015  1.18481  1.18466   \n",
       "2020-09-21 00:02:00  0.00014  1.18475  1.18461  0.00014  1.18486  1.18472   \n",
       "2020-09-21 00:03:00  0.00014  1.18485  1.18471  0.00015  1.18501  1.18486   \n",
       "2020-09-21 00:04:00  0.00015  1.18491  1.18476  0.00015  1.18491  1.18476   \n",
       "\n",
       "                     volume        c  \n",
       "time                                  \n",
       "2020-09-21 00:00:00      24  2.36926  \n",
       "2020-09-21 00:01:00      19  2.36947  \n",
       "2020-09-21 00:02:00      20  2.36958  \n",
       "2020-09-21 00:03:00      22  2.36987  \n",
       "2020-09-21 00:04:00      17  2.36967  "
      ]
     },
     "execution_count": 97,
     "metadata": {},
     "output_type": "execute_result"
    }
   ],
   "source": [
    "EUR_USD_20200921['c'] = EUR_USD_20200921_ASK['c'.format(p)] + \\\n",
    "                                            EUR_USD_20200921_BID['c']\n",
    "EUR_USD_20200921.head()"
   ]
  },
  {
   "cell_type": "code",
   "execution_count": 99,
   "metadata": {},
   "outputs": [],
   "source": [
    "api??"
   ]
  },
  {
   "cell_type": "code",
   "execution_count": 100,
   "metadata": {},
   "outputs": [],
   "source": [
    "import pandas as pd\n"
   ]
  },
  {
   "cell_type": "code",
   "execution_count": 101,
   "metadata": {},
   "outputs": [],
   "source": [
    "df2 = pd.DataFrame([[5, 6], [7, 8]], columns=list('AB'))"
   ]
  },
  {
   "cell_type": "code",
   "execution_count": 102,
   "metadata": {},
   "outputs": [
    {
     "data": {
      "text/html": [
       "<div>\n",
       "<style scoped>\n",
       "    .dataframe tbody tr th:only-of-type {\n",
       "        vertical-align: middle;\n",
       "    }\n",
       "\n",
       "    .dataframe tbody tr th {\n",
       "        vertical-align: top;\n",
       "    }\n",
       "\n",
       "    .dataframe thead th {\n",
       "        text-align: right;\n",
       "    }\n",
       "</style>\n",
       "<table border=\"1\" class=\"dataframe\">\n",
       "  <thead>\n",
       "    <tr style=\"text-align: right;\">\n",
       "      <th></th>\n",
       "      <th>A</th>\n",
       "      <th>B</th>\n",
       "    </tr>\n",
       "  </thead>\n",
       "  <tbody>\n",
       "    <tr>\n",
       "      <th>0</th>\n",
       "      <td>5</td>\n",
       "      <td>6</td>\n",
       "    </tr>\n",
       "    <tr>\n",
       "      <th>1</th>\n",
       "      <td>7</td>\n",
       "      <td>8</td>\n",
       "    </tr>\n",
       "  </tbody>\n",
       "</table>\n",
       "</div>"
      ],
      "text/plain": [
       "   A  B\n",
       "0  5  6\n",
       "1  7  8"
      ]
     },
     "execution_count": 102,
     "metadata": {},
     "output_type": "execute_result"
    }
   ],
   "source": [
    "df2"
   ]
  },
  {
   "cell_type": "code",
   "execution_count": 105,
   "metadata": {},
   "outputs": [
    {
     "data": {
      "text/html": [
       "<div>\n",
       "<style scoped>\n",
       "    .dataframe tbody tr th:only-of-type {\n",
       "        vertical-align: middle;\n",
       "    }\n",
       "\n",
       "    .dataframe tbody tr th {\n",
       "        vertical-align: top;\n",
       "    }\n",
       "\n",
       "    .dataframe thead th {\n",
       "        text-align: right;\n",
       "    }\n",
       "</style>\n",
       "<table border=\"1\" class=\"dataframe\">\n",
       "  <thead>\n",
       "    <tr style=\"text-align: right;\">\n",
       "      <th></th>\n",
       "      <th>A</th>\n",
       "      <th>B</th>\n",
       "    </tr>\n",
       "  </thead>\n",
       "  <tbody>\n",
       "    <tr>\n",
       "      <th>0</th>\n",
       "      <td>5</td>\n",
       "      <td>6</td>\n",
       "    </tr>\n",
       "    <tr>\n",
       "      <th>1</th>\n",
       "      <td>7</td>\n",
       "      <td>8</td>\n",
       "    </tr>\n",
       "    <tr>\n",
       "      <th>2</th>\n",
       "      <td>3</td>\n",
       "      <td>3</td>\n",
       "    </tr>\n",
       "  </tbody>\n",
       "</table>\n",
       "</div>"
      ],
      "text/plain": [
       "   A  B\n",
       "0  5  6\n",
       "1  7  8\n",
       "2  3  3"
      ]
     },
     "execution_count": 105,
     "metadata": {},
     "output_type": "execute_result"
    }
   ],
   "source": [
    "df2.append(pd.DataFrame([[3,3]], columns=list('AB')), ignore_index=True) "
   ]
  },
  {
   "cell_type": "code",
   "execution_count": 106,
   "metadata": {},
   "outputs": [
    {
     "data": {
      "text/html": [
       "<div>\n",
       "<style scoped>\n",
       "    .dataframe tbody tr th:only-of-type {\n",
       "        vertical-align: middle;\n",
       "    }\n",
       "\n",
       "    .dataframe tbody tr th {\n",
       "        vertical-align: top;\n",
       "    }\n",
       "\n",
       "    .dataframe thead th {\n",
       "        text-align: right;\n",
       "    }\n",
       "</style>\n",
       "<table border=\"1\" class=\"dataframe\">\n",
       "  <thead>\n",
       "    <tr style=\"text-align: right;\">\n",
       "      <th></th>\n",
       "      <th>A</th>\n",
       "      <th>B</th>\n",
       "    </tr>\n",
       "  </thead>\n",
       "  <tbody>\n",
       "    <tr>\n",
       "      <th>0</th>\n",
       "      <td>5</td>\n",
       "      <td>6</td>\n",
       "    </tr>\n",
       "    <tr>\n",
       "      <th>1</th>\n",
       "      <td>7</td>\n",
       "      <td>8</td>\n",
       "    </tr>\n",
       "  </tbody>\n",
       "</table>\n",
       "</div>"
      ],
      "text/plain": [
       "   A  B\n",
       "0  5  6\n",
       "1  7  8"
      ]
     },
     "execution_count": 106,
     "metadata": {},
     "output_type": "execute_result"
    }
   ],
   "source": [
    "df2"
   ]
  },
  {
   "cell_type": "code",
   "execution_count": null,
   "metadata": {},
   "outputs": [],
   "source": []
  }
 ],
 "metadata": {
  "kernelspec": {
   "display_name": "Python 3",
   "language": "python",
   "name": "python3"
  },
  "language_info": {
   "codemirror_mode": {
    "name": "ipython",
    "version": 3
   },
   "file_extension": ".py",
   "mimetype": "text/x-python",
   "name": "python",
   "nbconvert_exporter": "python",
   "pygments_lexer": "ipython3",
   "version": "3.7.10"
  }
 },
 "nbformat": 4,
 "nbformat_minor": 1
}
